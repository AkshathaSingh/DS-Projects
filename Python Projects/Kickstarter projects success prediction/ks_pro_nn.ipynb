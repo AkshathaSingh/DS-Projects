{
 "cells": [
  {
   "cell_type": "markdown",
   "metadata": {},
   "source": [
    "### Kickstarter projects success prediction model using neural networks"
   ]
  },
  {
   "cell_type": "code",
   "execution_count": 1,
   "metadata": {},
   "outputs": [],
   "source": [
    "# libraries required\n",
    "import pandas as pd\n",
    "import numpy as np\n",
    "import seaborn as sns\n",
    "import matplotlib.pyplot as plt\n",
    "%matplotlib inline\n",
    "sns.set_style('whitegrid')\n",
    "from sklearn.model_selection import train_test_split"
   ]
  },
  {
   "cell_type": "markdown",
   "metadata": {},
   "source": [
    "#### Data collection"
   ]
  },
  {
   "cell_type": "code",
   "execution_count": 2,
   "metadata": {},
   "outputs": [],
   "source": [
    "df = pd.read_csv('ks-projects-201801.csv')"
   ]
  },
  {
   "cell_type": "code",
   "execution_count": 3,
   "metadata": {},
   "outputs": [
    {
     "data": {
      "text/html": [
       "<div>\n",
       "<style scoped>\n",
       "    .dataframe tbody tr th:only-of-type {\n",
       "        vertical-align: middle;\n",
       "    }\n",
       "\n",
       "    .dataframe tbody tr th {\n",
       "        vertical-align: top;\n",
       "    }\n",
       "\n",
       "    .dataframe thead th {\n",
       "        text-align: right;\n",
       "    }\n",
       "</style>\n",
       "<table border=\"1\" class=\"dataframe\">\n",
       "  <thead>\n",
       "    <tr style=\"text-align: right;\">\n",
       "      <th></th>\n",
       "      <th>ID</th>\n",
       "      <th>name</th>\n",
       "      <th>category</th>\n",
       "      <th>main_category</th>\n",
       "      <th>currency</th>\n",
       "      <th>deadline</th>\n",
       "      <th>goal</th>\n",
       "      <th>launched</th>\n",
       "      <th>pledged</th>\n",
       "      <th>state</th>\n",
       "      <th>backers</th>\n",
       "      <th>country</th>\n",
       "      <th>usd pledged</th>\n",
       "      <th>usd_pledged_real</th>\n",
       "      <th>usd_goal_real</th>\n",
       "    </tr>\n",
       "  </thead>\n",
       "  <tbody>\n",
       "    <tr>\n",
       "      <th>0</th>\n",
       "      <td>1000002330</td>\n",
       "      <td>The Songs of Adelaide &amp; Abullah</td>\n",
       "      <td>Poetry</td>\n",
       "      <td>Publishing</td>\n",
       "      <td>GBP</td>\n",
       "      <td>2015-10-09</td>\n",
       "      <td>1000.0</td>\n",
       "      <td>2015-08-11 12:12:28</td>\n",
       "      <td>0.0</td>\n",
       "      <td>failed</td>\n",
       "      <td>0</td>\n",
       "      <td>GB</td>\n",
       "      <td>0.0</td>\n",
       "      <td>0.0</td>\n",
       "      <td>1533.95</td>\n",
       "    </tr>\n",
       "    <tr>\n",
       "      <th>1</th>\n",
       "      <td>1000003930</td>\n",
       "      <td>Greeting From Earth: ZGAC Arts Capsule For ET</td>\n",
       "      <td>Narrative Film</td>\n",
       "      <td>Film &amp; Video</td>\n",
       "      <td>USD</td>\n",
       "      <td>2017-11-01</td>\n",
       "      <td>30000.0</td>\n",
       "      <td>2017-09-02 04:43:57</td>\n",
       "      <td>2421.0</td>\n",
       "      <td>failed</td>\n",
       "      <td>15</td>\n",
       "      <td>US</td>\n",
       "      <td>100.0</td>\n",
       "      <td>2421.0</td>\n",
       "      <td>30000.00</td>\n",
       "    </tr>\n",
       "  </tbody>\n",
       "</table>\n",
       "</div>"
      ],
      "text/plain": [
       "           ID                                           name        category  \\\n",
       "0  1000002330                The Songs of Adelaide & Abullah          Poetry   \n",
       "1  1000003930  Greeting From Earth: ZGAC Arts Capsule For ET  Narrative Film   \n",
       "\n",
       "  main_category currency    deadline     goal             launched  pledged  \\\n",
       "0    Publishing      GBP  2015-10-09   1000.0  2015-08-11 12:12:28      0.0   \n",
       "1  Film & Video      USD  2017-11-01  30000.0  2017-09-02 04:43:57   2421.0   \n",
       "\n",
       "    state  backers country  usd pledged  usd_pledged_real  usd_goal_real  \n",
       "0  failed        0      GB          0.0               0.0        1533.95  \n",
       "1  failed       15      US        100.0            2421.0       30000.00  "
      ]
     },
     "execution_count": 3,
     "metadata": {},
     "output_type": "execute_result"
    }
   ],
   "source": [
    "df.head(2)"
   ]
  },
  {
   "cell_type": "code",
   "execution_count": 4,
   "metadata": {},
   "outputs": [
    {
     "name": "stdout",
     "output_type": "stream",
     "text": [
      "<class 'pandas.core.frame.DataFrame'>\n",
      "RangeIndex: 378661 entries, 0 to 378660\n",
      "Data columns (total 15 columns):\n",
      " #   Column            Non-Null Count   Dtype  \n",
      "---  ------            --------------   -----  \n",
      " 0   ID                378661 non-null  int64  \n",
      " 1   name              378657 non-null  object \n",
      " 2   category          378661 non-null  object \n",
      " 3   main_category     378661 non-null  object \n",
      " 4   currency          378661 non-null  object \n",
      " 5   deadline          378661 non-null  object \n",
      " 6   goal              378661 non-null  float64\n",
      " 7   launched          378661 non-null  object \n",
      " 8   pledged           378661 non-null  float64\n",
      " 9   state             378661 non-null  object \n",
      " 10  backers           378661 non-null  int64  \n",
      " 11  country           378661 non-null  object \n",
      " 12  usd pledged       374864 non-null  float64\n",
      " 13  usd_pledged_real  378661 non-null  float64\n",
      " 14  usd_goal_real     378661 non-null  float64\n",
      "dtypes: float64(5), int64(2), object(8)\n",
      "memory usage: 43.3+ MB\n"
     ]
    }
   ],
   "source": [
    "df.info()"
   ]
  },
  {
   "cell_type": "markdown",
   "metadata": {},
   "source": [
    "### Data Exploration and Preprocessing"
   ]
  },
  {
   "cell_type": "code",
   "execution_count": 5,
   "metadata": {},
   "outputs": [
    {
     "data": {
      "text/plain": [
       "23"
      ]
     },
     "execution_count": 5,
     "metadata": {},
     "output_type": "execute_result"
    }
   ],
   "source": [
    "len(df['country'].value_counts())"
   ]
  },
  {
   "cell_type": "code",
   "execution_count": 6,
   "metadata": {},
   "outputs": [],
   "source": [
    "# dropping columns not relevant to our problem and target leakage features\n",
    "df.drop(['ID','name','goal','pledged','backers','usd pledged','usd_pledged_real'], axis=1, inplace=True)"
   ]
  },
  {
   "cell_type": "code",
   "execution_count": 7,
   "metadata": {},
   "outputs": [
    {
     "name": "stderr",
     "output_type": "stream",
     "text": [
      "<ipython-input-7-e6d77b5c0548>:4: FutureWarning: Columnar iteration over characters will be deprecated in future releases.\n",
      "  df['launched'], timestamp = df['launched'].str.split(' ', 1).str\n"
     ]
    }
   ],
   "source": [
    "# data type transformation of columns deadline and launched\n",
    "df['deadline'] = pd.to_datetime(df['deadline'])\n",
    "\n",
    "df['launched'], timestamp = df['launched'].str.split(' ', 1).str\n",
    "df['launched'] = pd.to_datetime(df['launched'])"
   ]
  },
  {
   "cell_type": "code",
   "execution_count": 8,
   "metadata": {},
   "outputs": [],
   "source": [
    "df['deadline_month'] = df['deadline'].dt.month\n",
    "df['launched_month'] = df['launched'].dt.month"
   ]
  },
  {
   "cell_type": "code",
   "execution_count": 9,
   "metadata": {},
   "outputs": [],
   "source": [
    "df.drop(['deadline', 'launched'], axis=1, inplace=True)"
   ]
  },
  {
   "cell_type": "code",
   "execution_count": 10,
   "metadata": {},
   "outputs": [
    {
     "data": {
      "text/plain": [
       "failed        197719\n",
       "successful    133956\n",
       "canceled       38779\n",
       "undefined       3562\n",
       "live            2799\n",
       "suspended       1846\n",
       "Name: state, dtype: int64"
      ]
     },
     "execution_count": 10,
     "metadata": {},
     "output_type": "execute_result"
    }
   ],
   "source": [
    "df['state'].value_counts()"
   ]
  },
  {
   "cell_type": "code",
   "execution_count": 11,
   "metadata": {},
   "outputs": [],
   "source": [
    "state = []\n",
    "for i in df['state']:\n",
    "    if (i == 'failed') or (i == 'successful'):\n",
    "        new_i = i\n",
    "    else:\n",
    "        new_i = 0\n",
    "    state.append(new_i)\n",
    "    \n",
    "df['n_state'] = state"
   ]
  },
  {
   "cell_type": "code",
   "execution_count": 12,
   "metadata": {},
   "outputs": [],
   "source": [
    "df.drop((df[df['n_state'] == 0]['n_state']).index.tolist(), inplace=True)"
   ]
  },
  {
   "cell_type": "code",
   "execution_count": 13,
   "metadata": {},
   "outputs": [],
   "source": [
    "df.drop('n_state', axis=1, inplace=True)"
   ]
  },
  {
   "cell_type": "code",
   "execution_count": 14,
   "metadata": {},
   "outputs": [
    {
     "data": {
      "text/plain": [
       "US      261360\n",
       "GB       29454\n",
       "CA       12370\n",
       "AU        6616\n",
       "DE        3436\n",
       "FR        2520\n",
       "NL        2411\n",
       "IT        2369\n",
       "ES        1873\n",
       "SE        1509\n",
       "MX        1411\n",
       "NZ        1274\n",
       "DK         926\n",
       "IE         683\n",
       "CH         652\n",
       "NO         582\n",
       "BE         523\n",
       "AT         485\n",
       "HK         477\n",
       "SG         454\n",
       "N,0\"       210\n",
       "LU          57\n",
       "JP          23\n",
       "Name: country, dtype: int64"
      ]
     },
     "execution_count": 14,
     "metadata": {},
     "output_type": "execute_result"
    }
   ],
   "source": [
    "df['country'].value_counts()"
   ]
  },
  {
   "cell_type": "code",
   "execution_count": 15,
   "metadata": {},
   "outputs": [],
   "source": [
    "df['country'].replace('N,0\"', np.nan, inplace=True)"
   ]
  },
  {
   "cell_type": "code",
   "execution_count": 16,
   "metadata": {},
   "outputs": [],
   "source": [
    "df.dropna(inplace=True)"
   ]
  },
  {
   "cell_type": "code",
   "execution_count": null,
   "metadata": {},
   "outputs": [],
   "source": [
    "# balance the data - response variable\n",
    "# log transform - usd_goal_real\n",
    "# PCA - data"
   ]
  },
  {
   "cell_type": "code",
   "execution_count": 18,
   "metadata": {},
   "outputs": [
    {
     "data": {
      "text/plain": [
       "<matplotlib.axes._subplots.AxesSubplot at 0x18a9c8bec40>"
      ]
     },
     "execution_count": 18,
     "metadata": {},
     "output_type": "execute_result"
    },
    {
     "data": {
      "image/png": "[encoded data removed]",
      "text/plain": [
       "<Figure size 432x288 with 1 Axes>"
      ]
     },
     "metadata": {},
     "output_type": "display_data"
    }
   ],
   "source": [
    "sns.countplot(df['state'])"
   ]
  },
  {
   "cell_type": "code",
   "execution_count": 19,
   "metadata": {},
   "outputs": [
    {
     "data": {
      "text/plain": [
       "<matplotlib.axes._subplots.AxesSubplot at 0x18a9ebecbe0>"
      ]
     },
     "execution_count": 19,
     "metadata": {},
     "output_type": "execute_result"
    },
    {
     "data": {
      "image/png": "[encoded data removed]",
      "text/plain": [
       "<Figure size 432x288 with 1 Axes>"
      ]
     },
     "metadata": {},
     "output_type": "display_data"
    }
   ],
   "source": [
    "df['usd_goal_real'].hist()"
   ]
  },
  {
   "cell_type": "code",
   "execution_count": 20,
   "metadata": {},
   "outputs": [
    {
     "data": {
      "text/plain": [
       "<matplotlib.axes._subplots.AxesSubplot at 0x18a9e72f5b0>"
      ]
     },
     "execution_count": 20,
     "metadata": {},
     "output_type": "execute_result"
    },
    {
     "data": {
      "image/png": "[encoded data removed]",
      "text/plain": [
       "<Figure size 432x288 with 1 Axes>"
      ]
     },
     "metadata": {},
     "output_type": "display_data"
    }
   ],
   "source": [
    "sns.boxplot(df['usd_goal_real'])"
   ]
  },
  {
   "cell_type": "code",
   "execution_count": 21,
   "metadata": {},
   "outputs": [
    {
     "name": "stdout",
     "output_type": "stream",
     "text": [
      "2000.0\n",
      "5000.0\n",
      "15000.0\n",
      "13000.0\n"
     ]
    }
   ],
   "source": [
    "# interquartile range of the usd_goal_real column\n",
    "\n",
    "sort_goal = np.sort(df['usd_goal_real'])\n",
    "\n",
    "q1 = np.percentile(sort_goal, 25, interpolation = 'midpoint')\n",
    "print(q1)\n",
    "q2 = np.percentile(sort_goal, 50, interpolation = 'midpoint')\n",
    "print(q2)\n",
    "q3 = np.percentile(sort_goal, 75, interpolation = 'midpoint')\n",
    "print(q3)\n",
    "\n",
    "IQR = q3-q1\n",
    "print(IQR)"
   ]
  },
  {
   "cell_type": "code",
   "execution_count": 22,
   "metadata": {},
   "outputs": [
    {
     "data": {
      "text/plain": [
       "<matplotlib.axes._subplots.AxesSubplot at 0x18a9e461280>"
      ]
     },
     "execution_count": 22,
     "metadata": {},
     "output_type": "execute_result"
    },
    {
     "data": {
      "image/png": "[encoded data removed]",
      "text/plain": [
       "<Figure size 432x288 with 1 Axes>"
      ]
     },
     "metadata": {},
     "output_type": "display_data"
    }
   ],
   "source": [
    "sns.countplot(df[df['usd_goal_real'] > 15000]['state'])"
   ]
  },
  {
   "cell_type": "code",
   "execution_count": 23,
   "metadata": {},
   "outputs": [],
   "source": [
    "# target column\n",
    "df['state'].replace('failed', 0, inplace=True)\n",
    "df['state'].replace('successful', 1, inplace=True)"
   ]
  },
  {
   "cell_type": "code",
   "execution_count": 24,
   "metadata": {},
   "outputs": [
    {
     "data": {
      "text/html": [
       "<div>\n",
       "<style scoped>\n",
       "    .dataframe tbody tr th:only-of-type {\n",
       "        vertical-align: middle;\n",
       "    }\n",
       "\n",
       "    .dataframe tbody tr th {\n",
       "        vertical-align: top;\n",
       "    }\n",
       "\n",
       "    .dataframe thead th {\n",
       "        text-align: right;\n",
       "    }\n",
       "</style>\n",
       "<table border=\"1\" class=\"dataframe\">\n",
       "  <thead>\n",
       "    <tr style=\"text-align: right;\">\n",
       "      <th></th>\n",
       "      <th>category</th>\n",
       "      <th>main_category</th>\n",
       "      <th>currency</th>\n",
       "      <th>state</th>\n",
       "      <th>country</th>\n",
       "      <th>usd_goal_real</th>\n",
       "      <th>deadline_month</th>\n",
       "      <th>launched_month</th>\n",
       "    </tr>\n",
       "  </thead>\n",
       "  <tbody>\n",
       "    <tr>\n",
       "      <th>0</th>\n",
       "      <td>Poetry</td>\n",
       "      <td>Publishing</td>\n",
       "      <td>GBP</td>\n",
       "      <td>0</td>\n",
       "      <td>GB</td>\n",
       "      <td>1533.95</td>\n",
       "      <td>10</td>\n",
       "      <td>8</td>\n",
       "    </tr>\n",
       "    <tr>\n",
       "      <th>1</th>\n",
       "      <td>Narrative Film</td>\n",
       "      <td>Film &amp; Video</td>\n",
       "      <td>USD</td>\n",
       "      <td>0</td>\n",
       "      <td>US</td>\n",
       "      <td>30000.00</td>\n",
       "      <td>11</td>\n",
       "      <td>9</td>\n",
       "    </tr>\n",
       "    <tr>\n",
       "      <th>2</th>\n",
       "      <td>Narrative Film</td>\n",
       "      <td>Film &amp; Video</td>\n",
       "      <td>USD</td>\n",
       "      <td>0</td>\n",
       "      <td>US</td>\n",
       "      <td>45000.00</td>\n",
       "      <td>2</td>\n",
       "      <td>1</td>\n",
       "    </tr>\n",
       "    <tr>\n",
       "      <th>3</th>\n",
       "      <td>Music</td>\n",
       "      <td>Music</td>\n",
       "      <td>USD</td>\n",
       "      <td>0</td>\n",
       "      <td>US</td>\n",
       "      <td>5000.00</td>\n",
       "      <td>4</td>\n",
       "      <td>3</td>\n",
       "    </tr>\n",
       "    <tr>\n",
       "      <th>5</th>\n",
       "      <td>Restaurants</td>\n",
       "      <td>Food</td>\n",
       "      <td>USD</td>\n",
       "      <td>1</td>\n",
       "      <td>US</td>\n",
       "      <td>50000.00</td>\n",
       "      <td>4</td>\n",
       "      <td>2</td>\n",
       "    </tr>\n",
       "  </tbody>\n",
       "</table>\n",
       "</div>"
      ],
      "text/plain": [
       "         category main_category currency  state country  usd_goal_real  \\\n",
       "0          Poetry    Publishing      GBP      0      GB        1533.95   \n",
       "1  Narrative Film  Film & Video      USD      0      US       30000.00   \n",
       "2  Narrative Film  Film & Video      USD      0      US       45000.00   \n",
       "3           Music         Music      USD      0      US        5000.00   \n",
       "5     Restaurants          Food      USD      1      US       50000.00   \n",
       "\n",
       "   deadline_month  launched_month  \n",
       "0              10               8  \n",
       "1              11               9  \n",
       "2               2               1  \n",
       "3               4               3  \n",
       "5               4               2  "
      ]
     },
     "execution_count": 24,
     "metadata": {},
     "output_type": "execute_result"
    }
   ],
   "source": [
    "df.head()"
   ]
  },
  {
   "cell_type": "code",
   "execution_count": 25,
   "metadata": {},
   "outputs": [],
   "source": [
    "data = pd.get_dummies(df, columns = ['main_category','category', 'currency', 'country'])"
   ]
  },
  {
   "cell_type": "code",
   "execution_count": 26,
   "metadata": {},
   "outputs": [
    {
     "data": {
      "text/html": [
       "<div>\n",
       "<style scoped>\n",
       "    .dataframe tbody tr th:only-of-type {\n",
       "        vertical-align: middle;\n",
       "    }\n",
       "\n",
       "    .dataframe tbody tr th {\n",
       "        vertical-align: top;\n",
       "    }\n",
       "\n",
       "    .dataframe thead th {\n",
       "        text-align: right;\n",
       "    }\n",
       "</style>\n",
       "<table border=\"1\" class=\"dataframe\">\n",
       "  <thead>\n",
       "    <tr style=\"text-align: right;\">\n",
       "      <th></th>\n",
       "      <th>state</th>\n",
       "      <th>usd_goal_real</th>\n",
       "      <th>deadline_month</th>\n",
       "      <th>launched_month</th>\n",
       "      <th>main_category_Art</th>\n",
       "      <th>main_category_Comics</th>\n",
       "      <th>main_category_Crafts</th>\n",
       "      <th>main_category_Dance</th>\n",
       "      <th>main_category_Design</th>\n",
       "      <th>main_category_Fashion</th>\n",
       "      <th>...</th>\n",
       "      <th>country_IT</th>\n",
       "      <th>country_JP</th>\n",
       "      <th>country_LU</th>\n",
       "      <th>country_MX</th>\n",
       "      <th>country_NL</th>\n",
       "      <th>country_NO</th>\n",
       "      <th>country_NZ</th>\n",
       "      <th>country_SE</th>\n",
       "      <th>country_SG</th>\n",
       "      <th>country_US</th>\n",
       "    </tr>\n",
       "  </thead>\n",
       "  <tbody>\n",
       "    <tr>\n",
       "      <th>0</th>\n",
       "      <td>0</td>\n",
       "      <td>1533.95</td>\n",
       "      <td>10</td>\n",
       "      <td>8</td>\n",
       "      <td>0</td>\n",
       "      <td>0</td>\n",
       "      <td>0</td>\n",
       "      <td>0</td>\n",
       "      <td>0</td>\n",
       "      <td>0</td>\n",
       "      <td>...</td>\n",
       "      <td>0</td>\n",
       "      <td>0</td>\n",
       "      <td>0</td>\n",
       "      <td>0</td>\n",
       "      <td>0</td>\n",
       "      <td>0</td>\n",
       "      <td>0</td>\n",
       "      <td>0</td>\n",
       "      <td>0</td>\n",
       "      <td>0</td>\n",
       "    </tr>\n",
       "    <tr>\n",
       "      <th>1</th>\n",
       "      <td>0</td>\n",
       "      <td>30000.00</td>\n",
       "      <td>11</td>\n",
       "      <td>9</td>\n",
       "      <td>0</td>\n",
       "      <td>0</td>\n",
       "      <td>0</td>\n",
       "      <td>0</td>\n",
       "      <td>0</td>\n",
       "      <td>0</td>\n",
       "      <td>...</td>\n",
       "      <td>0</td>\n",
       "      <td>0</td>\n",
       "      <td>0</td>\n",
       "      <td>0</td>\n",
       "      <td>0</td>\n",
       "      <td>0</td>\n",
       "      <td>0</td>\n",
       "      <td>0</td>\n",
       "      <td>0</td>\n",
       "      <td>1</td>\n",
       "    </tr>\n",
       "    <tr>\n",
       "      <th>2</th>\n",
       "      <td>0</td>\n",
       "      <td>45000.00</td>\n",
       "      <td>2</td>\n",
       "      <td>1</td>\n",
       "      <td>0</td>\n",
       "      <td>0</td>\n",
       "      <td>0</td>\n",
       "      <td>0</td>\n",
       "      <td>0</td>\n",
       "      <td>0</td>\n",
       "      <td>...</td>\n",
       "      <td>0</td>\n",
       "      <td>0</td>\n",
       "      <td>0</td>\n",
       "      <td>0</td>\n",
       "      <td>0</td>\n",
       "      <td>0</td>\n",
       "      <td>0</td>\n",
       "      <td>0</td>\n",
       "      <td>0</td>\n",
       "      <td>1</td>\n",
       "    </tr>\n",
       "    <tr>\n",
       "      <th>3</th>\n",
       "      <td>0</td>\n",
       "      <td>5000.00</td>\n",
       "      <td>4</td>\n",
       "      <td>3</td>\n",
       "      <td>0</td>\n",
       "      <td>0</td>\n",
       "      <td>0</td>\n",
       "      <td>0</td>\n",
       "      <td>0</td>\n",
       "      <td>0</td>\n",
       "      <td>...</td>\n",
       "      <td>0</td>\n",
       "      <td>0</td>\n",
       "      <td>0</td>\n",
       "      <td>0</td>\n",
       "      <td>0</td>\n",
       "      <td>0</td>\n",
       "      <td>0</td>\n",
       "      <td>0</td>\n",
       "      <td>0</td>\n",
       "      <td>1</td>\n",
       "    </tr>\n",
       "    <tr>\n",
       "      <th>5</th>\n",
       "      <td>1</td>\n",
       "      <td>50000.00</td>\n",
       "      <td>4</td>\n",
       "      <td>2</td>\n",
       "      <td>0</td>\n",
       "      <td>0</td>\n",
       "      <td>0</td>\n",
       "      <td>0</td>\n",
       "      <td>0</td>\n",
       "      <td>0</td>\n",
       "      <td>...</td>\n",
       "      <td>0</td>\n",
       "      <td>0</td>\n",
       "      <td>0</td>\n",
       "      <td>0</td>\n",
       "      <td>0</td>\n",
       "      <td>0</td>\n",
       "      <td>0</td>\n",
       "      <td>0</td>\n",
       "      <td>0</td>\n",
       "      <td>1</td>\n",
       "    </tr>\n",
       "  </tbody>\n",
       "</table>\n",
       "<p>5 rows × 214 columns</p>\n",
       "</div>"
      ],
      "text/plain": [
       "   state  usd_goal_real  deadline_month  launched_month  main_category_Art  \\\n",
       "0      0        1533.95              10               8                  0   \n",
       "1      0       30000.00              11               9                  0   \n",
       "2      0       45000.00               2               1                  0   \n",
       "3      0        5000.00               4               3                  0   \n",
       "5      1       50000.00               4               2                  0   \n",
       "\n",
       "   main_category_Comics  main_category_Crafts  main_category_Dance  \\\n",
       "0                     0                     0                    0   \n",
       "1                     0                     0                    0   \n",
       "2                     0                     0                    0   \n",
       "3                     0                     0                    0   \n",
       "5                     0                     0                    0   \n",
       "\n",
       "   main_category_Design  main_category_Fashion  ...  country_IT  country_JP  \\\n",
       "0                     0                      0  ...           0           0   \n",
       "1                     0                      0  ...           0           0   \n",
       "2                     0                      0  ...           0           0   \n",
       "3                     0                      0  ...           0           0   \n",
       "5                     0                      0  ...           0           0   \n",
       "\n",
       "   country_LU  country_MX  country_NL  country_NO  country_NZ  country_SE  \\\n",
       "0           0           0           0           0           0           0   \n",
       "1           0           0           0           0           0           0   \n",
       "2           0           0           0           0           0           0   \n",
       "3           0           0           0           0           0           0   \n",
       "5           0           0           0           0           0           0   \n",
       "\n",
       "   country_SG  country_US  \n",
       "0           0           0  \n",
       "1           0           1  \n",
       "2           0           1  \n",
       "3           0           1  \n",
       "5           0           1  \n",
       "\n",
       "[5 rows x 214 columns]"
      ]
     },
     "execution_count": 26,
     "metadata": {},
     "output_type": "execute_result"
    }
   ],
   "source": [
    "data.head()"
   ]
  },
  {
   "cell_type": "code",
   "execution_count": 27,
   "metadata": {},
   "outputs": [],
   "source": [
    "# train test split\n",
    "X = data.drop('state', axis=1)\n",
    "y = data['state']\n",
    "X_train, X_test, y_train, y_test = train_test_split(X, y, test_size=0.20, random_state=42)"
   ]
  },
  {
   "cell_type": "code",
   "execution_count": 28,
   "metadata": {},
   "outputs": [
    {
     "data": {
      "text/plain": [
       "<matplotlib.axes._subplots.AxesSubplot at 0x18a9e12b6d0>"
      ]
     },
     "execution_count": 28,
     "metadata": {},
     "output_type": "execute_result"
    },
    {
     "data": {
      "image/png": "[encoded data removed]",
      "text/plain": [
       "<Figure size 432x288 with 1 Axes>"
      ]
     },
     "metadata": {},
     "output_type": "display_data"
    }
   ],
   "source": [
    "(np.log(df['usd_goal_real'])).hist()"
   ]
  },
  {
   "cell_type": "code",
   "execution_count": 29,
   "metadata": {},
   "outputs": [
    {
     "name": "stderr",
     "output_type": "stream",
     "text": [
      "<ipython-input-29-e19f5ebbedda>:1: SettingWithCopyWarning: \n",
      "A value is trying to be set on a copy of a slice from a DataFrame.\n",
      "Try using .loc[row_indexer,col_indexer] = value instead\n",
      "\n",
      "See the caveats in the documentation: https://pandas.pydata.org/pandas-docs/stable/user_guide/indexing.html#returning-a-view-versus-a-copy\n",
      "  X_train['usd_goal'] = np.log(X_train['usd_goal_real'])\n"
     ]
    }
   ],
   "source": [
    "X_train['usd_goal'] = np.log(X_train['usd_goal_real'])"
   ]
  },
  {
   "cell_type": "code",
   "execution_count": 30,
   "metadata": {},
   "outputs": [
    {
     "data": {
      "text/plain": [
       "<matplotlib.axes._subplots.AxesSubplot at 0x18a9dbf8400>"
      ]
     },
     "execution_count": 30,
     "metadata": {},
     "output_type": "execute_result"
    },
    {
     "data": {
      "image/png": "[encoded data removed]",
      "text/plain": [
       "<Figure size 432x288 with 1 Axes>"
      ]
     },
     "metadata": {},
     "output_type": "display_data"
    }
   ],
   "source": [
    "X_train['usd_goal'].hist()"
   ]
  },
  {
   "cell_type": "code",
   "execution_count": 31,
   "metadata": {},
   "outputs": [
    {
     "name": "stderr",
     "output_type": "stream",
     "text": [
      "C:\\ProgramData\\Anaconda3\\lib\\site-packages\\pandas\\core\\frame.py:3990: SettingWithCopyWarning: \n",
      "A value is trying to be set on a copy of a slice from a DataFrame\n",
      "\n",
      "See the caveats in the documentation: https://pandas.pydata.org/pandas-docs/stable/user_guide/indexing.html#returning-a-view-versus-a-copy\n",
      "  return super().drop(\n"
     ]
    }
   ],
   "source": [
    "X_train.drop('usd_goal_real', axis=1, inplace=True)"
   ]
  },
  {
   "cell_type": "markdown",
   "metadata": {},
   "source": [
    "### Model training"
   ]
  },
  {
   "cell_type": "code",
   "execution_count": 32,
   "metadata": {},
   "outputs": [],
   "source": [
    "from keras.models import Sequential\n",
    "from keras.layers import Dense"
   ]
  },
  {
   "cell_type": "code",
   "execution_count": 44,
   "metadata": {},
   "outputs": [],
   "source": [
    "# define the keras model\n",
    "model = Sequential()\n",
    "model.add(Dense(30, input_dim=213, activation='relu'))\n",
    "model.add(Dense(30, activation='relu'))\n",
    "model.add(Dense(30, activation='relu'))\n",
    "model.add(Dense(1, activation='sigmoid'))"
   ]
  },
  {
   "cell_type": "code",
   "execution_count": 45,
   "metadata": {},
   "outputs": [],
   "source": [
    "# compile the keras model\n",
    "model.compile(loss='binary_crossentropy', optimizer='adam', metrics=['accuracy'])"
   ]
  },
  {
   "cell_type": "code",
   "execution_count": 27,
   "metadata": {},
   "outputs": [
    {
     "name": "stdout",
     "output_type": "stream",
     "text": [
      "Epoch 1/100\n",
      "2652/2652 [==============================] - 7s 3ms/step - loss: 0.6073 - accuracy: 0.6636\n",
      "Epoch 2/100\n",
      "2652/2652 [==============================] - 8s 3ms/step - loss: 0.5997 - accuracy: 0.6694\n",
      "Epoch 3/100\n",
      "2652/2652 [==============================] - 8s 3ms/step - loss: 0.5966 - accuracy: 0.6728\n",
      "Epoch 4/100\n",
      "2652/2652 [==============================] - 7s 3ms/step - loss: 0.5947 - accuracy: 0.6742\n",
      "Epoch 5/100\n",
      "2652/2652 [==============================] - 7s 3ms/step - loss: 0.5935 - accuracy: 0.6755\n",
      "Epoch 6/100\n",
      "2652/2652 [==============================] - 7s 3ms/step - loss: 0.5927 - accuracy: 0.6755\n",
      "Epoch 7/100\n",
      "2652/2652 [==============================] - 7s 3ms/step - loss: 0.5919 - accuracy: 0.6763\n",
      "Epoch 8/100\n",
      "2652/2652 [==============================] - 6s 2ms/step - loss: 0.5910 - accuracy: 0.6764\n",
      "Epoch 9/100\n",
      "2652/2652 [==============================] - 7s 2ms/step - loss: 0.5904 - accuracy: 0.6774\n",
      "Epoch 10/100\n",
      "2652/2652 [==============================] - 7s 2ms/step - loss: 0.5897 - accuracy: 0.6775\n",
      "Epoch 11/100\n",
      "2652/2652 [==============================] - 7s 2ms/step - loss: 0.5892 - accuracy: 0.6781\n",
      "Epoch 12/100\n",
      "2652/2652 [==============================] - 6s 2ms/step - loss: 0.5886 - accuracy: 0.6787\n",
      "Epoch 13/100\n",
      "2652/2652 [==============================] - 6s 2ms/step - loss: 0.5882 - accuracy: 0.6792\n",
      "Epoch 14/100\n",
      "2652/2652 [==============================] - 6s 2ms/step - loss: 0.5878 - accuracy: 0.6793\n",
      "Epoch 15/100\n",
      "2652/2652 [==============================] - 7s 3ms/step - loss: 0.5872 - accuracy: 0.6794\n",
      "Epoch 16/100\n",
      "2652/2652 [==============================] - 7s 3ms/step - loss: 0.5864 - accuracy: 0.6800\n",
      "Epoch 17/100\n",
      "2652/2652 [==============================] - 8s 3ms/step - loss: 0.5864 - accuracy: 0.6808\n",
      "Epoch 18/100\n",
      "2652/2652 [==============================] - 9s 4ms/step - loss: 0.5859 - accuracy: 0.6804\n",
      "Epoch 19/100\n",
      "2652/2652 [==============================] - 10s 4ms/step - loss: 0.5854 - accuracy: 0.6808\n",
      "Epoch 20/100\n",
      "2652/2652 [==============================] - 8s 3ms/step - loss: 0.5849 - accuracy: 0.6808\n",
      "Epoch 21/100\n",
      "2652/2652 [==============================] - 7s 3ms/step - loss: 0.5848 - accuracy: 0.6819\n",
      "Epoch 22/100\n",
      "2652/2652 [==============================] - 7s 3ms/step - loss: 0.5842 - accuracy: 0.6824\n",
      "Epoch 23/100\n",
      "2652/2652 [==============================] - 7s 3ms/step - loss: 0.5837 - accuracy: 0.6822\n",
      "Epoch 24/100\n",
      "2652/2652 [==============================] - 7s 3ms/step - loss: 0.5832 - accuracy: 0.6829\n",
      "Epoch 25/100\n",
      "2652/2652 [==============================] - 6s 2ms/step - loss: 0.5832 - accuracy: 0.6829\n",
      "Epoch 26/100\n",
      "2652/2652 [==============================] - 7s 3ms/step - loss: 0.5827 - accuracy: 0.6827\n",
      "Epoch 27/100\n",
      "2652/2652 [==============================] - 7s 2ms/step - loss: 0.5826 - accuracy: 0.6835\n",
      "Epoch 28/100\n",
      "2652/2652 [==============================] - 6s 2ms/step - loss: 0.5823 - accuracy: 0.6832\n",
      "Epoch 29/100\n",
      "2652/2652 [==============================] - 6s 2ms/step - loss: 0.5816 - accuracy: 0.6838\n",
      "Epoch 30/100\n",
      "2652/2652 [==============================] - 6s 2ms/step - loss: 0.5815 - accuracy: 0.6835\n",
      "Epoch 31/100\n",
      "2652/2652 [==============================] - 6s 2ms/step - loss: 0.5811 - accuracy: 0.6845\n",
      "Epoch 32/100\n",
      "2652/2652 [==============================] - 6s 2ms/step - loss: 0.5808 - accuracy: 0.6847\n",
      "Epoch 33/100\n",
      "2652/2652 [==============================] - 6s 2ms/step - loss: 0.5805 - accuracy: 0.6842\n",
      "Epoch 34/100\n",
      "2652/2652 [==============================] - 6s 2ms/step - loss: 0.5801 - accuracy: 0.6845\n",
      "Epoch 35/100\n",
      "2652/2652 [==============================] - 7s 3ms/step - loss: 0.5800 - accuracy: 0.6843\n",
      "Epoch 36/100\n",
      "2652/2652 [==============================] - 7s 3ms/step - loss: 0.5795 - accuracy: 0.6849\n",
      "Epoch 37/100\n",
      "2652/2652 [==============================] - 7s 3ms/step - loss: 0.5793 - accuracy: 0.6854\n",
      "Epoch 38/100\n",
      "2652/2652 [==============================] - 7s 3ms/step - loss: 0.5791 - accuracy: 0.6849\n",
      "Epoch 39/100\n",
      "2652/2652 [==============================] - 7s 3ms/step - loss: 0.5788 - accuracy: 0.6854\n",
      "Epoch 40/100\n",
      "2652/2652 [==============================] - 7s 3ms/step - loss: 0.5787 - accuracy: 0.6854\n",
      "Epoch 41/100\n",
      "2652/2652 [==============================] - 6s 2ms/step - loss: 0.5783 - accuracy: 0.6854\n",
      "Epoch 42/100\n",
      "2652/2652 [==============================] - 7s 2ms/step - loss: 0.5783 - accuracy: 0.6858\n",
      "Epoch 43/100\n",
      "2652/2652 [==============================] - 6s 2ms/step - loss: 0.5780 - accuracy: 0.6858\n",
      "Epoch 44/100\n",
      "2652/2652 [==============================] - 7s 3ms/step - loss: 0.5778 - accuracy: 0.6857\n",
      "Epoch 45/100\n",
      "2652/2652 [==============================] - 8s 3ms/step - loss: 0.5774 - accuracy: 0.6864\n",
      "Epoch 46/100\n",
      "2652/2652 [==============================] - 8s 3ms/step - loss: 0.5772 - accuracy: 0.6867\n",
      "Epoch 47/100\n",
      "2652/2652 [==============================] - 7s 3ms/step - loss: 0.5770 - accuracy: 0.6868\n",
      "Epoch 48/100\n",
      "2652/2652 [==============================] - 8s 3ms/step - loss: 0.5768 - accuracy: 0.6860\n",
      "Epoch 49/100\n",
      "2652/2652 [==============================] - 7s 3ms/step - loss: 0.5765 - accuracy: 0.6864\n",
      "Epoch 50/100\n",
      "2652/2652 [==============================] - 7s 2ms/step - loss: 0.5763 - accuracy: 0.6869\n",
      "Epoch 51/100\n",
      "2652/2652 [==============================] - 7s 3ms/step - loss: 0.5760 - accuracy: 0.6877\n",
      "Epoch 52/100\n",
      "2652/2652 [==============================] - 7s 3ms/step - loss: 0.5760 - accuracy: 0.6873\n",
      "Epoch 53/100\n",
      "2652/2652 [==============================] - 7s 3ms/step - loss: 0.5757 - accuracy: 0.6871\n",
      "Epoch 54/100\n",
      "2652/2652 [==============================] - 7s 3ms/step - loss: 0.5756 - accuracy: 0.6869\n",
      "Epoch 55/100\n",
      "2652/2652 [==============================] - 7s 3ms/step - loss: 0.5753 - accuracy: 0.6872\n",
      "Epoch 56/100\n",
      "2652/2652 [==============================] - 7s 3ms/step - loss: 0.5750 - accuracy: 0.6883\n",
      "Epoch 57/100\n",
      "2652/2652 [==============================] - 7s 2ms/step - loss: 0.5750 - accuracy: 0.6880\n",
      "Epoch 58/100\n",
      "2652/2652 [==============================] - 6s 2ms/step - loss: 0.5745 - accuracy: 0.6880\n",
      "Epoch 59/100\n",
      "2652/2652 [==============================] - 6s 2ms/step - loss: 0.5746 - accuracy: 0.6882\n",
      "Epoch 60/100\n",
      "2652/2652 [==============================] - 6s 2ms/step - loss: 0.5744 - accuracy: 0.6882\n",
      "Epoch 61/100\n",
      "2652/2652 [==============================] - 7s 3ms/step - loss: 0.5741 - accuracy: 0.6884\n",
      "Epoch 62/100\n",
      "2652/2652 [==============================] - 6s 2ms/step - loss: 0.5740 - accuracy: 0.6877\n",
      "Epoch 63/100\n",
      "2652/2652 [==============================] - 6s 2ms/step - loss: 0.5739 - accuracy: 0.6887\n",
      "Epoch 64/100\n",
      "2652/2652 [==============================] - 6s 2ms/step - loss: 0.5736 - accuracy: 0.6881\n",
      "Epoch 65/100\n",
      "2652/2652 [==============================] - 6s 2ms/step - loss: 0.5734 - accuracy: 0.6886\n",
      "Epoch 66/100\n",
      "2652/2652 [==============================] - 6s 2ms/step - loss: 0.5734 - accuracy: 0.6888\n",
      "Epoch 67/100\n",
      "2652/2652 [==============================] - 7s 3ms/step - loss: 0.5732 - accuracy: 0.6890\n",
      "Epoch 68/100\n",
      "2652/2652 [==============================] - 7s 3ms/step - loss: 0.5733 - accuracy: 0.6883\n",
      "Epoch 69/100\n",
      "2652/2652 [==============================] - 6s 2ms/step - loss: 0.5729 - accuracy: 0.6893\n",
      "Epoch 70/100\n",
      "2652/2652 [==============================] - 7s 2ms/step - loss: 0.5726 - accuracy: 0.6895\n",
      "Epoch 71/100\n",
      "2652/2652 [==============================] - 7s 3ms/step - loss: 0.5726 - accuracy: 0.6894\n",
      "Epoch 72/100\n",
      "2652/2652 [==============================] - 7s 3ms/step - loss: 0.5726 - accuracy: 0.6894\n",
      "Epoch 73/100\n",
      "2652/2652 [==============================] - 7s 3ms/step - loss: 0.5721 - accuracy: 0.6891\n",
      "Epoch 74/100\n",
      "2652/2652 [==============================] - 7s 3ms/step - loss: 0.5722 - accuracy: 0.6896\n",
      "Epoch 75/100\n",
      "2652/2652 [==============================] - 7s 3ms/step - loss: 0.5721 - accuracy: 0.6889\n",
      "Epoch 76/100\n",
      "2652/2652 [==============================] - 6s 2ms/step - loss: 0.5720 - accuracy: 0.6898\n",
      "Epoch 77/100\n",
      "2652/2652 [==============================] - 6s 2ms/step - loss: 0.5717 - accuracy: 0.6900\n",
      "Epoch 78/100\n",
      "2652/2652 [==============================] - 8s 3ms/step - loss: 0.5715 - accuracy: 0.6896\n",
      "Epoch 79/100\n",
      "2652/2652 [==============================] - 8s 3ms/step - loss: 0.5717 - accuracy: 0.6901\n",
      "Epoch 80/100\n",
      "2652/2652 [==============================] - 8s 3ms/step - loss: 0.5713 - accuracy: 0.6902\n",
      "Epoch 81/100\n",
      "2652/2652 [==============================] - 7s 3ms/step - loss: 0.5712 - accuracy: 0.6901\n",
      "Epoch 82/100\n",
      "2652/2652 [==============================] - 7s 3ms/step - loss: 0.5712 - accuracy: 0.6894\n",
      "Epoch 83/100\n",
      "2652/2652 [==============================] - 7s 3ms/step - loss: 0.5708 - accuracy: 0.6901\n",
      "Epoch 84/100\n",
      "2652/2652 [==============================] - 8s 3ms/step - loss: 0.5709 - accuracy: 0.6899\n",
      "Epoch 85/100\n",
      "2652/2652 [==============================] - 7s 3ms/step - loss: 0.5707 - accuracy: 0.6903\n",
      "Epoch 86/100\n",
      "2652/2652 [==============================] - 6s 2ms/step - loss: 0.5704 - accuracy: 0.6909\n",
      "Epoch 87/100\n",
      "2652/2652 [==============================] - 7s 2ms/step - loss: 0.5703 - accuracy: 0.6907\n",
      "Epoch 88/100\n",
      "2652/2652 [==============================] - 7s 3ms/step - loss: 0.5706 - accuracy: 0.6907\n",
      "Epoch 89/100\n",
      "2652/2652 [==============================] - 7s 3ms/step - loss: 0.5700 - accuracy: 0.6910\n",
      "Epoch 90/100\n",
      "2652/2652 [==============================] - 7s 3ms/step - loss: 0.5700 - accuracy: 0.6909\n",
      "Epoch 91/100\n",
      "2652/2652 [==============================] - 7s 3ms/step - loss: 0.5699 - accuracy: 0.6907\n",
      "Epoch 92/100\n",
      "2652/2652 [==============================] - 7s 2ms/step - loss: 0.5698 - accuracy: 0.6908\n",
      "Epoch 93/100\n",
      "2652/2652 [==============================] - 6s 2ms/step - loss: 0.5698 - accuracy: 0.6907\n",
      "Epoch 94/100\n",
      "2652/2652 [==============================] - 6s 2ms/step - loss: 0.5694 - accuracy: 0.6906\n",
      "Epoch 95/100\n",
      "2652/2652 [==============================] - 7s 2ms/step - loss: 0.5696 - accuracy: 0.6905\n",
      "Epoch 96/100\n",
      "2652/2652 [==============================] - 7s 3ms/step - loss: 0.5696 - accuracy: 0.6915\n",
      "Epoch 97/100\n",
      "2652/2652 [==============================] - 6s 2ms/step - loss: 0.5693 - accuracy: 0.6913\n",
      "Epoch 98/100\n",
      "2652/2652 [==============================] - 6s 2ms/step - loss: 0.5692 - accuracy: 0.6912\n",
      "Epoch 99/100\n",
      "2652/2652 [==============================] - 6s 2ms/step - loss: 0.5689 - accuracy: 0.6914\n",
      "Epoch 100/100\n",
      "2652/2652 [==============================] - 6s 2ms/step - loss: 0.5689 - accuracy: 0.6912\n"
     ]
    },
    {
     "data": {
      "text/plain": [
       "<tensorflow.python.keras.callbacks.History at 0x29dee8f4520>"
      ]
     },
     "execution_count": 27,
     "metadata": {},
     "output_type": "execute_result"
    }
   ],
   "source": [
    "# fit the keras model on the dataset\n",
    "model.fit(X_train, y_train, epochs=100, batch_size=100)"
   ]
  },
  {
   "cell_type": "code",
   "execution_count": 28,
   "metadata": {},
   "outputs": [
    {
     "name": "stderr",
     "output_type": "stream",
     "text": [
      "<ipython-input-28-12a9549d3369>:1: SettingWithCopyWarning: \n",
      "A value is trying to be set on a copy of a slice from a DataFrame.\n",
      "Try using .loc[row_indexer,col_indexer] = value instead\n",
      "\n",
      "See the caveats in the documentation: https://pandas.pydata.org/pandas-docs/stable/user_guide/indexing.html#returning-a-view-versus-a-copy\n",
      "  X_test['usd_goal'] = np.log(X_test['usd_goal_real'])\n"
     ]
    }
   ],
   "source": [
    "X_test['usd_goal'] = np.log(X_test['usd_goal_real'])"
   ]
  },
  {
   "cell_type": "code",
   "execution_count": 29,
   "metadata": {},
   "outputs": [
    {
     "name": "stderr",
     "output_type": "stream",
     "text": [
      "C:\\ProgramData\\Anaconda3\\lib\\site-packages\\pandas\\core\\frame.py:3990: SettingWithCopyWarning: \n",
      "A value is trying to be set on a copy of a slice from a DataFrame\n",
      "\n",
      "See the caveats in the documentation: https://pandas.pydata.org/pandas-docs/stable/user_guide/indexing.html#returning-a-view-versus-a-copy\n",
      "  return super().drop(\n"
     ]
    }
   ],
   "source": [
    "X_test.drop('usd_goal_real', axis=1, inplace=True)"
   ]
  },
  {
   "cell_type": "markdown",
   "metadata": {},
   "source": [
    "### Model Evaluation"
   ]
  },
  {
   "cell_type": "code",
   "execution_count": 34,
   "metadata": {},
   "outputs": [],
   "source": [
    "pred = model.predict(X_test)\n",
    "pred"
   ]
  },
  {
   "cell_type": "code",
   "execution_count": 36,
   "metadata": {},
   "outputs": [],
   "source": [
    "a = []\n",
    "for i in pred:\n",
    "    if (i > 0.5):\n",
    "        new_i = 1\n",
    "    elif (i <= 0.5):\n",
    "        new_i = 0\n",
    "    a.append(new_i)\n",
    "\n",
    "pred = a"
   ]
  },
  {
   "cell_type": "code",
   "execution_count": 37,
   "metadata": {},
   "outputs": [
    {
     "name": "stdout",
     "output_type": "stream",
     "text": [
      "              precision    recall  f1-score   support\n",
      "\n",
      "           0       0.70      0.79      0.74     39577\n",
      "           1       0.61      0.49      0.55     26716\n",
      "\n",
      "    accuracy                           0.67     66293\n",
      "   macro avg       0.66      0.64      0.64     66293\n",
      "weighted avg       0.66      0.67      0.66     66293\n",
      "\n",
      "[[31331  8246]\n",
      " [13560 13156]]\n"
     ]
    }
   ],
   "source": [
    "from sklearn.metrics import classification_report,confusion_matrix\n",
    "print(classification_report(y_test,pred))\n",
    "print(confusion_matrix(y_test,pred))"
   ]
  },
  {
   "cell_type": "code",
   "execution_count": 33,
   "metadata": {},
   "outputs": [],
   "source": [
    "from tensorflow.keras.layers import LSTM"
   ]
  },
  {
   "cell_type": "code",
   "execution_count": 34,
   "metadata": {},
   "outputs": [
    {
     "data": {
      "text/plain": [
       "(265172, 213)"
      ]
     },
     "execution_count": 34,
     "metadata": {},
     "output_type": "execute_result"
    }
   ],
   "source": [
    "X_train.shape"
   ]
  },
  {
   "cell_type": "code",
   "execution_count": 35,
   "metadata": {},
   "outputs": [],
   "source": [
    "X_train = np.array(X_train)\n",
    "X_test = np.array(X_test)\n",
    "\n",
    "# reshaping the data to make it compatible with the LSTM model\n",
    "X_train = X_train.reshape(X_train.shape[0], X_train.shape[1], 1)\n",
    "X_test = X_test.reshape(X_test.shape[0], X_test.shape[1], 1)"
   ]
  },
  {
   "cell_type": "code",
   "execution_count": 36,
   "metadata": {},
   "outputs": [
    {
     "data": {
      "text/plain": [
       "(265172, 213, 1)"
      ]
     },
     "execution_count": 36,
     "metadata": {},
     "output_type": "execute_result"
    }
   ],
   "source": [
    "X_train.shape"
   ]
  },
  {
   "cell_type": "code",
   "execution_count": null,
   "metadata": {},
   "outputs": [],
   "source": [
    "# 50,50,25,1 - 6912\n",
    "# 10,50,50,2 - didn't work well(around 50)"
   ]
  },
  {
   "cell_type": "code",
   "execution_count": null,
   "metadata": {},
   "outputs": [],
   "source": [
    "### adding an LSTM layer"
   ]
  },
  {
   "cell_type": "code",
   "execution_count": 37,
   "metadata": {},
   "outputs": [],
   "source": [
    "model = Sequential()\n",
    "model.add(LSTM(50, return_sequences = True, input_shape = (213, 1)))\n",
    "#model.add(LSTM(60, return_sequences = True))\n",
    "model.add(Dense(50, activation='relu'))\n",
    "model.add(Dense(1, activation='sigmoid'))"
   ]
  },
  {
   "cell_type": "code",
   "execution_count": 38,
   "metadata": {},
   "outputs": [],
   "source": [
    "model.compile(loss = 'binary_crossentropy', optimizer = 'adam', metrics=['accuracy'])"
   ]
  },
  {
   "cell_type": "code",
   "execution_count": 43,
   "metadata": {},
   "outputs": [],
   "source": [
    "#model.fit(X_train, y_train, epochs=100, batch_size=100)"
   ]
  },
  {
   "cell_type": "code",
   "execution_count": null,
   "metadata": {},
   "outputs": [],
   "source": []
  }
 ],
 "metadata": {
  "kernelspec": {
   "display_name": "Python 3",
   "language": "python",
   "name": "python3"
  },
  "language_info": {
   "codemirror_mode": {
    "name": "ipython",
    "version": 3
   },
   "file_extension": ".py",
   "mimetype": "text/x-python",
   "name": "python",
   "nbconvert_exporter": "python",
   "pygments_lexer": "ipython3",
   "version": "3.8.3"
  }
 },
 "nbformat": 4,
 "nbformat_minor": 4
}
