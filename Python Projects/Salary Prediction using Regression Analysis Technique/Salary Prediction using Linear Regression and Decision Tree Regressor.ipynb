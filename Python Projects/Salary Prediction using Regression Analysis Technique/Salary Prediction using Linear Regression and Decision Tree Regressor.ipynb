{
 "cells": [
  {
   "cell_type": "markdown",
   "metadata": {},
   "source": [
    "## Salary estimation and prediction using Linear Regression and Decision Tree Regressor\n",
    "\n",
    "#### Overview\n",
    "In this project, we'll estimate the value of Annual Salary of each customer from the data available and build a prediction model\n",
    "to predict the Annual Salary of customers of a Financial Services Company.\n",
    "\n",
    "We'll be doing the following steps to implement this project:\n",
    "- we'll collect the data\n",
    "- we'll preprocess the data by removing the missing values, handling outliers and calculating new features\n",
    "- we'll then create a dataframe with all the relevant features and spilt it into a train set and test set\n",
    "- we'll then fit our data to our prediction models Linear Regression and Decision Tree Regerssor and predict the values\n",
    "\n",
    "#### Data\n",
    "- This project has been done as a part of the ANZ Virtual Internship Program and the data was provided by them."
   ]
  },
  {
   "cell_type": "code",
   "execution_count": 1,
   "metadata": {},
   "outputs": [],
   "source": [
    "# Importing the libraries\n",
    "import pandas as pd\n",
    "import numpy as np\n",
    "import matplotlib.pyplot as plt\n",
    "import seaborn as sns\n",
    "%matplotlib inline"
   ]
  },
  {
   "cell_type": "code",
   "execution_count": 2,
   "metadata": {},
   "outputs": [
    {
     "data": {
      "text/html": [
       "<div>\n",
       "<style scoped>\n",
       "    .dataframe tbody tr th:only-of-type {\n",
       "        vertical-align: middle;\n",
       "    }\n",
       "\n",
       "    .dataframe tbody tr th {\n",
       "        vertical-align: top;\n",
       "    }\n",
       "\n",
       "    .dataframe thead th {\n",
       "        text-align: right;\n",
       "    }\n",
       "</style>\n",
       "<table border=\"1\" class=\"dataframe\">\n",
       "  <thead>\n",
       "    <tr style=\"text-align: right;\">\n",
       "      <th></th>\n",
       "      <th>status</th>\n",
       "      <th>card_present_flag</th>\n",
       "      <th>bpay_biller_code</th>\n",
       "      <th>account</th>\n",
       "      <th>currency</th>\n",
       "      <th>long_lat</th>\n",
       "      <th>txn_description</th>\n",
       "      <th>merchant_id</th>\n",
       "      <th>merchant_code</th>\n",
       "      <th>first_name</th>\n",
       "      <th>...</th>\n",
       "      <th>age</th>\n",
       "      <th>merchant_suburb</th>\n",
       "      <th>merchant_state</th>\n",
       "      <th>extraction</th>\n",
       "      <th>amount</th>\n",
       "      <th>transaction_id</th>\n",
       "      <th>country</th>\n",
       "      <th>customer_id</th>\n",
       "      <th>merchant_long_lat</th>\n",
       "      <th>movement</th>\n",
       "    </tr>\n",
       "  </thead>\n",
       "  <tbody>\n",
       "    <tr>\n",
       "      <th>0</th>\n",
       "      <td>authorized</td>\n",
       "      <td>1.0</td>\n",
       "      <td>NaN</td>\n",
       "      <td>ACC-1598451071</td>\n",
       "      <td>AUD</td>\n",
       "      <td>153.41 -27.95</td>\n",
       "      <td>POS</td>\n",
       "      <td>81c48296-73be-44a7-befa-d053f48ce7cd</td>\n",
       "      <td>NaN</td>\n",
       "      <td>Diana</td>\n",
       "      <td>...</td>\n",
       "      <td>26</td>\n",
       "      <td>Ashmore</td>\n",
       "      <td>QLD</td>\n",
       "      <td>2018-08-01T01:01:15.000+0000</td>\n",
       "      <td>16.25</td>\n",
       "      <td>a623070bfead4541a6b0fff8a09e706c</td>\n",
       "      <td>Australia</td>\n",
       "      <td>CUS-2487424745</td>\n",
       "      <td>153.38 -27.99</td>\n",
       "      <td>debit</td>\n",
       "    </tr>\n",
       "    <tr>\n",
       "      <th>1</th>\n",
       "      <td>authorized</td>\n",
       "      <td>0.0</td>\n",
       "      <td>NaN</td>\n",
       "      <td>ACC-1598451071</td>\n",
       "      <td>AUD</td>\n",
       "      <td>153.41 -27.95</td>\n",
       "      <td>SALES-POS</td>\n",
       "      <td>830a451c-316e-4a6a-bf25-e37caedca49e</td>\n",
       "      <td>NaN</td>\n",
       "      <td>Diana</td>\n",
       "      <td>...</td>\n",
       "      <td>26</td>\n",
       "      <td>Sydney</td>\n",
       "      <td>NSW</td>\n",
       "      <td>2018-08-01T01:13:45.000+0000</td>\n",
       "      <td>14.19</td>\n",
       "      <td>13270a2a902145da9db4c951e04b51b9</td>\n",
       "      <td>Australia</td>\n",
       "      <td>CUS-2487424745</td>\n",
       "      <td>151.21 -33.87</td>\n",
       "      <td>debit</td>\n",
       "    </tr>\n",
       "    <tr>\n",
       "      <th>2</th>\n",
       "      <td>authorized</td>\n",
       "      <td>1.0</td>\n",
       "      <td>NaN</td>\n",
       "      <td>ACC-1222300524</td>\n",
       "      <td>AUD</td>\n",
       "      <td>151.23 -33.94</td>\n",
       "      <td>POS</td>\n",
       "      <td>835c231d-8cdf-4e96-859d-e9d571760cf0</td>\n",
       "      <td>NaN</td>\n",
       "      <td>Michael</td>\n",
       "      <td>...</td>\n",
       "      <td>38</td>\n",
       "      <td>Sydney</td>\n",
       "      <td>NSW</td>\n",
       "      <td>2018-08-01T01:26:15.000+0000</td>\n",
       "      <td>6.42</td>\n",
       "      <td>feb79e7ecd7048a5a36ec889d1a94270</td>\n",
       "      <td>Australia</td>\n",
       "      <td>CUS-2142601169</td>\n",
       "      <td>151.21 -33.87</td>\n",
       "      <td>debit</td>\n",
       "    </tr>\n",
       "    <tr>\n",
       "      <th>3</th>\n",
       "      <td>authorized</td>\n",
       "      <td>1.0</td>\n",
       "      <td>NaN</td>\n",
       "      <td>ACC-1037050564</td>\n",
       "      <td>AUD</td>\n",
       "      <td>153.10 -27.66</td>\n",
       "      <td>SALES-POS</td>\n",
       "      <td>48514682-c78a-4a88-b0da-2d6302e64673</td>\n",
       "      <td>NaN</td>\n",
       "      <td>Rhonda</td>\n",
       "      <td>...</td>\n",
       "      <td>40</td>\n",
       "      <td>Buderim</td>\n",
       "      <td>QLD</td>\n",
       "      <td>2018-08-01T01:38:45.000+0000</td>\n",
       "      <td>40.90</td>\n",
       "      <td>2698170da3704fd981b15e64a006079e</td>\n",
       "      <td>Australia</td>\n",
       "      <td>CUS-1614226872</td>\n",
       "      <td>153.05 -26.68</td>\n",
       "      <td>debit</td>\n",
       "    </tr>\n",
       "    <tr>\n",
       "      <th>4</th>\n",
       "      <td>authorized</td>\n",
       "      <td>1.0</td>\n",
       "      <td>NaN</td>\n",
       "      <td>ACC-1598451071</td>\n",
       "      <td>AUD</td>\n",
       "      <td>153.41 -27.95</td>\n",
       "      <td>SALES-POS</td>\n",
       "      <td>b4e02c10-0852-4273-b8fd-7b3395e32eb0</td>\n",
       "      <td>NaN</td>\n",
       "      <td>Diana</td>\n",
       "      <td>...</td>\n",
       "      <td>26</td>\n",
       "      <td>Mermaid Beach</td>\n",
       "      <td>QLD</td>\n",
       "      <td>2018-08-01T01:51:15.000+0000</td>\n",
       "      <td>3.25</td>\n",
       "      <td>329adf79878c4cf0aeb4188b4691c266</td>\n",
       "      <td>Australia</td>\n",
       "      <td>CUS-2487424745</td>\n",
       "      <td>153.44 -28.06</td>\n",
       "      <td>debit</td>\n",
       "    </tr>\n",
       "  </tbody>\n",
       "</table>\n",
       "<p>5 rows × 23 columns</p>\n",
       "</div>"
      ],
      "text/plain": [
       "       status  card_present_flag bpay_biller_code         account currency  \\\n",
       "0  authorized                1.0              NaN  ACC-1598451071      AUD   \n",
       "1  authorized                0.0              NaN  ACC-1598451071      AUD   \n",
       "2  authorized                1.0              NaN  ACC-1222300524      AUD   \n",
       "3  authorized                1.0              NaN  ACC-1037050564      AUD   \n",
       "4  authorized                1.0              NaN  ACC-1598451071      AUD   \n",
       "\n",
       "        long_lat txn_description                           merchant_id  \\\n",
       "0  153.41 -27.95             POS  81c48296-73be-44a7-befa-d053f48ce7cd   \n",
       "1  153.41 -27.95       SALES-POS  830a451c-316e-4a6a-bf25-e37caedca49e   \n",
       "2  151.23 -33.94             POS  835c231d-8cdf-4e96-859d-e9d571760cf0   \n",
       "3  153.10 -27.66       SALES-POS  48514682-c78a-4a88-b0da-2d6302e64673   \n",
       "4  153.41 -27.95       SALES-POS  b4e02c10-0852-4273-b8fd-7b3395e32eb0   \n",
       "\n",
       "   merchant_code first_name  ...  age merchant_suburb merchant_state  \\\n",
       "0            NaN      Diana  ...   26         Ashmore            QLD   \n",
       "1            NaN      Diana  ...   26          Sydney            NSW   \n",
       "2            NaN    Michael  ...   38          Sydney            NSW   \n",
       "3            NaN     Rhonda  ...   40         Buderim            QLD   \n",
       "4            NaN      Diana  ...   26   Mermaid Beach            QLD   \n",
       "\n",
       "                     extraction amount                    transaction_id  \\\n",
       "0  2018-08-01T01:01:15.000+0000  16.25  a623070bfead4541a6b0fff8a09e706c   \n",
       "1  2018-08-01T01:13:45.000+0000  14.19  13270a2a902145da9db4c951e04b51b9   \n",
       "2  2018-08-01T01:26:15.000+0000   6.42  feb79e7ecd7048a5a36ec889d1a94270   \n",
       "3  2018-08-01T01:38:45.000+0000  40.90  2698170da3704fd981b15e64a006079e   \n",
       "4  2018-08-01T01:51:15.000+0000   3.25  329adf79878c4cf0aeb4188b4691c266   \n",
       "\n",
       "     country     customer_id merchant_long_lat movement  \n",
       "0  Australia  CUS-2487424745     153.38 -27.99    debit  \n",
       "1  Australia  CUS-2487424745     151.21 -33.87    debit  \n",
       "2  Australia  CUS-2142601169     151.21 -33.87    debit  \n",
       "3  Australia  CUS-1614226872     153.05 -26.68    debit  \n",
       "4  Australia  CUS-2487424745     153.44 -28.06    debit  \n",
       "\n",
       "[5 rows x 23 columns]"
      ]
     },
     "execution_count": 2,
     "metadata": {},
     "output_type": "execute_result"
    }
   ],
   "source": [
    "#loading dataset as a pandas dataframe\n",
    "data = pd.read_excel('ANZ synthesised transaction dataset.xlsx')\n",
    "data.head()"
   ]
  },
  {
   "cell_type": "code",
   "execution_count": 3,
   "metadata": {},
   "outputs": [],
   "source": [
    "# function to view the categories and their count of all the variables of a dataset\n",
    "def cat(x):\n",
    "    for i in x.columns:\n",
    "        print(x[i].value_counts())"
   ]
  },
  {
   "cell_type": "code",
   "execution_count": 4,
   "metadata": {
    "scrolled": true
   },
   "outputs": [
    {
     "name": "stdout",
     "output_type": "stream",
     "text": [
      "authorized    7717\n",
      "posted        4326\n",
      "Name: status, dtype: int64\n",
      "1.0    6194\n",
      "0.0    1523\n",
      "Name: card_present_flag, dtype: int64\n",
      "0                                        883\n",
      " LAND WATER & PLANNING East Melbourne      1\n",
      " THE DISCOUNT CHEMIST GROUP                1\n",
      "Name: bpay_biller_code, dtype: int64\n",
      "ACC-1598451071    578\n",
      "ACC-1222300524    303\n",
      "ACC-182446574     292\n",
      "ACC-4258502723    260\n",
      "ACC-1037050564    259\n",
      "                 ... \n",
      "ACC-1998563091     40\n",
      "ACC-3881031190     37\n",
      "ACC-721712940      34\n",
      "ACC-4059612845     31\n",
      "ACC-1217063613     25\n",
      "Name: account, Length: 100, dtype: int64\n",
      "AUD    12043\n",
      "Name: currency, dtype: int64\n",
      "153.41 -27.95    578\n",
      "151.23 -33.94    303\n",
      "116.06 -32.00    292\n",
      "145.45 -37.74    260\n",
      "153.10 -27.66    259\n",
      "                ... \n",
      "149.03 -35.25     40\n",
      "149.19 -21.15     37\n",
      "145.09 -37.82     34\n",
      "130.98 -12.49     31\n",
      "147.61 -37.82     25\n",
      "Name: long_lat, Length: 100, dtype: int64\n",
      "SALES-POS     3934\n",
      "POS           3783\n",
      "PAYMENT       2600\n",
      "PAY/SALARY     883\n",
      "INTER BANK     742\n",
      "PHONE BANK     101\n",
      "Name: txn_description, dtype: int64\n",
      "106e1272-44ab-4dcb-a438-dd98e0071e51    14\n",
      "6c84c219-96ea-4c6f-9de5-0a28bcaec62f    12\n",
      "e28c426d-cbef-4e2d-aa06-1ba0b6b1902f    11\n",
      "6ddddc40-5b69-4253-8a26-167999a8bf96    10\n",
      "aef30de1-c67e-4ab7-8577-2931a4bf3c7e    10\n",
      "                                        ..\n",
      "5d98c351-be27-43c5-abe7-3a21e423baf6     1\n",
      "4cd1f85e-c58a-4759-8d67-fd6e6339901c     1\n",
      "fd80b331-9f35-4ea8-9cf1-8fbb1ee77c89     1\n",
      "423556ec-70b1-47b0-b3ca-93bb99cdb18f     1\n",
      "cc34d375-e0e1-4abb-b6af-4e0a7789e15b     1\n",
      "Name: merchant_id, Length: 5725, dtype: int64\n",
      "0.0    883\n",
      "Name: merchant_code, dtype: int64\n",
      "Michael      746\n",
      "Diana        578\n",
      "Jessica      408\n",
      "Joseph       391\n",
      "Jeffrey      388\n",
      "            ... \n",
      "Cindy         51\n",
      "Elizabeth     44\n",
      "David         40\n",
      "Andrew        34\n",
      "Jonathan      31\n",
      "Name: first_name, Length: 80, dtype: int64\n",
      "1204.08    2\n",
      "2786.80    2\n",
      "2773.11    2\n",
      "4007.96    2\n",
      "834.47     2\n",
      "          ..\n",
      "6112.31    1\n",
      "7215.07    1\n",
      "4010.02    1\n",
      "2005.82    1\n",
      "0.25       1\n",
      "Name: balance, Length: 12006, dtype: int64\n",
      "2018-09-28    174\n",
      "2018-08-17    172\n",
      "2018-10-05    168\n",
      "2018-10-17    162\n",
      "2018-09-14    161\n",
      "             ... \n",
      "2018-08-06     99\n",
      "2018-08-20     97\n",
      "2018-10-23     96\n",
      "2018-10-08     95\n",
      "2018-10-30     89\n",
      "Name: date, Length: 91, dtype: int64\n",
      "M    6285\n",
      "F    5758\n",
      "Name: gender, dtype: int64\n",
      "26    893\n",
      "38    767\n",
      "20    765\n",
      "21    733\n",
      "24    732\n",
      "40    704\n",
      "19    693\n",
      "34    537\n",
      "25    515\n",
      "30    499\n",
      "43    473\n",
      "35    444\n",
      "27    443\n",
      "18    442\n",
      "28    414\n",
      "22    399\n",
      "23    309\n",
      "39    283\n",
      "37    276\n",
      "31    255\n",
      "42    232\n",
      "44    160\n",
      "46    153\n",
      "33    139\n",
      "29    134\n",
      "41    121\n",
      "47    110\n",
      "69    102\n",
      "64     88\n",
      "52     77\n",
      "53     73\n",
      "50     44\n",
      "78     34\n",
      "Name: age, dtype: int64\n",
      "Melbourne          255\n",
      "Sydney             233\n",
      "Southport           82\n",
      "Brisbane City       79\n",
      "Chatswood           55\n",
      "                  ... \n",
      "Taree West           1\n",
      "Coopers Plains       1\n",
      "North Narrabeen      1\n",
      "Plympton             1\n",
      "Edgecliff            1\n",
      "Name: merchant_suburb, Length: 1609, dtype: int64\n",
      "NSW    2169\n",
      "VIC    2131\n",
      "QLD    1556\n",
      "WA     1100\n",
      "SA      415\n",
      "NT      205\n",
      "ACT      73\n",
      "TAS      68\n",
      "Name: merchant_state, dtype: int64\n",
      "2018-09-03T11:00:00.000+0000    10\n",
      "2018-09-04T17:00:00.000+0000     9\n",
      "2018-10-23T17:00:00.000+0000     9\n",
      "2018-08-07T17:00:00.000+0000     9\n",
      "2018-08-28T17:00:00.000+0000     9\n",
      "                                ..\n",
      "2018-09-02T11:03:51.000+0000     1\n",
      "2018-08-26T06:44:26.000+0000     1\n",
      "2018-10-20T15:43:35.000+0000     1\n",
      "2018-08-22T16:22:22.000+0000     1\n",
      "2018-10-15T19:54:23.000+0000     1\n",
      "Name: extraction, Length: 9442, dtype: int64\n",
      "33.00    168\n",
      "39.00    119\n",
      "29.00    116\n",
      "36.00    107\n",
      "45.00    102\n",
      "        ... \n",
      "37.08      1\n",
      "54.39      1\n",
      "19.56      1\n",
      "47.40      1\n",
      "49.41      1\n",
      "Name: amount, Length: 4457, dtype: int64\n",
      "147924b95b7d4fa399295a189e41dd32    1\n",
      "0ef99551c3f345f8a6efe79d8028563d    1\n",
      "15eef4224ab34d2bbd3151ba53c17327    1\n",
      "a8f7686574a94993b1c5e62b27cc5a63    1\n",
      "4c418372cfd14a57a660a72376352f8a    1\n",
      "                                   ..\n",
      "a1fcadbedbdc4895b0d77535ec72363d    1\n",
      "ed6a5520e1c1484fbf536ee591af91d4    1\n",
      "08a4742cd4424f5e8f0ff7f25f17a829    1\n",
      "aefc1c877e6b45f297a4ca27542b8ca3    1\n",
      "1fe8f5216b3143cc850453915f5f3a02    1\n",
      "Name: transaction_id, Length: 12043, dtype: int64\n",
      "Australia    12043\n",
      "Name: country, dtype: int64\n",
      "CUS-2487424745    578\n",
      "CUS-2142601169    303\n",
      "CUS-3026014945    292\n",
      "CUS-3378712515    260\n",
      "CUS-1614226872    259\n",
      "                 ... \n",
      "CUS-3395687666     40\n",
      "CUS-3201519139     37\n",
      "CUS-1646183815     34\n",
      "CUS-495599312      31\n",
      "CUS-1739931018     25\n",
      "Name: customer_id, Length: 100, dtype: int64\n",
      "151.21 -33.87    145\n",
      "144.96 -37.82     85\n",
      "144.97 -37.81     59\n",
      "144.96 -37.81     56\n",
      "153.02 -27.47     46\n",
      "                ... \n",
      "144.87 -37.73      1\n",
      "145.17 -38.11      1\n",
      "151.3 -33.73       1\n",
      "153.53 -28.86      1\n",
      "147.32 -42.87      1\n",
      "Name: merchant_long_lat, Length: 2703, dtype: int64\n",
      "debit     11160\n",
      "credit      883\n",
      "Name: movement, dtype: int64\n"
     ]
    }
   ],
   "source": [
    "cat(data)"
   ]
  },
  {
   "cell_type": "markdown",
   "metadata": {},
   "source": [
    "We'll create a dataset consisting of only salary related transactions as we want to eastimate the annual salary of each \n",
    "customer "
   ]
  },
  {
   "cell_type": "code",
   "execution_count": 5,
   "metadata": {},
   "outputs": [],
   "source": [
    "df = data[data['txn_description']== 'PAY/SALARY']"
   ]
  },
  {
   "cell_type": "code",
   "execution_count": 6,
   "metadata": {},
   "outputs": [
    {
     "name": "stdout",
     "output_type": "stream",
     "text": [
      "<class 'pandas.core.frame.DataFrame'>\n",
      "Int64Index: 883 entries, 50 to 12004\n",
      "Data columns (total 23 columns):\n",
      " #   Column             Non-Null Count  Dtype         \n",
      "---  ------             --------------  -----         \n",
      " 0   status             883 non-null    object        \n",
      " 1   card_present_flag  0 non-null      float64       \n",
      " 2   bpay_biller_code   883 non-null    object        \n",
      " 3   account            883 non-null    object        \n",
      " 4   currency           883 non-null    object        \n",
      " 5   long_lat           883 non-null    object        \n",
      " 6   txn_description    883 non-null    object        \n",
      " 7   merchant_id        0 non-null      object        \n",
      " 8   merchant_code      883 non-null    float64       \n",
      " 9   first_name         883 non-null    object        \n",
      " 10  balance            883 non-null    float64       \n",
      " 11  date               883 non-null    datetime64[ns]\n",
      " 12  gender             883 non-null    object        \n",
      " 13  age                883 non-null    int64         \n",
      " 14  merchant_suburb    0 non-null      object        \n",
      " 15  merchant_state     0 non-null      object        \n",
      " 16  extraction         883 non-null    object        \n",
      " 17  amount             883 non-null    float64       \n",
      " 18  transaction_id     883 non-null    object        \n",
      " 19  country            883 non-null    object        \n",
      " 20  customer_id        883 non-null    object        \n",
      " 21  merchant_long_lat  0 non-null      object        \n",
      " 22  movement           883 non-null    object        \n",
      "dtypes: datetime64[ns](1), float64(4), int64(1), object(17)\n",
      "memory usage: 165.6+ KB\n"
     ]
    }
   ],
   "source": [
    "df.info()"
   ]
  },
  {
   "cell_type": "markdown",
   "metadata": {},
   "source": [
    "### Data preprocessing"
   ]
  },
  {
   "cell_type": "markdown",
   "metadata": {},
   "source": [
    "##### Missing values"
   ]
  },
  {
   "cell_type": "code",
   "execution_count": 7,
   "metadata": {},
   "outputs": [
    {
     "data": {
      "text/plain": [
       "<matplotlib.axes._subplots.AxesSubplot at 0x265ff35ebe0>"
      ]
     },
     "execution_count": 7,
     "metadata": {},
     "output_type": "execute_result"
    },
    {
     "data": {
      "image/png": "[encoded data removed]",
      "text/plain": [
       "<Figure size 432x288 with 1 Axes>"
      ]
     },
     "metadata": {
      "needs_background": "light"
     },
     "output_type": "display_data"
    }
   ],
   "source": [
    "# Checking for missing values with the help of a heatmap\n",
    "sns.heatmap(df.isnull(), cbar=False, yticklabels=False)"
   ]
  },
  {
   "cell_type": "markdown",
   "metadata": {},
   "source": [
    "#### Dropping irrelevant columns"
   ]
  },
  {
   "cell_type": "code",
   "execution_count": 8,
   "metadata": {},
   "outputs": [
    {
     "name": "stderr",
     "output_type": "stream",
     "text": [
      "C:\\ProgramData\\Anaconda3\\lib\\site-packages\\pandas\\core\\frame.py:3990: SettingWithCopyWarning: \n",
      "A value is trying to be set on a copy of a slice from a DataFrame\n",
      "\n",
      "See the caveats in the documentation: https://pandas.pydata.org/pandas-docs/stable/user_guide/indexing.html#returning-a-view-versus-a-copy\n",
      "  return super().drop(\n"
     ]
    }
   ],
   "source": [
    "# Removing the columns with null vales and which are not relevant to our computation\n",
    "df.drop(['merchant_id','merchant_suburb','merchant_state','merchant_long_lat','bpay_biller_code','merchant_code','first_name',\n",
    "         'country','extraction','currency','card_present_flag', 'txn_description','status','movement'], axis=1, inplace=True)"
   ]
  },
  {
   "cell_type": "code",
   "execution_count": 9,
   "metadata": {},
   "outputs": [
    {
     "name": "stdout",
     "output_type": "stream",
     "text": [
      "<class 'pandas.core.frame.DataFrame'>\n",
      "Int64Index: 883 entries, 50 to 12004\n",
      "Data columns (total 9 columns):\n",
      " #   Column          Non-Null Count  Dtype         \n",
      "---  ------          --------------  -----         \n",
      " 0   account         883 non-null    object        \n",
      " 1   long_lat        883 non-null    object        \n",
      " 2   balance         883 non-null    float64       \n",
      " 3   date            883 non-null    datetime64[ns]\n",
      " 4   gender          883 non-null    object        \n",
      " 5   age             883 non-null    int64         \n",
      " 6   amount          883 non-null    float64       \n",
      " 7   transaction_id  883 non-null    object        \n",
      " 8   customer_id     883 non-null    object        \n",
      "dtypes: datetime64[ns](1), float64(2), int64(1), object(5)\n",
      "memory usage: 69.0+ KB\n"
     ]
    }
   ],
   "source": [
    "df.info()"
   ]
  },
  {
   "cell_type": "code",
   "execution_count": 10,
   "metadata": {},
   "outputs": [
    {
     "data": {
      "text/html": [
       "<div>\n",
       "<style scoped>\n",
       "    .dataframe tbody tr th:only-of-type {\n",
       "        vertical-align: middle;\n",
       "    }\n",
       "\n",
       "    .dataframe tbody tr th {\n",
       "        vertical-align: top;\n",
       "    }\n",
       "\n",
       "    .dataframe thead th {\n",
       "        text-align: right;\n",
       "    }\n",
       "</style>\n",
       "<table border=\"1\" class=\"dataframe\">\n",
       "  <thead>\n",
       "    <tr style=\"text-align: right;\">\n",
       "      <th></th>\n",
       "      <th>account</th>\n",
       "      <th>long_lat</th>\n",
       "      <th>balance</th>\n",
       "      <th>date</th>\n",
       "      <th>gender</th>\n",
       "      <th>age</th>\n",
       "      <th>amount</th>\n",
       "      <th>transaction_id</th>\n",
       "      <th>customer_id</th>\n",
       "    </tr>\n",
       "  </thead>\n",
       "  <tbody>\n",
       "    <tr>\n",
       "      <th>50</th>\n",
       "      <td>ACC-588564840</td>\n",
       "      <td>151.27 -33.76</td>\n",
       "      <td>8342.11</td>\n",
       "      <td>2018-08-01</td>\n",
       "      <td>M</td>\n",
       "      <td>23</td>\n",
       "      <td>3903.95</td>\n",
       "      <td>9ca281650e5d482d9e53f85e959baa66</td>\n",
       "      <td>CUS-1462656821</td>\n",
       "    </tr>\n",
       "    <tr>\n",
       "      <th>61</th>\n",
       "      <td>ACC-1650504218</td>\n",
       "      <td>145.01 -37.93</td>\n",
       "      <td>2040.58</td>\n",
       "      <td>2018-08-01</td>\n",
       "      <td>F</td>\n",
       "      <td>23</td>\n",
       "      <td>1626.48</td>\n",
       "      <td>1822eb0e1bbe4c9e95ebbb0fa2cc4323</td>\n",
       "      <td>CUS-2500783281</td>\n",
       "    </tr>\n",
       "    <tr>\n",
       "      <th>64</th>\n",
       "      <td>ACC-3326339947</td>\n",
       "      <td>151.18 -33.80</td>\n",
       "      <td>3158.51</td>\n",
       "      <td>2018-08-01</td>\n",
       "      <td>M</td>\n",
       "      <td>22</td>\n",
       "      <td>983.36</td>\n",
       "      <td>bd62b1799a454cedbbb56364f7c40cbf</td>\n",
       "      <td>CUS-326006476</td>\n",
       "    </tr>\n",
       "    <tr>\n",
       "      <th>68</th>\n",
       "      <td>ACC-3541460373</td>\n",
       "      <td>145.00 -37.83</td>\n",
       "      <td>2517.66</td>\n",
       "      <td>2018-08-01</td>\n",
       "      <td>M</td>\n",
       "      <td>24</td>\n",
       "      <td>1408.08</td>\n",
       "      <td>0d95c7c932bb48e5b44c2637bdd3efe9</td>\n",
       "      <td>CUS-1433879684</td>\n",
       "    </tr>\n",
       "    <tr>\n",
       "      <th>70</th>\n",
       "      <td>ACC-2776252858</td>\n",
       "      <td>144.95 -37.76</td>\n",
       "      <td>2271.79</td>\n",
       "      <td>2018-08-01</td>\n",
       "      <td>F</td>\n",
       "      <td>43</td>\n",
       "      <td>1068.04</td>\n",
       "      <td>f50ccf1195214d14a0acbfcb5a265193</td>\n",
       "      <td>CUS-4123612273</td>\n",
       "    </tr>\n",
       "  </tbody>\n",
       "</table>\n",
       "</div>"
      ],
      "text/plain": [
       "           account       long_lat  balance       date gender  age   amount  \\\n",
       "50   ACC-588564840  151.27 -33.76  8342.11 2018-08-01      M   23  3903.95   \n",
       "61  ACC-1650504218  145.01 -37.93  2040.58 2018-08-01      F   23  1626.48   \n",
       "64  ACC-3326339947  151.18 -33.80  3158.51 2018-08-01      M   22   983.36   \n",
       "68  ACC-3541460373  145.00 -37.83  2517.66 2018-08-01      M   24  1408.08   \n",
       "70  ACC-2776252858  144.95 -37.76  2271.79 2018-08-01      F   43  1068.04   \n",
       "\n",
       "                      transaction_id     customer_id  \n",
       "50  9ca281650e5d482d9e53f85e959baa66  CUS-1462656821  \n",
       "61  1822eb0e1bbe4c9e95ebbb0fa2cc4323  CUS-2500783281  \n",
       "64  bd62b1799a454cedbbb56364f7c40cbf   CUS-326006476  \n",
       "68  0d95c7c932bb48e5b44c2637bdd3efe9  CUS-1433879684  \n",
       "70  f50ccf1195214d14a0acbfcb5a265193  CUS-4123612273  "
      ]
     },
     "execution_count": 10,
     "metadata": {},
     "output_type": "execute_result"
    }
   ],
   "source": [
    "df.head()"
   ]
  },
  {
   "cell_type": "code",
   "execution_count": 11,
   "metadata": {},
   "outputs": [
    {
     "data": {
      "text/html": [
       "<div>\n",
       "<style scoped>\n",
       "    .dataframe tbody tr th:only-of-type {\n",
       "        vertical-align: middle;\n",
       "    }\n",
       "\n",
       "    .dataframe tbody tr th {\n",
       "        vertical-align: top;\n",
       "    }\n",
       "\n",
       "    .dataframe thead th {\n",
       "        text-align: right;\n",
       "    }\n",
       "</style>\n",
       "<table border=\"1\" class=\"dataframe\">\n",
       "  <thead>\n",
       "    <tr style=\"text-align: right;\">\n",
       "      <th></th>\n",
       "      <th>balance</th>\n",
       "      <th>age</th>\n",
       "      <th>amount</th>\n",
       "    </tr>\n",
       "  </thead>\n",
       "  <tbody>\n",
       "    <tr>\n",
       "      <th>count</th>\n",
       "      <td>883.000000</td>\n",
       "      <td>883.000000</td>\n",
       "      <td>883.000000</td>\n",
       "    </tr>\n",
       "    <tr>\n",
       "      <th>mean</th>\n",
       "      <td>16242.859049</td>\n",
       "      <td>32.631937</td>\n",
       "      <td>1898.728029</td>\n",
       "    </tr>\n",
       "    <tr>\n",
       "      <th>std</th>\n",
       "      <td>30953.342656</td>\n",
       "      <td>12.276731</td>\n",
       "      <td>1150.364621</td>\n",
       "    </tr>\n",
       "    <tr>\n",
       "      <th>min</th>\n",
       "      <td>735.660000</td>\n",
       "      <td>18.000000</td>\n",
       "      <td>576.000000</td>\n",
       "    </tr>\n",
       "    <tr>\n",
       "      <th>25%</th>\n",
       "      <td>4309.995000</td>\n",
       "      <td>22.000000</td>\n",
       "      <td>1013.670000</td>\n",
       "    </tr>\n",
       "    <tr>\n",
       "      <th>50%</th>\n",
       "      <td>7532.540000</td>\n",
       "      <td>30.000000</td>\n",
       "      <td>1626.480000</td>\n",
       "    </tr>\n",
       "    <tr>\n",
       "      <th>75%</th>\n",
       "      <td>14370.765000</td>\n",
       "      <td>40.000000</td>\n",
       "      <td>2538.680000</td>\n",
       "    </tr>\n",
       "    <tr>\n",
       "      <th>max</th>\n",
       "      <td>267128.520000</td>\n",
       "      <td>78.000000</td>\n",
       "      <td>8835.980000</td>\n",
       "    </tr>\n",
       "  </tbody>\n",
       "</table>\n",
       "</div>"
      ],
      "text/plain": [
       "             balance         age       amount\n",
       "count     883.000000  883.000000   883.000000\n",
       "mean    16242.859049   32.631937  1898.728029\n",
       "std     30953.342656   12.276731  1150.364621\n",
       "min       735.660000   18.000000   576.000000\n",
       "25%      4309.995000   22.000000  1013.670000\n",
       "50%      7532.540000   30.000000  1626.480000\n",
       "75%     14370.765000   40.000000  2538.680000\n",
       "max    267128.520000   78.000000  8835.980000"
      ]
     },
     "execution_count": 11,
     "metadata": {},
     "output_type": "execute_result"
    }
   ],
   "source": [
    "df.describe()"
   ]
  },
  {
   "cell_type": "markdown",
   "metadata": {},
   "source": [
    "#### Presence of Outliers"
   ]
  },
  {
   "cell_type": "code",
   "execution_count": 12,
   "metadata": {},
   "outputs": [
    {
     "data": {
      "text/plain": [
       "<matplotlib.axes._subplots.AxesSubplot at 0x2658001e8b0>"
      ]
     },
     "execution_count": 12,
     "metadata": {},
     "output_type": "execute_result"
    },
    {
     "data": {
      "image/png": "[encoded data removed]",
      "text/plain": [
       "<Figure size 432x288 with 1 Axes>"
      ]
     },
     "metadata": {
      "needs_background": "light"
     },
     "output_type": "display_data"
    }
   ],
   "source": [
    "# checking for outliers in the age variable\n",
    "sns.boxplot(df['age'])"
   ]
  },
  {
   "cell_type": "code",
   "execution_count": 13,
   "metadata": {},
   "outputs": [
    {
     "data": {
      "text/plain": [
       "<matplotlib.axes._subplots.AxesSubplot at 0x26580114cd0>"
      ]
     },
     "execution_count": 13,
     "metadata": {},
     "output_type": "execute_result"
    },
    {
     "data": {
      "image/png": "[encoded data removed]",
      "text/plain": [
       "<Figure size 432x288 with 1 Axes>"
      ]
     },
     "metadata": {
      "needs_background": "light"
     },
     "output_type": "display_data"
    }
   ],
   "source": [
    "# checking for outliers in the amount variable\n",
    "sns.boxplot(df['amount'])"
   ]
  },
  {
   "cell_type": "code",
   "execution_count": 14,
   "metadata": {},
   "outputs": [
    {
     "name": "stderr",
     "output_type": "stream",
     "text": [
      "<ipython-input-14-1f653416cae4>:9: SettingWithCopyWarning: \n",
      "A value is trying to be set on a copy of a slice from a DataFrame.\n",
      "Try using .loc[row_indexer,col_indexer] = value instead\n",
      "\n",
      "See the caveats in the documentation: https://pandas.pydata.org/pandas-docs/stable/user_guide/indexing.html#returning-a-view-versus-a-copy\n",
      "  df['amount_'] = am\n"
     ]
    }
   ],
   "source": [
    "# handling of outliers in the amount variable\n",
    "am = []\n",
    "for i in df['amount']:\n",
    "    if (i <= 5000):\n",
    "        am.append(i)\n",
    "    else:\n",
    "        am.append(None)\n",
    "        \n",
    "df['amount_'] = am"
   ]
  },
  {
   "cell_type": "code",
   "execution_count": 15,
   "metadata": {},
   "outputs": [
    {
     "data": {
      "text/plain": [
       "<matplotlib.axes._subplots.AxesSubplot at 0x26580153a90>"
      ]
     },
     "execution_count": 15,
     "metadata": {},
     "output_type": "execute_result"
    },
    {
     "data": {
      "image/png": "[encoded data removed]",
      "text/plain": [
       "<Figure size 432x288 with 1 Axes>"
      ]
     },
     "metadata": {
      "needs_background": "light"
     },
     "output_type": "display_data"
    }
   ],
   "source": [
    "sns.boxplot(df['amount_'])"
   ]
  },
  {
   "cell_type": "code",
   "execution_count": 16,
   "metadata": {},
   "outputs": [
    {
     "data": {
      "text/plain": [
       "<matplotlib.axes._subplots.AxesSubplot at 0x2658019f550>"
      ]
     },
     "execution_count": 16,
     "metadata": {},
     "output_type": "execute_result"
    },
    {
     "data": {
      "image/png": "[encoded data removed]",
      "text/plain": [
       "<Figure size 432x288 with 1 Axes>"
      ]
     },
     "metadata": {
      "needs_background": "light"
     },
     "output_type": "display_data"
    }
   ],
   "source": [
    "# checking for outliers in the balance variable\n",
    "sns.boxplot(df['balance'])"
   ]
  },
  {
   "cell_type": "code",
   "execution_count": 17,
   "metadata": {},
   "outputs": [
    {
     "name": "stderr",
     "output_type": "stream",
     "text": [
      "<ipython-input-17-f249bf428cd7>:9: SettingWithCopyWarning: \n",
      "A value is trying to be set on a copy of a slice from a DataFrame.\n",
      "Try using .loc[row_indexer,col_indexer] = value instead\n",
      "\n",
      "See the caveats in the documentation: https://pandas.pydata.org/pandas-docs/stable/user_guide/indexing.html#returning-a-view-versus-a-copy\n",
      "  df['balance_'] = bal\n"
     ]
    }
   ],
   "source": [
    "# handling of outliers in the balance variable\n",
    "bal = []\n",
    "for i in df['balance']:\n",
    "    if (i <= 25000):\n",
    "        bal.append(i)\n",
    "    else:\n",
    "        bal.append(None)\n",
    "        \n",
    "df['balance_'] = bal"
   ]
  },
  {
   "cell_type": "code",
   "execution_count": 18,
   "metadata": {},
   "outputs": [
    {
     "data": {
      "text/plain": [
       "<matplotlib.axes._subplots.AxesSubplot at 0x265801e6430>"
      ]
     },
     "execution_count": 18,
     "metadata": {},
     "output_type": "execute_result"
    },
    {
     "data": {
      "image/png": "[encoded data removed]",
      "text/plain": [
       "<Figure size 432x288 with 1 Axes>"
      ]
     },
     "metadata": {
      "needs_background": "light"
     },
     "output_type": "display_data"
    }
   ],
   "source": [
    "sns.boxplot(df['balance_'])"
   ]
  },
  {
   "cell_type": "code",
   "execution_count": 19,
   "metadata": {},
   "outputs": [
    {
     "data": {
      "text/plain": [
       "account             0\n",
       "long_lat            0\n",
       "balance             0\n",
       "date                0\n",
       "gender              0\n",
       "age                 0\n",
       "amount              0\n",
       "transaction_id      0\n",
       "customer_id         0\n",
       "amount_            13\n",
       "balance_          125\n",
       "dtype: int64"
      ]
     },
     "execution_count": 19,
     "metadata": {},
     "output_type": "execute_result"
    }
   ],
   "source": [
    "df.isnull().sum()"
   ]
  },
  {
   "cell_type": "code",
   "execution_count": 20,
   "metadata": {},
   "outputs": [
    {
     "name": "stderr",
     "output_type": "stream",
     "text": [
      "<ipython-input-20-e05b9f1f3475>:2: SettingWithCopyWarning: \n",
      "A value is trying to be set on a copy of a slice from a DataFrame\n",
      "\n",
      "See the caveats in the documentation: https://pandas.pydata.org/pandas-docs/stable/user_guide/indexing.html#returning-a-view-versus-a-copy\n",
      "  df.dropna(inplace=True)\n"
     ]
    }
   ],
   "source": [
    "# dropping the null values\n",
    "df.dropna(inplace=True)"
   ]
  },
  {
   "cell_type": "code",
   "execution_count": 21,
   "metadata": {},
   "outputs": [
    {
     "name": "stderr",
     "output_type": "stream",
     "text": [
      "<ipython-input-21-282316d2dfff>:2: SettingWithCopyWarning: \n",
      "A value is trying to be set on a copy of a slice from a DataFrame.\n",
      "Try using .loc[row_indexer,col_indexer] = value instead\n",
      "\n",
      "See the caveats in the documentation: https://pandas.pydata.org/pandas-docs/stable/user_guide/indexing.html#returning-a-view-versus-a-copy\n",
      "  df['bs_balance'] = df['balance_']-df['amount_']\n"
     ]
    }
   ],
   "source": [
    "#before salary balance\n",
    "df['bs_balance'] = df['balance_']-df['amount_']"
   ]
  },
  {
   "cell_type": "code",
   "execution_count": 22,
   "metadata": {},
   "outputs": [],
   "source": [
    "# transacted amount per customer\n",
    "a3 = df['amount_'].groupby(df['customer_id']).sum()\n",
    "a3 = a3.tolist()"
   ]
  },
  {
   "cell_type": "code",
   "execution_count": 23,
   "metadata": {},
   "outputs": [],
   "source": [
    "# estimating the annual salary of each customer\n",
    "sal = []\n",
    "for i in a3:\n",
    "    sal.append((i*12)/3)"
   ]
  },
  {
   "cell_type": "code",
   "execution_count": 24,
   "metadata": {},
   "outputs": [
    {
     "data": {
      "text/plain": [
       "(array([ 8., 18., 20., 11.,  6.,  6.,  4.,  4.,  3.,  2.]),\n",
       " array([ 28623.84 ,  39219.108,  49814.376,  60409.644,  71004.912,\n",
       "         81600.18 ,  92195.448, 102790.716, 113385.984, 123981.252,\n",
       "        134576.52 ]),\n",
       " <a list of 10 Patch objects>)"
      ]
     },
     "execution_count": 24,
     "metadata": {},
     "output_type": "execute_result"
    },
    {
     "data": {
      "image/png": "[encoded data removed]",
      "text/plain": [
       "<Figure size 432x288 with 1 Axes>"
      ]
     },
     "metadata": {
      "needs_background": "light"
     },
     "output_type": "display_data"
    }
   ],
   "source": [
    "plt.hist(sal)"
   ]
  },
  {
   "cell_type": "code",
   "execution_count": 25,
   "metadata": {},
   "outputs": [],
   "source": [
    "#transaction volume by each customer\n",
    "tran_vol = df['customer_id'].value_counts().tolist()"
   ]
  },
  {
   "cell_type": "code",
   "execution_count": 26,
   "metadata": {},
   "outputs": [
    {
     "name": "stderr",
     "output_type": "stream",
     "text": [
      "C:\\ProgramData\\Anaconda3\\lib\\site-packages\\pandas\\core\\generic.py:6746: SettingWithCopyWarning: \n",
      "A value is trying to be set on a copy of a slice from a DataFrame\n",
      "\n",
      "See the caveats in the documentation: https://pandas.pydata.org/pandas-docs/stable/user_guide/indexing.html#returning-a-view-versus-a-copy\n",
      "  self._update_inplace(new_data)\n"
     ]
    }
   ],
   "source": [
    "# renaming the gender variable\n",
    "df['gender'].replace({'F': 1, 'M': 0}, inplace=True)"
   ]
  },
  {
   "cell_type": "code",
   "execution_count": 27,
   "metadata": {},
   "outputs": [],
   "source": [
    "# grouping the data by customer_id\n",
    "df_ = df.groupby(['customer_id']).mean()"
   ]
  },
  {
   "cell_type": "code",
   "execution_count": 28,
   "metadata": {},
   "outputs": [
    {
     "data": {
      "text/html": [
       "<div>\n",
       "<style scoped>\n",
       "    .dataframe tbody tr th:only-of-type {\n",
       "        vertical-align: middle;\n",
       "    }\n",
       "\n",
       "    .dataframe tbody tr th {\n",
       "        vertical-align: top;\n",
       "    }\n",
       "\n",
       "    .dataframe thead th {\n",
       "        text-align: right;\n",
       "    }\n",
       "</style>\n",
       "<table border=\"1\" class=\"dataframe\">\n",
       "  <thead>\n",
       "    <tr style=\"text-align: right;\">\n",
       "      <th></th>\n",
       "      <th>balance</th>\n",
       "      <th>gender</th>\n",
       "      <th>age</th>\n",
       "      <th>amount</th>\n",
       "      <th>amount_</th>\n",
       "      <th>balance_</th>\n",
       "      <th>bs_balance</th>\n",
       "      <th>tran_vol</th>\n",
       "    </tr>\n",
       "    <tr>\n",
       "      <th>customer_id</th>\n",
       "      <th></th>\n",
       "      <th></th>\n",
       "      <th></th>\n",
       "      <th></th>\n",
       "      <th></th>\n",
       "      <th></th>\n",
       "      <th></th>\n",
       "      <th></th>\n",
       "    </tr>\n",
       "  </thead>\n",
       "  <tbody>\n",
       "    <tr>\n",
       "      <th>CUS-1005756958</th>\n",
       "      <td>4718.665385</td>\n",
       "      <td>1</td>\n",
       "      <td>53</td>\n",
       "      <td>970.47</td>\n",
       "      <td>970.47</td>\n",
       "      <td>4718.665385</td>\n",
       "      <td>3748.195385</td>\n",
       "      <td>14</td>\n",
       "    </tr>\n",
       "    <tr>\n",
       "      <th>CUS-1117979751</th>\n",
       "      <td>11957.202857</td>\n",
       "      <td>0</td>\n",
       "      <td>21</td>\n",
       "      <td>3578.65</td>\n",
       "      <td>3578.65</td>\n",
       "      <td>11957.202857</td>\n",
       "      <td>8378.552857</td>\n",
       "      <td>14</td>\n",
       "    </tr>\n",
       "    <tr>\n",
       "      <th>CUS-1140341822</th>\n",
       "      <td>5841.720000</td>\n",
       "      <td>0</td>\n",
       "      <td>28</td>\n",
       "      <td>1916.51</td>\n",
       "      <td>1916.51</td>\n",
       "      <td>5841.720000</td>\n",
       "      <td>3925.210000</td>\n",
       "      <td>14</td>\n",
       "    </tr>\n",
       "    <tr>\n",
       "      <th>CUS-1147642491</th>\n",
       "      <td>8813.467692</td>\n",
       "      <td>1</td>\n",
       "      <td>34</td>\n",
       "      <td>1711.39</td>\n",
       "      <td>1711.39</td>\n",
       "      <td>8813.467692</td>\n",
       "      <td>7102.077692</td>\n",
       "      <td>14</td>\n",
       "    </tr>\n",
       "    <tr>\n",
       "      <th>CUS-1196156254</th>\n",
       "      <td>20270.395000</td>\n",
       "      <td>1</td>\n",
       "      <td>34</td>\n",
       "      <td>3903.73</td>\n",
       "      <td>3903.73</td>\n",
       "      <td>20270.395000</td>\n",
       "      <td>16366.665000</td>\n",
       "      <td>14</td>\n",
       "    </tr>\n",
       "  </tbody>\n",
       "</table>\n",
       "</div>"
      ],
      "text/plain": [
       "                     balance  gender  age   amount  amount_      balance_  \\\n",
       "customer_id                                                                 \n",
       "CUS-1005756958   4718.665385       1   53   970.47   970.47   4718.665385   \n",
       "CUS-1117979751  11957.202857       0   21  3578.65  3578.65  11957.202857   \n",
       "CUS-1140341822   5841.720000       0   28  1916.51  1916.51   5841.720000   \n",
       "CUS-1147642491   8813.467692       1   34  1711.39  1711.39   8813.467692   \n",
       "CUS-1196156254  20270.395000       1   34  3903.73  3903.73  20270.395000   \n",
       "\n",
       "                  bs_balance  tran_vol  \n",
       "customer_id                             \n",
       "CUS-1005756958   3748.195385        14  \n",
       "CUS-1117979751   8378.552857        14  \n",
       "CUS-1140341822   3925.210000        14  \n",
       "CUS-1147642491   7102.077692        14  \n",
       "CUS-1196156254  16366.665000        14  "
      ]
     },
     "execution_count": 28,
     "metadata": {},
     "output_type": "execute_result"
    }
   ],
   "source": [
    "df_['tran_vol'] = tran_vol\n",
    "df_.head()"
   ]
  },
  {
   "cell_type": "code",
   "execution_count": 29,
   "metadata": {},
   "outputs": [],
   "source": [
    "df_.drop(['balance','amount'], axis=1, inplace=True)"
   ]
  },
  {
   "cell_type": "code",
   "execution_count": 30,
   "metadata": {},
   "outputs": [
    {
     "data": {
      "text/html": [
       "<div>\n",
       "<style scoped>\n",
       "    .dataframe tbody tr th:only-of-type {\n",
       "        vertical-align: middle;\n",
       "    }\n",
       "\n",
       "    .dataframe tbody tr th {\n",
       "        vertical-align: top;\n",
       "    }\n",
       "\n",
       "    .dataframe thead th {\n",
       "        text-align: right;\n",
       "    }\n",
       "</style>\n",
       "<table border=\"1\" class=\"dataframe\">\n",
       "  <thead>\n",
       "    <tr style=\"text-align: right;\">\n",
       "      <th></th>\n",
       "      <th>gender</th>\n",
       "      <th>age</th>\n",
       "      <th>amount_</th>\n",
       "      <th>balance_</th>\n",
       "      <th>bs_balance</th>\n",
       "      <th>tran_vol</th>\n",
       "    </tr>\n",
       "    <tr>\n",
       "      <th>customer_id</th>\n",
       "      <th></th>\n",
       "      <th></th>\n",
       "      <th></th>\n",
       "      <th></th>\n",
       "      <th></th>\n",
       "      <th></th>\n",
       "    </tr>\n",
       "  </thead>\n",
       "  <tbody>\n",
       "    <tr>\n",
       "      <th>CUS-1005756958</th>\n",
       "      <td>1</td>\n",
       "      <td>53</td>\n",
       "      <td>970.47</td>\n",
       "      <td>4718.665385</td>\n",
       "      <td>3748.195385</td>\n",
       "      <td>14</td>\n",
       "    </tr>\n",
       "    <tr>\n",
       "      <th>CUS-1117979751</th>\n",
       "      <td>0</td>\n",
       "      <td>21</td>\n",
       "      <td>3578.65</td>\n",
       "      <td>11957.202857</td>\n",
       "      <td>8378.552857</td>\n",
       "      <td>14</td>\n",
       "    </tr>\n",
       "    <tr>\n",
       "      <th>CUS-1140341822</th>\n",
       "      <td>0</td>\n",
       "      <td>28</td>\n",
       "      <td>1916.51</td>\n",
       "      <td>5841.720000</td>\n",
       "      <td>3925.210000</td>\n",
       "      <td>14</td>\n",
       "    </tr>\n",
       "    <tr>\n",
       "      <th>CUS-1147642491</th>\n",
       "      <td>1</td>\n",
       "      <td>34</td>\n",
       "      <td>1711.39</td>\n",
       "      <td>8813.467692</td>\n",
       "      <td>7102.077692</td>\n",
       "      <td>14</td>\n",
       "    </tr>\n",
       "    <tr>\n",
       "      <th>CUS-1196156254</th>\n",
       "      <td>1</td>\n",
       "      <td>34</td>\n",
       "      <td>3903.73</td>\n",
       "      <td>20270.395000</td>\n",
       "      <td>16366.665000</td>\n",
       "      <td>14</td>\n",
       "    </tr>\n",
       "  </tbody>\n",
       "</table>\n",
       "</div>"
      ],
      "text/plain": [
       "                gender  age  amount_      balance_    bs_balance  tran_vol\n",
       "customer_id                                                               \n",
       "CUS-1005756958       1   53   970.47   4718.665385   3748.195385        14\n",
       "CUS-1117979751       0   21  3578.65  11957.202857   8378.552857        14\n",
       "CUS-1140341822       0   28  1916.51   5841.720000   3925.210000        14\n",
       "CUS-1147642491       1   34  1711.39   8813.467692   7102.077692        14\n",
       "CUS-1196156254       1   34  3903.73  20270.395000  16366.665000        14"
      ]
     },
     "execution_count": 30,
     "metadata": {},
     "output_type": "execute_result"
    }
   ],
   "source": [
    "df_.head()"
   ]
  },
  {
   "cell_type": "code",
   "execution_count": 31,
   "metadata": {},
   "outputs": [],
   "source": [
    "dict = {'customer_id':df_['balance_'].index.tolist(), 'age': df_['age'].tolist(), 'gender': df_['gender'].tolist(), \n",
    "        'avg_balance': df_['balance_'].tolist(), 'avg_amount': df_['amount_'].tolist(),'tran_vol': df_['tran_vol'].tolist(), 'anu_salary': sal,\n",
    "       'bs_balance': df_['bs_balance'].tolist()}"
   ]
  },
  {
   "cell_type": "code",
   "execution_count": 32,
   "metadata": {},
   "outputs": [
    {
     "data": {
      "text/html": [
       "<div>\n",
       "<style scoped>\n",
       "    .dataframe tbody tr th:only-of-type {\n",
       "        vertical-align: middle;\n",
       "    }\n",
       "\n",
       "    .dataframe tbody tr th {\n",
       "        vertical-align: top;\n",
       "    }\n",
       "\n",
       "    .dataframe thead th {\n",
       "        text-align: right;\n",
       "    }\n",
       "</style>\n",
       "<table border=\"1\" class=\"dataframe\">\n",
       "  <thead>\n",
       "    <tr style=\"text-align: right;\">\n",
       "      <th></th>\n",
       "      <th>customer_id</th>\n",
       "      <th>age</th>\n",
       "      <th>gender</th>\n",
       "      <th>avg_balance</th>\n",
       "      <th>avg_amount</th>\n",
       "      <th>tran_vol</th>\n",
       "      <th>anu_salary</th>\n",
       "      <th>bs_balance</th>\n",
       "    </tr>\n",
       "  </thead>\n",
       "  <tbody>\n",
       "    <tr>\n",
       "      <th>0</th>\n",
       "      <td>CUS-1005756958</td>\n",
       "      <td>53</td>\n",
       "      <td>1</td>\n",
       "      <td>4718.665385</td>\n",
       "      <td>970.47</td>\n",
       "      <td>14</td>\n",
       "      <td>50464.44</td>\n",
       "      <td>3748.195385</td>\n",
       "    </tr>\n",
       "    <tr>\n",
       "      <th>1</th>\n",
       "      <td>CUS-1117979751</td>\n",
       "      <td>21</td>\n",
       "      <td>0</td>\n",
       "      <td>11957.202857</td>\n",
       "      <td>3578.65</td>\n",
       "      <td>14</td>\n",
       "      <td>100202.20</td>\n",
       "      <td>8378.552857</td>\n",
       "    </tr>\n",
       "    <tr>\n",
       "      <th>2</th>\n",
       "      <td>CUS-1140341822</td>\n",
       "      <td>28</td>\n",
       "      <td>0</td>\n",
       "      <td>5841.720000</td>\n",
       "      <td>1916.51</td>\n",
       "      <td>14</td>\n",
       "      <td>45996.24</td>\n",
       "      <td>3925.210000</td>\n",
       "    </tr>\n",
       "    <tr>\n",
       "      <th>3</th>\n",
       "      <td>CUS-1147642491</td>\n",
       "      <td>34</td>\n",
       "      <td>1</td>\n",
       "      <td>8813.467692</td>\n",
       "      <td>1711.39</td>\n",
       "      <td>14</td>\n",
       "      <td>88992.28</td>\n",
       "      <td>7102.077692</td>\n",
       "    </tr>\n",
       "    <tr>\n",
       "      <th>4</th>\n",
       "      <td>CUS-1196156254</td>\n",
       "      <td>34</td>\n",
       "      <td>1</td>\n",
       "      <td>20270.395000</td>\n",
       "      <td>3903.73</td>\n",
       "      <td>14</td>\n",
       "      <td>62459.68</td>\n",
       "      <td>16366.665000</td>\n",
       "    </tr>\n",
       "  </tbody>\n",
       "</table>\n",
       "</div>"
      ],
      "text/plain": [
       "      customer_id  age  gender   avg_balance  avg_amount  tran_vol  \\\n",
       "0  CUS-1005756958   53       1   4718.665385      970.47        14   \n",
       "1  CUS-1117979751   21       0  11957.202857     3578.65        14   \n",
       "2  CUS-1140341822   28       0   5841.720000     1916.51        14   \n",
       "3  CUS-1147642491   34       1   8813.467692     1711.39        14   \n",
       "4  CUS-1196156254   34       1  20270.395000     3903.73        14   \n",
       "\n",
       "   anu_salary    bs_balance  \n",
       "0    50464.44   3748.195385  \n",
       "1   100202.20   8378.552857  \n",
       "2    45996.24   3925.210000  \n",
       "3    88992.28   7102.077692  \n",
       "4    62459.68  16366.665000  "
      ]
     },
     "execution_count": 32,
     "metadata": {},
     "output_type": "execute_result"
    }
   ],
   "source": [
    "data_ = pd.DataFrame(dict)\n",
    "data_.head()"
   ]
  },
  {
   "cell_type": "code",
   "execution_count": 33,
   "metadata": {},
   "outputs": [
    {
     "data": {
      "text/plain": [
       "<seaborn.axisgrid.PairGrid at 0x26580291be0>"
      ]
     },
     "execution_count": 33,
     "metadata": {},
     "output_type": "execute_result"
    },
    {
     "data": {
      "image/png": "[encoded data removed]",
      "text/plain": [
       "<Figure size 1260x1260 with 56 Axes>"
      ]
     },
     "metadata": {
      "needs_background": "light"
     },
     "output_type": "display_data"
    }
   ],
   "source": [
    "sns.pairplot(data_)"
   ]
  },
  {
   "cell_type": "code",
   "execution_count": 34,
   "metadata": {},
   "outputs": [],
   "source": [
    "# Creating the X independent and y dependent variables\n",
    "X = data_[['age','gender','avg_balance','avg_amount','tran_vol','bs_balance']]\n",
    "y = data_['anu_salary']"
   ]
  },
  {
   "cell_type": "code",
   "execution_count": 35,
   "metadata": {},
   "outputs": [],
   "source": [
    "# splitting the data into train and test set\n",
    "from sklearn.model_selection import train_test_split\n",
    "X_train, X_test, y_train, y_test = train_test_split(X, y, test_size=0.12, random_state=101)"
   ]
  },
  {
   "cell_type": "code",
   "execution_count": 36,
   "metadata": {},
   "outputs": [
    {
     "name": "stdout",
     "output_type": "stream",
     "text": [
      "(72, 6)\n",
      "(10, 6)\n"
     ]
    },
    {
     "data": {
      "text/plain": [
       "(None, None)"
      ]
     },
     "execution_count": 36,
     "metadata": {},
     "output_type": "execute_result"
    }
   ],
   "source": [
    "print(X_train.shape), print(X_test.shape)"
   ]
  },
  {
   "cell_type": "markdown",
   "metadata": {},
   "source": [
    "### Linear Regression"
   ]
  },
  {
   "cell_type": "code",
   "execution_count": 37,
   "metadata": {},
   "outputs": [],
   "source": [
    "from sklearn.linear_model import LinearRegression\n",
    "lm = LinearRegression()\n",
    "lm.fit(X_train,y_train)\n",
    "pred = lm.predict(X_test)"
   ]
  },
  {
   "cell_type": "code",
   "execution_count": 38,
   "metadata": {},
   "outputs": [
    {
     "data": {
      "text/plain": [
       "Text(0, 0.5, 'Predicted values')"
      ]
     },
     "execution_count": 38,
     "metadata": {},
     "output_type": "execute_result"
    },
    {
     "data": {
      "image/png": "[encoded data removed]",
      "text/plain": [
       "<Figure size 432x288 with 1 Axes>"
      ]
     },
     "metadata": {
      "needs_background": "light"
     },
     "output_type": "display_data"
    }
   ],
   "source": [
    "# plotting actual values and predicted values\n",
    "plt.scatter(y_test,pred)\n",
    "plt.xlabel('y_test(true values)')\n",
    "plt.ylabel('Predicted values')"
   ]
  },
  {
   "cell_type": "code",
   "execution_count": 39,
   "metadata": {},
   "outputs": [
    {
     "name": "stdout",
     "output_type": "stream",
     "text": [
      "RMSE 21866.40707376655\n",
      "0.45371465409710865\n"
     ]
    }
   ],
   "source": [
    "# root mean square error\n",
    "from sklearn import metrics\n",
    "print('RMSE', np.sqrt(metrics.mean_squared_error(y_test,pred)))\n",
    "\n",
    "# R2 score\n",
    "from sklearn.metrics import r2_score\n",
    "print(r2_score(y_test, pred))"
   ]
  },
  {
   "cell_type": "markdown",
   "metadata": {},
   "source": [
    "### Decision Tree Regressor"
   ]
  },
  {
   "cell_type": "code",
   "execution_count": 55,
   "metadata": {},
   "outputs": [],
   "source": [
    "# fitting and training the model\n",
    "from sklearn import tree\n",
    "from sklearn.tree import DecisionTreeRegressor\n",
    "regressor = tree.DecisionTreeRegressor()\n",
    "regressor.fit(X_train,y_train)\n",
    "\n",
    "# predicting the annual salary\n",
    "pred2 = regressor.predict(X_test)"
   ]
  },
  {
   "cell_type": "code",
   "execution_count": 56,
   "metadata": {},
   "outputs": [
    {
     "data": {
      "text/plain": [
       "Text(0, 0.5, 'Predicted values')"
      ]
     },
     "execution_count": 56,
     "metadata": {},
     "output_type": "execute_result"
    },
    {
     "data": {
      "image/png": "[encoded data removed]",
      "text/plain": [
       "<Figure size 432x288 with 1 Axes>"
      ]
     },
     "metadata": {
      "needs_background": "light"
     },
     "output_type": "display_data"
    }
   ],
   "source": [
    "# plotting actual values and predicted values\n",
    "plt.scatter(y_test,pred2)\n",
    "plt.xlabel('y_test(true values)')\n",
    "plt.ylabel('Predicted values')"
   ]
  },
  {
   "cell_type": "code",
   "execution_count": 57,
   "metadata": {},
   "outputs": [
    {
     "name": "stdout",
     "output_type": "stream",
     "text": [
      "RMSE 25248.043554312888\n",
      "0.2716834908360396\n"
     ]
    }
   ],
   "source": [
    "# root mean square error\n",
    "print('RMSE', np.sqrt(metrics.mean_squared_error(y_test,pred2)))\n",
    "\n",
    "# R2 score\n",
    "from sklearn.metrics import r2_score\n",
    "print(r2_score(y_test, pred2))"
   ]
  },
  {
   "cell_type": "markdown",
   "metadata": {},
   "source": [
    "Among the above two prediction models, Linear Regression performs better in predicting the Annual Salary of the customers comparatively.\n",
    "I believe, The accuarcy can be improved by gathering more data."
   ]
  }
 ],
 "metadata": {
  "kernelspec": {
   "display_name": "Python 3",
   "language": "python",
   "name": "python3"
  },
  "language_info": {
   "codemirror_mode": {
    "name": "ipython",
    "version": 3
   },
   "file_extension": ".py",
   "mimetype": "text/x-python",
   "name": "python",
   "nbconvert_exporter": "python",
   "pygments_lexer": "ipython3",
   "version": "3.8.3"
  }
 },
 "nbformat": 4,
 "nbformat_minor": 4
}
