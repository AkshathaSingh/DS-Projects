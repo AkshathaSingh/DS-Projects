{
 "cells": [
  {
   "cell_type": "markdown",
   "metadata": {},
   "source": [
    "## Stock Price Prediction using LSTM Recurrent Neural Networks"
   ]
  },
  {
   "cell_type": "markdown",
   "metadata": {},
   "source": [
    "### Overview\n",
    "In this project, we'll build an LSTM Recurrent Neural Network to predict the Closing stock price of the Big 4 Tech companies, \n",
    "Google, Amazon, Facebook and Apple.\n",
    "\n",
    "We'll be doing the following steps to complete our project:\n",
    "- We'll first collect the data \n",
    "- Then preprocess the data so that it can be used to train our model\n",
    "- Split the data into training set(used to train the model) and test set(used to check the performance of the model)\n",
    "- Build our Sequential LSTM RNN model using keras with TensorFlow backend\n",
    "- Fit the model to our data\n",
    "- Validate the performance of our model by testing it's performance on the test data\n",
    "\n",
    "### Data\n",
    "- The data has been imported from the Tiingo API\n",
    "- The data of the stock prices for the last 5 years, i.e, from 2015 to 2020 has been taken "
   ]
  },
  {
   "cell_type": "code",
   "execution_count": 1,
   "metadata": {},
   "outputs": [],
   "source": [
    "# Libraries required for importing data\n",
    "import pandas as pd\n",
    "import numpy as np\n",
    "import matplotlib.pyplot as plt\n",
    "import seaborn as sns\n",
    "%matplotlib inline\n",
    "import pandas_datareader as pdr\n",
    "from pandas_datareader import data\n",
    "import config"
   ]
  },
  {
   "cell_type": "code",
   "execution_count": 4,
   "metadata": {},
   "outputs": [],
   "source": [
    "# API key\n",
    "key = config.api_key\n",
    "\n",
    "# loading data of the Big 4 Tech companies\n",
    "google = pdr.get_data_tiingo('GOOGL', api_key = key)\n",
    "Amazon = pdr.get_data_tiingo('AMZN', api_key = key)\n",
    "Facebook = pdr.get_data_tiingo('FB', api_key = key)\n",
    "Apple = pdr.get_data_tiingo('AAPL', api_key = key)\n",
    "\n",
    "# converting the file to csv format\n",
    "google.to_csv('GOOGL.csv')\n",
    "Amazon.to_csv('AMZN.csv')\n",
    "Facebook.to_csv('FB.csv')\n",
    "Apple.to_csv('AAPL.csv')\n",
    "\n",
    "# reading the files as a dataframe\n",
    "google = pd.read_csv('GOOGL.csv')\n",
    "Amazon = pd.read_csv('AMZN.csv')\n",
    "Facebook = pd.read_csv('FB.csv')\n",
    "Apple = pd.read_csv('AAPL.csv')"
   ]
  },
  {
   "cell_type": "markdown",
   "metadata": {},
   "source": [
    "we'll be creating a dataframe taking the 'close price' of each company"
   ]
  },
  {
   "cell_type": "code",
   "execution_count": 5,
   "metadata": {},
   "outputs": [
    {
     "data": {
      "text/html": [
       "<div>\n",
       "<style scoped>\n",
       "    .dataframe tbody tr th:only-of-type {\n",
       "        vertical-align: middle;\n",
       "    }\n",
       "\n",
       "    .dataframe tbody tr th {\n",
       "        vertical-align: top;\n",
       "    }\n",
       "\n",
       "    .dataframe thead th {\n",
       "        text-align: right;\n",
       "    }\n",
       "</style>\n",
       "<table border=\"1\" class=\"dataframe\">\n",
       "  <thead>\n",
       "    <tr style=\"text-align: right;\">\n",
       "      <th></th>\n",
       "      <th>google</th>\n",
       "      <th>amazon</th>\n",
       "      <th>fb</th>\n",
       "      <th>apple</th>\n",
       "    </tr>\n",
       "  </thead>\n",
       "  <tbody>\n",
       "    <tr>\n",
       "      <th>0</th>\n",
       "      <td>731.12</td>\n",
       "      <td>608.61</td>\n",
       "      <td>103.77</td>\n",
       "      <td>115.28</td>\n",
       "    </tr>\n",
       "    <tr>\n",
       "      <th>1</th>\n",
       "      <td>732.82</td>\n",
       "      <td>611.01</td>\n",
       "      <td>103.70</td>\n",
       "      <td>114.55</td>\n",
       "    </tr>\n",
       "    <tr>\n",
       "      <th>2</th>\n",
       "      <td>736.92</td>\n",
       "      <td>617.10</td>\n",
       "      <td>104.20</td>\n",
       "      <td>119.27</td>\n",
       "    </tr>\n",
       "    <tr>\n",
       "      <th>3</th>\n",
       "      <td>744.85</td>\n",
       "      <td>626.55</td>\n",
       "      <td>104.88</td>\n",
       "      <td>120.53</td>\n",
       "    </tr>\n",
       "    <tr>\n",
       "      <th>4</th>\n",
       "      <td>737.39</td>\n",
       "      <td>625.90</td>\n",
       "      <td>101.97</td>\n",
       "      <td>119.50</td>\n",
       "    </tr>\n",
       "  </tbody>\n",
       "</table>\n",
       "</div>"
      ],
      "text/plain": [
       "   google  amazon      fb   apple\n",
       "0  731.12  608.61  103.77  115.28\n",
       "1  732.82  611.01  103.70  114.55\n",
       "2  736.92  617.10  104.20  119.27\n",
       "3  744.85  626.55  104.88  120.53\n",
       "4  737.39  625.90  101.97  119.50"
      ]
     },
     "execution_count": 5,
     "metadata": {},
     "output_type": "execute_result"
    }
   ],
   "source": [
    "# Dataframe\n",
    "gafa = {'google':google['close'], 'amazon':Amazon['close'], 'fb':Facebook['close'], 'apple':Apple['close']}\n",
    "data = pd.DataFrame(gafa)\n",
    "data.head()"
   ]
  },
  {
   "cell_type": "markdown",
   "metadata": {},
   "source": [
    "# Google\n",
    "Now, we'll start with first building a model to predict the closing stock price of google. "
   ]
  },
  {
   "cell_type": "code",
   "execution_count": 6,
   "metadata": {},
   "outputs": [
    {
     "data": {
      "text/plain": [
       "[<matplotlib.lines.Line2D at 0x1f18d9dc850>]"
      ]
     },
     "execution_count": 6,
     "metadata": {},
     "output_type": "execute_result"
    },
    {
     "data": {
      "image/png": "[encoded data removed]",
      "text/plain": [
       "<Figure size 432x288 with 1 Axes>"
      ]
     },
     "metadata": {
      "needs_background": "light"
     },
     "output_type": "display_data"
    }
   ],
   "source": [
    "plt.plot(data['google'])"
   ]
  },
  {
   "cell_type": "markdown",
   "metadata": {},
   "source": [
    "### Data Preprocessing"
   ]
  },
  {
   "cell_type": "code",
   "execution_count": 7,
   "metadata": {},
   "outputs": [],
   "source": [
    "# Scaling the data so that it is in the range of 0-1\n",
    "from sklearn.preprocessing import MinMaxScaler\n",
    "scaler = MinMaxScaler()\n",
    "goog = scaler.fit_transform(np.array(data['google']).reshape(-1,1))"
   ]
  },
  {
   "cell_type": "code",
   "execution_count": 8,
   "metadata": {},
   "outputs": [
    {
     "data": {
      "text/plain": [
       "1259"
      ]
     },
     "execution_count": 8,
     "metadata": {},
     "output_type": "execute_result"
    }
   ],
   "source": [
    "len(goog)"
   ]
  },
  {
   "cell_type": "code",
   "execution_count": 9,
   "metadata": {},
   "outputs": [
    {
     "data": {
      "text/plain": [
       "1259"
      ]
     },
     "execution_count": 9,
     "metadata": {},
     "output_type": "execute_result"
    }
   ],
   "source": [
    "len(data['google'])"
   ]
  },
  {
   "cell_type": "code",
   "execution_count": 10,
   "metadata": {},
   "outputs": [],
   "source": [
    "# splitting the data into train set and test set\n",
    "train_data = goog[0:(int(len(goog)*0.90))]\n",
    "test_data = goog[len(train_data):len(goog)]"
   ]
  },
  {
   "cell_type": "code",
   "execution_count": 11,
   "metadata": {},
   "outputs": [
    {
     "data": {
      "text/plain": [
       "(1133, 126)"
      ]
     },
     "execution_count": 11,
     "metadata": {},
     "output_type": "execute_result"
    }
   ],
   "source": [
    "len(train_data), len(test_data)"
   ]
  },
  {
   "cell_type": "markdown",
   "metadata": {},
   "source": [
    "we'll create a function to create a document matrix from our data with X features and a Y lable with specified timesteps which \n",
    "indicates the number of previous data points to be considered to predict the next value"
   ]
  },
  {
   "cell_type": "code",
   "execution_count": 12,
   "metadata": {},
   "outputs": [],
   "source": [
    "# function to create a document matrix of our data\n",
    "def model_data(data, timesteps):\n",
    "    x = []\n",
    "    y = []\n",
    "    for i in range(len(data)-timesteps-1):\n",
    "        x.append(data[i:(i+timesteps), 0])\n",
    "        y.append(data[i+timesteps, 0])\n",
    "    \n",
    "    return np.array(x), np.array(y)"
   ]
  },
  {
   "cell_type": "code",
   "execution_count": 13,
   "metadata": {},
   "outputs": [],
   "source": [
    "timesteps = 30\n",
    "X_train, y_train = model_data(train_data, timesteps)\n",
    "X_test, y_test = model_data(test_data, timesteps)"
   ]
  },
  {
   "cell_type": "code",
   "execution_count": 14,
   "metadata": {},
   "outputs": [
    {
     "data": {
      "text/plain": [
       "array([[0.0482316 , 0.04987214, 0.05382871, ..., 0.08401448, 0.09463932,\n",
       "        0.08863691],\n",
       "       [0.04987214, 0.05382871, 0.0614813 , ..., 0.09463932, 0.08863691,\n",
       "        0.0907117 ],\n",
       "       [0.05382871, 0.0614813 , 0.05428227, ..., 0.08863691, 0.0907117 ,\n",
       "        0.07856212],\n",
       "       ...,\n",
       "       [0.5732497 , 0.51122799, 0.41535344, ..., 0.57694572, 0.55972014,\n",
       "        0.51244391],\n",
       "       [0.51122799, 0.41535344, 0.5144801 , ..., 0.55972014, 0.51244391,\n",
       "        0.557076  ],\n",
       "       [0.41535344, 0.5144801 , 0.37815199, ..., 0.51244391, 0.557076  ,\n",
       "        0.56938963]])"
      ]
     },
     "execution_count": 14,
     "metadata": {},
     "output_type": "execute_result"
    }
   ],
   "source": [
    "X_train"
   ]
  },
  {
   "cell_type": "code",
   "execution_count": 15,
   "metadata": {},
   "outputs": [
    {
     "name": "stdout",
     "output_type": "stream",
     "text": [
      "(1102, 30)\n",
      "(95, 30)\n"
     ]
    },
    {
     "data": {
      "text/plain": [
       "(None, None)"
      ]
     },
     "execution_count": 15,
     "metadata": {},
     "output_type": "execute_result"
    }
   ],
   "source": [
    "print(X_train.shape), print(X_test.shape)"
   ]
  },
  {
   "cell_type": "markdown",
   "metadata": {},
   "source": [
    "Reshaping the data in 2D array into a 3D array"
   ]
  },
  {
   "cell_type": "code",
   "execution_count": 16,
   "metadata": {},
   "outputs": [],
   "source": [
    "# reshaping the data to make it compatible with the LSTM model\n",
    "X_train = X_train.reshape(X_train.shape[0], X_train.shape[1], 1)\n",
    "X_test = X_test.reshape(X_test.shape[0], X_test.shape[1], 1)"
   ]
  },
  {
   "cell_type": "code",
   "execution_count": 17,
   "metadata": {},
   "outputs": [
    {
     "name": "stdout",
     "output_type": "stream",
     "text": [
      "(1102, 30, 1)\n",
      "(95, 30, 1)\n"
     ]
    },
    {
     "data": {
      "text/plain": [
       "(None, None)"
      ]
     },
     "execution_count": 17,
     "metadata": {},
     "output_type": "execute_result"
    }
   ],
   "source": [
    "print(X_train.shape), print(X_test.shape)"
   ]
  },
  {
   "cell_type": "markdown",
   "metadata": {},
   "source": [
    "### Building The LSTM Recurrent Neural Network"
   ]
  },
  {
   "cell_type": "code",
   "execution_count": 20,
   "metadata": {},
   "outputs": [],
   "source": [
    "# libraries required to build a LSTM Neural Network\n",
    "from tensorflow.keras.models import Sequential\n",
    "from tensorflow.keras.layers import Dense\n",
    "from tensorflow.keras.layers import LSTM"
   ]
  },
  {
   "cell_type": "markdown",
   "metadata": {},
   "source": [
    "We'll create a Neural Network with one input layer, two hidden layers and one output layer. We'll use mean squared error as \n",
    "the loss function and 'Adam' as an optimizer."
   ]
  },
  {
   "cell_type": "code",
   "execution_count": 21,
   "metadata": {},
   "outputs": [],
   "source": [
    "model = Sequential()\n",
    "model.add(LSTM(50, return_sequences = True, input_shape = (30, 1)))\n",
    "model.add(LSTM(50, return_sequences = True))\n",
    "model.add(LSTM(50))\n",
    "model.add(Dense(1))\n",
    "model.compile(loss = 'mean_squared_error', optimizer = 'adam')"
   ]
  },
  {
   "cell_type": "code",
   "execution_count": 18,
   "metadata": {},
   "outputs": [
    {
     "name": "stdout",
     "output_type": "stream",
     "text": [
      "Model: \"sequential\"\n",
      "_________________________________________________________________\n",
      "Layer (type)                 Output Shape              Param #   \n",
      "=================================================================\n",
      "lstm (LSTM)                  (None, 30, 50)            10400     \n",
      "_________________________________________________________________\n",
      "lstm_1 (LSTM)                (None, 30, 50)            20200     \n",
      "_________________________________________________________________\n",
      "lstm_2 (LSTM)                (None, 50)                20200     \n",
      "_________________________________________________________________\n",
      "dense (Dense)                (None, 1)                 51        \n",
      "=================================================================\n",
      "Total params: 50,851\n",
      "Trainable params: 50,851\n",
      "Non-trainable params: 0\n",
      "_________________________________________________________________\n"
     ]
    }
   ],
   "source": [
    "model.summary()"
   ]
  },
  {
   "cell_type": "code",
   "execution_count": 19,
   "metadata": {},
   "outputs": [
    {
     "name": "stdout",
     "output_type": "stream",
     "text": [
      "Train on 1100 samples, validate on 95 samples\n",
      "Epoch 1/100\n",
      "1100/1100 [==============================] - 9s 8ms/sample - loss: 0.0177 - val_loss: 0.0028\n",
      "Epoch 2/100\n",
      "1100/1100 [==============================] - 2s 2ms/sample - loss: 0.0017 - val_loss: 0.0065\n",
      "Epoch 3/100\n",
      "1100/1100 [==============================] - 2s 2ms/sample - loss: 0.0015 - val_loss: 0.0041\n",
      "Epoch 4/100\n",
      "1100/1100 [==============================] - 2s 2ms/sample - loss: 0.0014 - val_loss: 0.0032\n",
      "Epoch 5/100\n",
      "1100/1100 [==============================] - 2s 2ms/sample - loss: 0.0014 - val_loss: 0.0026\n",
      "Epoch 6/100\n",
      "1100/1100 [==============================] - 3s 2ms/sample - loss: 0.0014 - val_loss: 0.0032\n",
      "Epoch 7/100\n",
      "1100/1100 [==============================] - 2s 2ms/sample - loss: 0.0012 - val_loss: 0.0032\n",
      "Epoch 8/100\n",
      "1100/1100 [==============================] - 2s 2ms/sample - loss: 0.0011 - val_loss: 0.0029\n",
      "Epoch 9/100\n",
      "1100/1100 [==============================] - 2s 2ms/sample - loss: 0.0012 - val_loss: 0.0033\n",
      "Epoch 10/100\n",
      "1100/1100 [==============================] - 2s 2ms/sample - loss: 0.0013 - val_loss: 0.0027\n",
      "Epoch 11/100\n",
      "1100/1100 [==============================] - 2s 2ms/sample - loss: 0.0012 - val_loss: 0.0031\n",
      "Epoch 12/100\n",
      "1100/1100 [==============================] - 2s 2ms/sample - loss: 0.0011 - val_loss: 0.0021\n",
      "Epoch 13/100\n",
      "1100/1100 [==============================] - 2s 2ms/sample - loss: 0.0011 - val_loss: 0.0023\n",
      "Epoch 14/100\n",
      "1100/1100 [==============================] - 2s 2ms/sample - loss: 0.0012 - val_loss: 0.0047\n",
      "Epoch 15/100\n",
      "1100/1100 [==============================] - 2s 2ms/sample - loss: 0.0012 - val_loss: 0.0018\n",
      "Epoch 16/100\n",
      "1100/1100 [==============================] - 2s 2ms/sample - loss: 0.0012 - val_loss: 0.0024\n",
      "Epoch 17/100\n",
      "1100/1100 [==============================] - 2s 2ms/sample - loss: 9.6118e-04 - val_loss: 0.0022\n",
      "Epoch 18/100\n",
      "1100/1100 [==============================] - 2s 2ms/sample - loss: 9.4097e-04 - val_loss: 0.0017\n",
      "Epoch 19/100\n",
      "1100/1100 [==============================] - 3s 2ms/sample - loss: 9.1718e-04 - val_loss: 0.0016\n",
      "Epoch 20/100\n",
      "1100/1100 [==============================] - 2s 2ms/sample - loss: 9.7279e-04 - val_loss: 0.0018\n",
      "Epoch 21/100\n",
      "1100/1100 [==============================] - 3s 2ms/sample - loss: 9.5078e-04 - val_loss: 0.0030\n",
      "Epoch 22/100\n",
      "1100/1100 [==============================] - 2s 2ms/sample - loss: 9.3307e-04 - val_loss: 0.0019\n",
      "Epoch 23/100\n",
      "1100/1100 [==============================] - 2s 2ms/sample - loss: 8.6334e-04 - val_loss: 0.0015\n",
      "Epoch 24/100\n",
      "1100/1100 [==============================] - 2s 2ms/sample - loss: 8.0552e-04 - val_loss: 0.0015\n",
      "Epoch 25/100\n",
      "1100/1100 [==============================] - 3s 2ms/sample - loss: 7.8970e-04 - val_loss: 0.0022\n",
      "Epoch 26/100\n",
      "1100/1100 [==============================] - 2s 2ms/sample - loss: 7.9312e-04 - val_loss: 0.0028\n",
      "Epoch 27/100\n",
      "1100/1100 [==============================] - 2s 2ms/sample - loss: 9.0054e-04 - val_loss: 0.0015\n",
      "Epoch 28/100\n",
      "1100/1100 [==============================] - 2s 2ms/sample - loss: 7.1160e-04 - val_loss: 0.0017\n",
      "Epoch 29/100\n",
      "1100/1100 [==============================] - 2s 2ms/sample - loss: 7.7332e-04 - val_loss: 0.0013\n",
      "Epoch 30/100\n",
      "1100/1100 [==============================] - 2s 2ms/sample - loss: 6.6659e-04 - val_loss: 0.0012\n",
      "Epoch 31/100\n",
      "1100/1100 [==============================] - 2s 2ms/sample - loss: 7.5732e-04 - val_loss: 0.0012\n",
      "Epoch 32/100\n",
      "1100/1100 [==============================] - 3s 2ms/sample - loss: 6.9730e-04 - val_loss: 0.0012\n",
      "Epoch 33/100\n",
      "1100/1100 [==============================] - 2s 2ms/sample - loss: 5.9850e-04 - val_loss: 0.0013\n",
      "Epoch 34/100\n",
      "1100/1100 [==============================] - 2s 2ms/sample - loss: 6.5441e-04 - val_loss: 0.0012\n",
      "Epoch 35/100\n",
      "1100/1100 [==============================] - 2s 2ms/sample - loss: 6.6417e-04 - val_loss: 0.0011\n",
      "Epoch 36/100\n",
      "1100/1100 [==============================] - 2s 2ms/sample - loss: 8.8958e-04 - val_loss: 0.0012\n",
      "Epoch 37/100\n",
      "1100/1100 [==============================] - 2s 2ms/sample - loss: 5.7434e-04 - val_loss: 0.0017\n",
      "Epoch 38/100\n",
      "1100/1100 [==============================] - 2s 2ms/sample - loss: 5.4559e-04 - val_loss: 0.0011\n",
      "Epoch 39/100\n",
      "1100/1100 [==============================] - 2s 2ms/sample - loss: 5.4699e-04 - val_loss: 0.0013\n",
      "Epoch 40/100\n",
      "1100/1100 [==============================] - 2s 2ms/sample - loss: 5.0276e-04 - val_loss: 0.0019-\n",
      "Epoch 41/100\n",
      "1100/1100 [==============================] - 3s 2ms/sample - loss: 5.4832e-04 - val_loss: 0.0011\n",
      "Epoch 42/100\n",
      "1100/1100 [==============================] - 3s 2ms/sample - loss: 4.5429e-04 - val_loss: 0.0012\n",
      "Epoch 43/100\n",
      "1100/1100 [==============================] - 3s 2ms/sample - loss: 4.9327e-04 - val_loss: 0.0011\n",
      "Epoch 44/100\n",
      "1100/1100 [==============================] - 3s 3ms/sample - loss: 4.5627e-04 - val_loss: 0.0010\n",
      "Epoch 45/100\n",
      "1100/1100 [==============================] - 2s 2ms/sample - loss: 4.1875e-04 - val_loss: 0.0011\n",
      "Epoch 46/100\n",
      "1100/1100 [==============================] - 2s 2ms/sample - loss: 5.8726e-04 - val_loss: 0.0011\n",
      "Epoch 47/100\n",
      "1100/1100 [==============================] - 2s 2ms/sample - loss: 4.1078e-04 - val_loss: 9.8739e-04\n",
      "Epoch 48/100\n",
      "1100/1100 [==============================] - 2s 2ms/sample - loss: 4.3492e-04 - val_loss: 9.6067e-04\n",
      "Epoch 49/100\n",
      "1100/1100 [==============================] - 2s 2ms/sample - loss: 4.2834e-04 - val_loss: 0.0012\n",
      "Epoch 50/100\n",
      "1100/1100 [==============================] - 2s 2ms/sample - loss: 4.5851e-04 - val_loss: 9.1710e-04\n",
      "Epoch 51/100\n",
      "1100/1100 [==============================] - 2s 2ms/sample - loss: 3.8248e-04 - val_loss: 0.0010\n",
      "Epoch 52/100\n",
      "1100/1100 [==============================] - 2s 2ms/sample - loss: 3.7684e-04 - val_loss: 9.0273e-04\n",
      "Epoch 53/100\n",
      "1100/1100 [==============================] - 2s 2ms/sample - loss: 3.8299e-04 - val_loss: 0.0010\n",
      "Epoch 54/100\n",
      "1100/1100 [==============================] - 2s 2ms/sample - loss: 3.3082e-04 - val_loss: 0.0012\n",
      "Epoch 55/100\n",
      "1100/1100 [==============================] - 2s 2ms/sample - loss: 3.6947e-04 - val_loss: 0.0014\n",
      "Epoch 56/100\n",
      "1100/1100 [==============================] - 2s 2ms/sample - loss: 3.7718e-04 - val_loss: 0.0016\n",
      "Epoch 57/100\n",
      "1100/1100 [==============================] - 2s 2ms/sample - loss: 3.5300e-04 - val_loss: 0.0011\n",
      "Epoch 58/100\n",
      "1100/1100 [==============================] - 2s 2ms/sample - loss: 3.3413e-04 - val_loss: 8.6922e-04\n",
      "Epoch 59/100\n",
      "1100/1100 [==============================] - 2s 2ms/sample - loss: 3.8724e-04 - val_loss: 0.0011\n",
      "Epoch 60/100\n",
      "1100/1100 [==============================] - 2s 2ms/sample - loss: 3.4495e-04 - val_loss: 9.8908e-04\n",
      "Epoch 61/100\n",
      "1100/1100 [==============================] - 2s 2ms/sample - loss: 3.0114e-04 - val_loss: 8.5624e-04\n",
      "Epoch 62/100\n",
      "1100/1100 [==============================] - 2s 2ms/sample - loss: 3.5059e-04 - val_loss: 9.0648e-04\n",
      "Epoch 63/100\n",
      "1100/1100 [==============================] - 3s 2ms/sample - loss: 3.0259e-04 - val_loss: 9.8858e-04\n",
      "Epoch 64/100\n",
      "1100/1100 [==============================] - 2s 2ms/sample - loss: 3.0686e-04 - val_loss: 0.0017\n",
      "Epoch 65/100\n",
      "1100/1100 [==============================] - 2s 2ms/sample - loss: 3.1624e-04 - val_loss: 8.7625e-04\n",
      "Epoch 66/100\n",
      "1100/1100 [==============================] - 2s 2ms/sample - loss: 2.8141e-04 - val_loss: 9.1678e-04\n",
      "Epoch 67/100\n",
      "1100/1100 [==============================] - 2s 2ms/sample - loss: 3.3350e-04 - val_loss: 9.8847e-04\n",
      "Epoch 68/100\n",
      "1100/1100 [==============================] - 2s 2ms/sample - loss: 4.1611e-04 - val_loss: 0.0012\n",
      "Epoch 69/100\n",
      "1100/1100 [==============================] - 2s 2ms/sample - loss: 3.3516e-04 - val_loss: 8.9936e-04\n",
      "Epoch 70/100\n",
      "1100/1100 [==============================] - 2s 2ms/sample - loss: 3.1262e-04 - val_loss: 0.0015\n",
      "Epoch 71/100\n",
      "1100/1100 [==============================] - 2s 2ms/sample - loss: 2.8652e-04 - val_loss: 9.1857e-04\n",
      "Epoch 72/100\n",
      "1100/1100 [==============================] - 2s 2ms/sample - loss: 2.8765e-04 - val_loss: 9.2972e-04\n",
      "Epoch 73/100\n",
      "1100/1100 [==============================] - 3s 2ms/sample - loss: 3.1627e-04 - val_loss: 0.0011\n",
      "Epoch 74/100\n",
      "1100/1100 [==============================] - 3s 2ms/sample - loss: 2.8714e-04 - val_loss: 9.4253e-04\n",
      "Epoch 75/100\n",
      "1100/1100 [==============================] - 2s 2ms/sample - loss: 2.7987e-04 - val_loss: 9.7401e-04\n",
      "Epoch 76/100\n",
      "1100/1100 [==============================] - 2s 2ms/sample - loss: 3.1053e-04 - val_loss: 0.0014\n",
      "Epoch 77/100\n",
      "1100/1100 [==============================] - 2s 2ms/sample - loss: 3.2496e-04 - val_loss: 9.7144e-04\n",
      "Epoch 78/100\n",
      "1100/1100 [==============================] - 2s 2ms/sample - loss: 2.8767e-04 - val_loss: 9.8477e-04\n",
      "Epoch 79/100\n",
      "1100/1100 [==============================] - 2s 2ms/sample - loss: 2.6992e-04 - val_loss: 9.8181e-04\n",
      "Epoch 80/100\n",
      "1100/1100 [==============================] - 2s 2ms/sample - loss: 3.0999e-04 - val_loss: 9.7875e-04\n",
      "Epoch 81/100\n",
      "1100/1100 [==============================] - 2s 2ms/sample - loss: 2.8074e-04 - val_loss: 0.0010\n",
      "Epoch 82/100\n",
      "1100/1100 [==============================] - 2s 2ms/sample - loss: 2.7113e-04 - val_loss: 0.0011\n",
      "Epoch 83/100\n",
      "1100/1100 [==============================] - 2s 2ms/sample - loss: 3.3429e-04 - val_loss: 0.0010\n",
      "Epoch 84/100\n",
      "1100/1100 [==============================] - 2s 2ms/sample - loss: 2.8789e-04 - val_loss: 0.0011\n",
      "Epoch 85/100\n",
      "1100/1100 [==============================] - 2s 2ms/sample - loss: 3.2212e-04 - val_loss: 9.9244e-04\n",
      "Epoch 86/100\n",
      "1100/1100 [==============================] - 2s 2ms/sample - loss: 2.7947e-04 - val_loss: 0.0010\n",
      "Epoch 87/100\n",
      "1100/1100 [==============================] - 2s 2ms/sample - loss: 2.8012e-04 - val_loss: 0.0012\n",
      "Epoch 88/100\n",
      "1100/1100 [==============================] - 2s 2ms/sample - loss: 3.1108e-04 - val_loss: 9.9864e-04\n",
      "Epoch 89/100\n",
      "1100/1100 [==============================] - 2s 2ms/sample - loss: 3.2656e-04 - val_loss: 0.0010\n",
      "Epoch 90/100\n",
      "1100/1100 [==============================] - 2s 2ms/sample - loss: 2.9064e-04 - val_loss: 0.0010\n",
      "Epoch 91/100\n",
      "1100/1100 [==============================] - 2s 2ms/sample - loss: 2.9366e-04 - val_loss: 9.9353e-04\n",
      "Epoch 92/100\n",
      "1100/1100 [==============================] - 2s 2ms/sample - loss: 3.2887e-04 - val_loss: 0.0018\n",
      "Epoch 93/100\n",
      "1100/1100 [==============================] - 2s 2ms/sample - loss: 2.9867e-04 - val_loss: 0.0011\n",
      "Epoch 94/100\n",
      "1100/1100 [==============================] - 2s 2ms/sample - loss: 3.0132e-04 - val_loss: 0.0010\n",
      "Epoch 95/100\n",
      "1100/1100 [==============================] - 2s 2ms/sample - loss: 3.8803e-04 - val_loss: 0.0014\n",
      "Epoch 96/100\n",
      "1100/1100 [==============================] - 2s 2ms/sample - loss: 3.4662e-04 - val_loss: 0.0011\n",
      "Epoch 97/100\n",
      "1100/1100 [==============================] - 2s 2ms/sample - loss: 3.3253e-04 - val_loss: 0.0012\n",
      "Epoch 98/100\n",
      "1100/1100 [==============================] - 2s 2ms/sample - loss: 2.7525e-04 - val_loss: 9.8629e-04\n",
      "Epoch 99/100\n",
      "1100/1100 [==============================] - 2s 2ms/sample - loss: 3.1361e-04 - val_loss: 0.0020\n",
      "Epoch 100/100\n",
      "1100/1100 [==============================] - 2s 2ms/sample - loss: 3.4369e-04 - val_loss: 0.0012\n"
     ]
    },
    {
     "data": {
      "text/plain": [
       "<tensorflow.python.keras.callbacks.History at 0x23002326dc8>"
      ]
     },
     "execution_count": 19,
     "metadata": {},
     "output_type": "execute_result"
    }
   ],
   "source": [
    "# model fitting\n",
    "model.fit(X_train,y_train,validation_data=(X_test,y_test),epochs=100,batch_size=30,verbose=1)"
   ]
  },
  {
   "cell_type": "code",
   "execution_count": 20,
   "metadata": {},
   "outputs": [],
   "source": [
    "# predicting the y label for train set and test set\n",
    "train_predict=model.predict(X_train)\n",
    "test_predict=model.predict(X_test)"
   ]
  },
  {
   "cell_type": "code",
   "execution_count": 21,
   "metadata": {},
   "outputs": [
    {
     "data": {
      "text/plain": [
       "(95, 1)"
      ]
     },
     "execution_count": 21,
     "metadata": {},
     "output_type": "execute_result"
    }
   ],
   "source": [
    "test_predict.shape"
   ]
  },
  {
   "cell_type": "code",
   "execution_count": 22,
   "metadata": {},
   "outputs": [],
   "source": [
    "y_test = y_test.reshape(-1, 1)"
   ]
  },
  {
   "cell_type": "code",
   "execution_count": 23,
   "metadata": {},
   "outputs": [
    {
     "data": {
      "text/plain": [
       "(95, 1)"
      ]
     },
     "execution_count": 23,
     "metadata": {},
     "output_type": "execute_result"
    }
   ],
   "source": [
    "y_test.shape"
   ]
  },
  {
   "cell_type": "code",
   "execution_count": 24,
   "metadata": {},
   "outputs": [
    {
     "name": "stdout",
     "output_type": "stream",
     "text": [
      "The Root mean squared error for the training set is 0.018747853367167423\n",
      "The Root mean squared error for the test set is 0.03421227952273131\n"
     ]
    }
   ],
   "source": [
    "# calculating the mean squared error of the training set\n",
    "import math\n",
    "from sklearn.metrics import mean_squared_error\n",
    "rmse_train = math.sqrt(mean_squared_error(y_train,train_predict))\n",
    "print(\"The Root mean squared error for the training set is {}\".format(rmse_train))\n",
    "\n",
    "# calculating the mean squared error of the test set\n",
    "rmse_test = math.sqrt(mean_squared_error(y_test,test_predict))\n",
    "print(\"The Root mean squared error for the test set is {}\".format(rmse_test))"
   ]
  },
  {
   "cell_type": "code",
   "execution_count": 25,
   "metadata": {},
   "outputs": [],
   "source": [
    "# transforming the values to their original form so that they can be comapred with the y label of train set and test set\n",
    "train_predict = scaler.inverse_transform(train_predict)\n",
    "test_predict = scaler.inverse_transform(test_predict)\n",
    "y_test = scaler.inverse_transform(y_test.reshape(-1, 1))"
   ]
  },
  {
   "cell_type": "code",
   "execution_count": 26,
   "metadata": {},
   "outputs": [
    {
     "data": {
      "image/png": "[encoded data removed]",
      "text/plain": [
       "<Figure size 432x288 with 1 Axes>"
      ]
     },
     "metadata": {
      "needs_background": "light"
     },
     "output_type": "display_data"
    }
   ],
   "source": [
    "plt.plot(y_test, label = 'Actual')\n",
    "plt.plot(test_predict, label = 'Predicted')\n",
    "\n",
    "plt.title('Actual and predicted values')\n",
    "plt.xlabel('Time')\n",
    "plt.ylabel('Stock Price')\n",
    "plt.legend()\n",
    "plt.show()"
   ]
  },
  {
   "cell_type": "markdown",
   "metadata": {},
   "source": [
    "### <b>Creating a function to apply the model to predict the closing stock price of the other tech comapnies</b>"
   ]
  },
  {
   "cell_type": "code",
   "execution_count": 27,
   "metadata": {},
   "outputs": [],
   "source": [
    "# To fit the data\n",
    "def close_price(data):\n",
    "    df = scaler.fit_transform(np.array(data).reshape(-1,1))\n",
    "    # splitting the data into train set and test set\n",
    "    train_data = df[0:(int(len(df)*0.90))]\n",
    "    test_data = df[len(train_data):len(df)]\n",
    "    # creating a document matrix with x(time steps) number of features and a y label\n",
    "    timesteps = 30\n",
    "    X_train, y_train = model_data(train_data, timesteps)\n",
    "    X_test, y_test = model_data(test_data, timesteps)\n",
    "    # reshaping the data to make it compatible with the LSTM model\n",
    "    X_train = X_train.reshape(X_train.shape[0], X_train.shape[1], 1)\n",
    "    X_test = X_test.reshape(X_test.shape[0], X_test.shape[1], 1)\n",
    "    # model fitting\n",
    "    model.fit(X_train,y_train,validation_data=(X_test,y_test),epochs=100,batch_size=30,verbose=1)\n",
    "    # predicting the y label for train set and test set\n",
    "    train_predict = model.predict(X_train)\n",
    "    test_predict = model.predict(X_test)\n",
    "    \n",
    "    # rmse of train set\n",
    "    rmse_train = math.sqrt(mean_squared_error(y_train,train_predict))\n",
    "    print(\"The Root mean squared error for the training set is {}\".format(rmse_train))\n",
    "    # rmse of test set\n",
    "    rmse_test = math.sqrt(mean_squared_error(y_test,test_predict))\n",
    "    print(\"The Root mean squared error for the test set is {}\".format(rmse_test))\n",
    "    \n",
    "    # transforming the values to their original form so that they can be comapred with the y label of train set and test set\n",
    "    test_predict = scaler.inverse_transform(test_predict)\n",
    "    y_test = scaler.inverse_transform(y_test.reshape(-1, 1))\n",
    "\n",
    "    # Plotting the predicted values against the actual values\n",
    "    plt.plot(y_test, label = 'Actual')\n",
    "    plt.plot(test_predict, label = 'Predicted')\n",
    "\n",
    "    plt.title('Actual and predicted values')\n",
    "    plt.xlabel('Time')\n",
    "    plt.ylabel('Stock Price')\n",
    "    plt.legend()\n",
    "    plt.show()"
   ]
  },
  {
   "cell_type": "markdown",
   "metadata": {},
   "source": [
    "## Amazon"
   ]
  },
  {
   "cell_type": "code",
   "execution_count": 28,
   "metadata": {},
   "outputs": [
    {
     "data": {
      "text/plain": [
       "Text(0, 0.5, 'Close Price')"
      ]
     },
     "execution_count": 28,
     "metadata": {},
     "output_type": "execute_result"
    },
    {
     "data": {
      "image/png": "[encoded data removed]",
      "text/plain": [
       "<Figure size 432x288 with 1 Axes>"
      ]
     },
     "metadata": {
      "needs_background": "light"
     },
     "output_type": "display_data"
    }
   ],
   "source": [
    "plt.plot(data['amazon'])\n",
    "plt.xlabel('Time')\n",
    "plt.ylabel('Close Price')"
   ]
  },
  {
   "cell_type": "code",
   "execution_count": 29,
   "metadata": {},
   "outputs": [
    {
     "name": "stdout",
     "output_type": "stream",
     "text": [
      "Train on 1100 samples, validate on 95 samples\n",
      "Epoch 1/100\n",
      "1100/1100 [==============================] - 2s 2ms/sample - loss: 1.0337e-04 - val_loss: 6.1296e-04\n",
      "Epoch 2/100\n",
      "1100/1100 [==============================] - 2s 2ms/sample - loss: 9.2094e-05 - val_loss: 5.5053e-04\n",
      "Epoch 3/100\n",
      "1100/1100 [==============================] - 2s 2ms/sample - loss: 8.3765e-05 - val_loss: 5.8890e-04\n",
      "Epoch 4/100\n",
      "1100/1100 [==============================] - 2s 2ms/sample - loss: 7.9380e-05 - val_loss: 8.0764e-04\n",
      "Epoch 5/100\n",
      "1100/1100 [==============================] - 2s 2ms/sample - loss: 8.2768e-05 - val_loss: 7.4388e-04\n",
      "Epoch 6/100\n",
      "1100/1100 [==============================] - 2s 2ms/sample - loss: 8.4204e-05 - val_loss: 5.5474e-04\n",
      "Epoch 7/100\n",
      "1100/1100 [==============================] - 2s 2ms/sample - loss: 8.3392e-05 - val_loss: 6.9060e-04\n",
      "Epoch 8/100\n",
      "1100/1100 [==============================] - 2s 2ms/sample - loss: 8.7002e-05 - val_loss: 6.3064e-04\n",
      "Epoch 9/100\n",
      "1100/1100 [==============================] - 2s 2ms/sample - loss: 8.1879e-05 - val_loss: 9.8573e-04\n",
      "Epoch 10/100\n",
      "1100/1100 [==============================] - 2s 2ms/sample - loss: 8.8987e-05 - val_loss: 6.1750e-04\n",
      "Epoch 11/100\n",
      "1100/1100 [==============================] - 2s 2ms/sample - loss: 8.7877e-05 - val_loss: 6.3287e-04\n",
      "Epoch 12/100\n",
      "1100/1100 [==============================] - 2s 2ms/sample - loss: 8.0382e-05 - val_loss: 0.0010\n",
      "Epoch 13/100\n",
      "1100/1100 [==============================] - 2s 2ms/sample - loss: 8.5859e-05 - val_loss: 0.0011\n",
      "Epoch 14/100\n",
      "1100/1100 [==============================] - 2s 2ms/sample - loss: 9.0259e-05 - val_loss: 6.8635e-04\n",
      "Epoch 15/100\n",
      "1100/1100 [==============================] - 2s 2ms/sample - loss: 9.2137e-05 - val_loss: 6.2576e-04 ETA: 0s - loss: \n",
      "Epoch 16/100\n",
      "1100/1100 [==============================] - 2s 2ms/sample - loss: 8.6828e-05 - val_loss: 8.2832e-04\n",
      "Epoch 17/100\n",
      "1100/1100 [==============================] - 2s 2ms/sample - loss: 8.5914e-05 - val_loss: 6.6982e-04\n",
      "Epoch 18/100\n",
      "1100/1100 [==============================] - 2s 2ms/sample - loss: 9.1564e-05 - val_loss: 6.6372e-04\n",
      "Epoch 19/100\n",
      "1100/1100 [==============================] - 2s 2ms/sample - loss: 9.0158e-05 - val_loss: 7.0911e-04\n",
      "Epoch 20/100\n",
      "1100/1100 [==============================] - 2s 2ms/sample - loss: 8.1923e-05 - val_loss: 9.5079e-04\n",
      "Epoch 21/100\n",
      "1100/1100 [==============================] - 2s 2ms/sample - loss: 8.0947e-05 - val_loss: 6.8416e-04\n",
      "Epoch 22/100\n",
      "1100/1100 [==============================] - 2s 2ms/sample - loss: 7.9828e-05 - val_loss: 6.7913e-04ETA: 0s - loss: 7.9072\n",
      "Epoch 23/100\n",
      "1100/1100 [==============================] - 2s 2ms/sample - loss: 8.0657e-05 - val_loss: 6.0956e-04\n",
      "Epoch 24/100\n",
      "1100/1100 [==============================] - 2s 2ms/sample - loss: 8.2108e-05 - val_loss: 6.6772e-04\n",
      "Epoch 25/100\n",
      "1100/1100 [==============================] - 2s 2ms/sample - loss: 8.6781e-05 - val_loss: 8.2050e-04\n",
      "Epoch 26/100\n",
      "1100/1100 [==============================] - 3s 2ms/sample - loss: 9.7392e-05 - val_loss: 6.2777e-04\n",
      "Epoch 27/100\n",
      "1100/1100 [==============================] - 3s 2ms/sample - loss: 8.8830e-05 - val_loss: 5.8480e-04\n",
      "Epoch 28/100\n",
      "1100/1100 [==============================] - 2s 2ms/sample - loss: 8.4779e-05 - val_loss: 5.9381e-04\n",
      "Epoch 29/100\n",
      "1100/1100 [==============================] - 2s 2ms/sample - loss: 8.8977e-05 - val_loss: 0.0012\n",
      "Epoch 30/100\n",
      "1100/1100 [==============================] - 2s 2ms/sample - loss: 8.4684e-05 - val_loss: 7.3655e-04\n",
      "Epoch 31/100\n",
      "1100/1100 [==============================] - 2s 2ms/sample - loss: 8.0913e-05 - val_loss: 6.7622e-04\n",
      "Epoch 32/100\n",
      "1100/1100 [==============================] - 2s 2ms/sample - loss: 8.4380e-05 - val_loss: 8.9686e-04\n",
      "Epoch 33/100\n",
      "1100/1100 [==============================] - 2s 2ms/sample - loss: 7.9364e-05 - val_loss: 6.6539e-04\n",
      "Epoch 34/100\n",
      "1100/1100 [==============================] - 2s 2ms/sample - loss: 9.1530e-05 - val_loss: 7.6796e-04\n",
      "Epoch 35/100\n",
      "1100/1100 [==============================] - 2s 2ms/sample - loss: 1.0384e-04 - val_loss: 6.6645e-04\n",
      "Epoch 36/100\n",
      "1100/1100 [==============================] - 2s 2ms/sample - loss: 1.0503e-04 - val_loss: 6.8982e-04\n",
      "Epoch 37/100\n",
      "1100/1100 [==============================] - 2s 2ms/sample - loss: 9.0754e-05 - val_loss: 9.3766e-04\n",
      "Epoch 38/100\n",
      "1100/1100 [==============================] - 2s 2ms/sample - loss: 8.4828e-05 - val_loss: 0.0011\n",
      "Epoch 39/100\n",
      "1100/1100 [==============================] - 2s 2ms/sample - loss: 8.8939e-05 - val_loss: 0.0013\n",
      "Epoch 40/100\n",
      "1100/1100 [==============================] - 2s 2ms/sample - loss: 9.1842e-05 - val_loss: 6.7632e-04\n",
      "Epoch 41/100\n",
      "1100/1100 [==============================] - 2s 2ms/sample - loss: 7.9726e-05 - val_loss: 6.9993e-04\n",
      "Epoch 42/100\n",
      "1100/1100 [==============================] - 2s 2ms/sample - loss: 8.9182e-05 - val_loss: 8.0368e-04\n",
      "Epoch 43/100\n",
      "1100/1100 [==============================] - 3s 2ms/sample - loss: 9.5131e-05 - val_loss: 9.5000e-04\n",
      "Epoch 44/100\n",
      "1100/1100 [==============================] - 2s 2ms/sample - loss: 8.4666e-05 - val_loss: 6.7030e-04\n",
      "Epoch 45/100\n",
      "1100/1100 [==============================] - 2s 2ms/sample - loss: 8.1102e-05 - val_loss: 6.5758e-04\n",
      "Epoch 46/100\n",
      "1100/1100 [==============================] - 2s 2ms/sample - loss: 8.3552e-05 - val_loss: 5.8506e-04\n",
      "Epoch 47/100\n",
      "1100/1100 [==============================] - 2s 2ms/sample - loss: 8.9961e-05 - val_loss: 6.0455e-04\n",
      "Epoch 48/100\n",
      "1100/1100 [==============================] - 3s 2ms/sample - loss: 9.4509e-05 - val_loss: 6.8462e-04\n",
      "Epoch 49/100\n",
      "1100/1100 [==============================] - 2s 2ms/sample - loss: 8.2529e-05 - val_loss: 6.3479e-04\n",
      "Epoch 50/100\n",
      "1100/1100 [==============================] - 3s 2ms/sample - loss: 9.5674e-05 - val_loss: 7.8091e-04\n",
      "Epoch 51/100\n",
      "1100/1100 [==============================] - 2s 2ms/sample - loss: 8.9456e-05 - val_loss: 6.3307e-04\n",
      "Epoch 52/100\n",
      "1100/1100 [==============================] - 2s 2ms/sample - loss: 1.0229e-04 - val_loss: 0.0015\n",
      "Epoch 53/100\n",
      "1100/1100 [==============================] - 2s 2ms/sample - loss: 8.7677e-05 - val_loss: 9.6647e-04\n",
      "Epoch 54/100\n",
      "1100/1100 [==============================] - 2s 2ms/sample - loss: 8.6690e-05 - val_loss: 8.0947e-04\n",
      "Epoch 55/100\n",
      "1100/1100 [==============================] - 2s 2ms/sample - loss: 9.0850e-05 - val_loss: 5.8937e-04\n",
      "Epoch 56/100\n",
      "1100/1100 [==============================] - 3s 2ms/sample - loss: 8.5928e-05 - val_loss: 7.9782e-04\n",
      "Epoch 57/100\n",
      "1100/1100 [==============================] - 3s 2ms/sample - loss: 8.6973e-05 - val_loss: 6.7801e-04\n",
      "Epoch 58/100\n",
      "1100/1100 [==============================] - 2s 2ms/sample - loss: 8.8110e-05 - val_loss: 6.2742e-04\n",
      "Epoch 59/100\n",
      "1100/1100 [==============================] - 2s 2ms/sample - loss: 9.0293e-05 - val_loss: 0.0011\n",
      "Epoch 60/100\n",
      "1100/1100 [==============================] - 2s 2ms/sample - loss: 8.5964e-05 - val_loss: 9.5593e-04\n",
      "Epoch 61/100\n",
      "1100/1100 [==============================] - 3s 2ms/sample - loss: 1.1624e-04 - val_loss: 0.0019\n",
      "Epoch 62/100\n",
      "1100/1100 [==============================] - 2s 2ms/sample - loss: 1.1064e-04 - val_loss: 0.0011\n",
      "Epoch 63/100\n",
      "1100/1100 [==============================] - 2s 2ms/sample - loss: 8.2607e-05 - val_loss: 8.5038e-04\n",
      "Epoch 64/100\n",
      "1100/1100 [==============================] - 2s 2ms/sample - loss: 1.0278e-04 - val_loss: 7.8322e-04\n",
      "Epoch 65/100\n",
      "1100/1100 [==============================] - 2s 2ms/sample - loss: 1.0151e-04 - val_loss: 0.0011\n",
      "Epoch 66/100\n",
      "1100/1100 [==============================] - 2s 2ms/sample - loss: 8.4555e-05 - val_loss: 6.2639e-04\n",
      "Epoch 67/100\n",
      "1100/1100 [==============================] - 3s 2ms/sample - loss: 8.7292e-05 - val_loss: 0.0012\n",
      "Epoch 68/100\n",
      "1100/1100 [==============================] - 2s 2ms/sample - loss: 9.5055e-05 - val_loss: 0.0021\n",
      "Epoch 69/100\n",
      "1100/1100 [==============================] - 3s 2ms/sample - loss: 8.8377e-05 - val_loss: 5.6754e-04\n",
      "Epoch 70/100\n",
      "1100/1100 [==============================] - 2s 2ms/sample - loss: 8.6930e-05 - val_loss: 6.0595e-04\n",
      "Epoch 71/100\n",
      "1100/1100 [==============================] - 3s 2ms/sample - loss: 9.0140e-05 - val_loss: 0.0011\n",
      "Epoch 72/100\n",
      "1100/1100 [==============================] - 2s 2ms/sample - loss: 8.2045e-05 - val_loss: 0.0012\n",
      "Epoch 73/100\n",
      "1100/1100 [==============================] - 2s 2ms/sample - loss: 9.7722e-05 - val_loss: 0.0015\n",
      "Epoch 74/100\n",
      "1100/1100 [==============================] - 2s 2ms/sample - loss: 8.6708e-05 - val_loss: 8.7352e-04\n",
      "Epoch 75/100\n",
      "1100/1100 [==============================] - 2s 2ms/sample - loss: 8.2522e-05 - val_loss: 8.2916e-04\n",
      "Epoch 76/100\n",
      "1100/1100 [==============================] - 2s 2ms/sample - loss: 1.1360e-04 - val_loss: 6.6851e-04\n",
      "Epoch 77/100\n",
      "1100/1100 [==============================] - 2s 2ms/sample - loss: 1.0606e-04 - val_loss: 0.0010\n",
      "Epoch 78/100\n",
      "1100/1100 [==============================] - 2s 2ms/sample - loss: 8.4637e-05 - val_loss: 0.0013\n",
      "Epoch 79/100\n",
      "1100/1100 [==============================] - 2s 2ms/sample - loss: 8.4676e-05 - val_loss: 0.0015\n",
      "Epoch 80/100\n",
      "1100/1100 [==============================] - 2s 2ms/sample - loss: 8.6909e-05 - val_loss: 0.0011\n",
      "Epoch 81/100\n",
      "1100/1100 [==============================] - 2s 2ms/sample - loss: 8.2441e-05 - val_loss: 0.0012\n",
      "Epoch 82/100\n",
      "1100/1100 [==============================] - 2s 2ms/sample - loss: 8.4673e-05 - val_loss: 8.2248e-04\n",
      "Epoch 83/100\n",
      "1100/1100 [==============================] - 2s 2ms/sample - loss: 1.0447e-04 - val_loss: 7.2815e-04\n",
      "Epoch 84/100\n",
      "1100/1100 [==============================] - 2s 2ms/sample - loss: 1.0878e-04 - val_loss: 0.0011\n",
      "Epoch 85/100\n",
      "1100/1100 [==============================] - 2s 2ms/sample - loss: 8.0824e-05 - val_loss: 0.0011\n",
      "Epoch 86/100\n",
      "1100/1100 [==============================] - 2s 2ms/sample - loss: 8.3645e-05 - val_loss: 8.5514e-04\n",
      "Epoch 87/100\n",
      "1100/1100 [==============================] - 2s 2ms/sample - loss: 8.5803e-05 - val_loss: 0.0010: 8.464\n",
      "Epoch 88/100\n",
      "1100/1100 [==============================] - 2s 2ms/sample - loss: 8.1707e-05 - val_loss: 7.0151e-04\n",
      "Epoch 89/100\n",
      "1100/1100 [==============================] - 2s 2ms/sample - loss: 8.0969e-05 - val_loss: 9.4544e-04\n",
      "Epoch 90/100\n",
      "1100/1100 [==============================] - 2s 2ms/sample - loss: 9.2797e-05 - val_loss: 9.9004e-04\n",
      "Epoch 91/100\n",
      "1100/1100 [==============================] - 2s 2ms/sample - loss: 8.7414e-05 - val_loss: 5.9512e-04\n",
      "Epoch 92/100\n",
      "1100/1100 [==============================] - 2s 2ms/sample - loss: 8.8938e-05 - val_loss: 7.8857e-04\n",
      "Epoch 93/100\n",
      "1100/1100 [==============================] - 2s 2ms/sample - loss: 9.5768e-05 - val_loss: 8.8589e-04\n",
      "Epoch 94/100\n",
      "1100/1100 [==============================] - 2s 2ms/sample - loss: 8.6893e-05 - val_loss: 0.0019\n",
      "Epoch 95/100\n",
      "1100/1100 [==============================] - ETA: 0s - loss: 8.9948e-0 - 2s 2ms/sample - loss: 9.1662e-05 - val_loss: 0.0011\n",
      "Epoch 96/100\n",
      "1100/1100 [==============================] - 2s 2ms/sample - loss: 8.0533e-05 - val_loss: 0.0012\n",
      "Epoch 97/100\n",
      "1100/1100 [==============================] - 2s 2ms/sample - loss: 1.0976e-04 - val_loss: 8.7919e-04\n",
      "Epoch 98/100\n",
      "1100/1100 [==============================] - 3s 2ms/sample - loss: 8.3038e-05 - val_loss: 7.6277e-04\n",
      "Epoch 99/100\n",
      "1100/1100 [==============================] - 2s 2ms/sample - loss: 1.0271e-04 - val_loss: 0.0013\n",
      "Epoch 100/100\n",
      "1100/1100 [==============================] - 2s 2ms/sample - loss: 1.0416e-04 - val_loss: 6.7763e-04\n",
      "The Root mean squared error for the training set is 0.00972561266425235\n",
      "The Root mean squared error for the test set is 0.026031386090447674\n"
     ]
    },
    {
     "data": {
      "image/png": "[encoded data removed]",
      "text/plain": [
       "<Figure size 432x288 with 1 Axes>"
      ]
     },
     "metadata": {
      "needs_background": "light"
     },
     "output_type": "display_data"
    }
   ],
   "source": [
    "close_price(data['amazon'])"
   ]
  },
  {
   "cell_type": "markdown",
   "metadata": {},
   "source": [
    "# Facebook"
   ]
  },
  {
   "cell_type": "code",
   "execution_count": 30,
   "metadata": {},
   "outputs": [
    {
     "data": {
      "text/plain": [
       "Text(0, 0.5, 'Close Price')"
      ]
     },
     "execution_count": 30,
     "metadata": {},
     "output_type": "execute_result"
    },
    {
     "data": {
      "image/png": "[encoded data removed]",
      "text/plain": [
       "<Figure size 432x288 with 1 Axes>"
      ]
     },
     "metadata": {
      "needs_background": "light"
     },
     "output_type": "display_data"
    }
   ],
   "source": [
    "plt.plot(data['fb'])\n",
    "plt.xlabel('Time')\n",
    "plt.ylabel('Close Price')"
   ]
  },
  {
   "cell_type": "code",
   "execution_count": 31,
   "metadata": {},
   "outputs": [
    {
     "name": "stdout",
     "output_type": "stream",
     "text": [
      "Train on 1100 samples, validate on 95 samples\n",
      "Epoch 1/100\n",
      "1100/1100 [==============================] - 2s 2ms/sample - loss: 3.1851e-04 - val_loss: 0.0010\n",
      "Epoch 2/100\n",
      "1100/1100 [==============================] - 2s 2ms/sample - loss: 3.5112e-04 - val_loss: 9.3630e-04\n",
      "Epoch 3/100\n",
      "1100/1100 [==============================] - 2s 2ms/sample - loss: 3.5094e-04 - val_loss: 0.0013\n",
      "Epoch 4/100\n",
      "1100/1100 [==============================] - 2s 2ms/sample - loss: 2.8373e-04 - val_loss: 9.5846e-04\n",
      "Epoch 5/100\n",
      "1100/1100 [==============================] - 2s 2ms/sample - loss: 2.6151e-04 - val_loss: 0.0011\n",
      "Epoch 6/100\n",
      "1100/1100 [==============================] - 2s 2ms/sample - loss: 2.7668e-04 - val_loss: 0.0013\n",
      "Epoch 7/100\n",
      "1100/1100 [==============================] - 2s 2ms/sample - loss: 2.7410e-04 - val_loss: 0.0011\n",
      "Epoch 8/100\n",
      "1100/1100 [==============================] - 2s 2ms/sample - loss: 2.8968e-04 - val_loss: 9.8757e-04\n",
      "Epoch 9/100\n",
      "1100/1100 [==============================] - 2s 2ms/sample - loss: 3.4255e-04 - val_loss: 0.0014\n",
      "Epoch 10/100\n",
      "1100/1100 [==============================] - 2s 2ms/sample - loss: 3.4034e-04 - val_loss: 0.0014\n",
      "Epoch 11/100\n",
      "1100/1100 [==============================] - 3s 2ms/sample - loss: 2.9071e-04 - val_loss: 0.0012\n",
      "Epoch 12/100\n",
      "1100/1100 [==============================] - 2s 2ms/sample - loss: 2.5980e-04 - val_loss: 0.0010\n",
      "Epoch 13/100\n",
      "1100/1100 [==============================] - 2s 2ms/sample - loss: 2.6873e-04 - val_loss: 0.0013\n",
      "Epoch 14/100\n",
      "1100/1100 [==============================] - 2s 2ms/sample - loss: 2.6550e-04 - val_loss: 0.0010\n",
      "Epoch 15/100\n",
      "1100/1100 [==============================] - 2s 2ms/sample - loss: 2.9231e-04 - val_loss: 9.6772e-04\n",
      "Epoch 16/100\n",
      "1100/1100 [==============================] - 2s 2ms/sample - loss: 2.5616e-04 - val_loss: 0.0013\n",
      "Epoch 17/100\n",
      "1100/1100 [==============================] - 2s 2ms/sample - loss: 2.6414e-04 - val_loss: 0.0010\n",
      "Epoch 18/100\n",
      "1100/1100 [==============================] - 2s 2ms/sample - loss: 2.7986e-04 - val_loss: 0.0010\n",
      "Epoch 19/100\n",
      "1100/1100 [==============================] - 2s 2ms/sample - loss: 2.8289e-04 - val_loss: 0.0013\n",
      "Epoch 20/100\n",
      "1100/1100 [==============================] - 2s 2ms/sample - loss: 2.9975e-04 - val_loss: 0.0013\n",
      "Epoch 21/100\n",
      "1100/1100 [==============================] - 2s 2ms/sample - loss: 3.0890e-04 - val_loss: 0.0011\n",
      "Epoch 22/100\n",
      "1100/1100 [==============================] - 2s 2ms/sample - loss: 2.5617e-04 - val_loss: 0.0011\n",
      "Epoch 23/100\n",
      "1100/1100 [==============================] - 2s 2ms/sample - loss: 2.6646e-04 - val_loss: 0.0020\n",
      "Epoch 24/100\n",
      "1100/1100 [==============================] - 3s 2ms/sample - loss: 3.1029e-04 - val_loss: 9.4177e-04\n",
      "Epoch 25/100\n",
      "1100/1100 [==============================] - 2s 2ms/sample - loss: 2.6696e-04 - val_loss: 0.0010\n",
      "Epoch 26/100\n",
      "1100/1100 [==============================] - 2s 2ms/sample - loss: 2.6261e-04 - val_loss: 0.0013- ETA: 0s - loss: 2.5762e-0\n",
      "Epoch 27/100\n",
      "1100/1100 [==============================] - 2s 2ms/sample - loss: 2.5483e-04 - val_loss: 0.0020\n",
      "Epoch 28/100\n",
      "1100/1100 [==============================] - 2s 2ms/sample - loss: 2.6642e-04 - val_loss: 0.0014\n",
      "Epoch 29/100\n",
      "1100/1100 [==============================] - 2s 2ms/sample - loss: 2.7830e-04 - val_loss: 8.9559e-04\n",
      "Epoch 30/100\n",
      "1100/1100 [==============================] - 3s 2ms/sample - loss: 2.8646e-04 - val_loss: 0.0014\n",
      "Epoch 31/100\n",
      "1100/1100 [==============================] - 3s 3ms/sample - loss: 2.6515e-04 - val_loss: 0.0011\n",
      "Epoch 32/100\n",
      "1100/1100 [==============================] - 3s 2ms/sample - loss: 3.0370e-04 - val_loss: 0.0015\n",
      "Epoch 33/100\n",
      "1100/1100 [==============================] - 2s 2ms/sample - loss: 2.7633e-04 - val_loss: 0.0011\n",
      "Epoch 34/100\n",
      "1100/1100 [==============================] - 2s 2ms/sample - loss: 2.6481e-04 - val_loss: 9.1397e-04\n",
      "Epoch 35/100\n",
      "1100/1100 [==============================] - 2s 2ms/sample - loss: 2.6339e-04 - val_loss: 0.0013\n",
      "Epoch 36/100\n",
      "1100/1100 [==============================] - 2s 2ms/sample - loss: 2.6165e-04 - val_loss: 0.0010\n",
      "Epoch 37/100\n",
      "1100/1100 [==============================] - 2s 2ms/sample - loss: 2.6894e-04 - val_loss: 0.0018-0\n",
      "Epoch 38/100\n",
      "1100/1100 [==============================] - 3s 2ms/sample - loss: 2.5827e-04 - val_loss: 0.0014\n",
      "Epoch 39/100\n",
      "1100/1100 [==============================] - 2s 2ms/sample - loss: 2.9118e-04 - val_loss: 9.0833e-04\n",
      "Epoch 40/100\n",
      "1100/1100 [==============================] - 3s 2ms/sample - loss: 3.2197e-04 - val_loss: 0.0016\n",
      "Epoch 41/100\n",
      "1100/1100 [==============================] - 2s 2ms/sample - loss: 2.6680e-04 - val_loss: 0.0013\n",
      "Epoch 42/100\n",
      "1100/1100 [==============================] - 2s 2ms/sample - loss: 2.5037e-04 - val_loss: 9.2384e-04\n",
      "Epoch 43/100\n",
      "1100/1100 [==============================] - 2s 2ms/sample - loss: 2.7917e-04 - val_loss: 9.7940e-04455e-0 - ETA: 0s - loss:\n",
      "Epoch 44/100\n",
      "1100/1100 [==============================] - 2s 2ms/sample - loss: 2.5256e-04 - val_loss: 0.0010\n",
      "Epoch 45/100\n",
      "1100/1100 [==============================] - 2s 2ms/sample - loss: 2.5290e-04 - val_loss: 0.0014\n",
      "Epoch 46/100\n",
      "1100/1100 [==============================] - 2s 2ms/sample - loss: 2.5197e-04 - val_loss: 0.0011\n",
      "Epoch 47/100\n",
      "1100/1100 [==============================] - 2s 2ms/sample - loss: 2.5840e-04 - val_loss: 0.0017\n",
      "Epoch 48/100\n",
      "1100/1100 [==============================] - 2s 2ms/sample - loss: 2.7346e-04 - val_loss: 9.4130e-04\n",
      "Epoch 49/100\n",
      "1100/1100 [==============================] - 2s 2ms/sample - loss: 2.7975e-04 - val_loss: 0.0014\n",
      "Epoch 50/100\n",
      "1100/1100 [==============================] - 2s 2ms/sample - loss: 2.6598e-04 - val_loss: 0.0011\n",
      "Epoch 51/100\n",
      "1100/1100 [==============================] - 3s 2ms/sample - loss: 2.6821e-04 - val_loss: 9.9832e-04\n",
      "Epoch 52/100\n",
      "1100/1100 [==============================] - 2s 2ms/sample - loss: 2.6279e-04 - val_loss: 0.0017\n",
      "Epoch 53/100\n",
      "1100/1100 [==============================] - 2s 2ms/sample - loss: 2.8423e-04 - val_loss: 0.0024\n",
      "Epoch 54/100\n",
      "1100/1100 [==============================] - 2s 2ms/sample - loss: 3.2795e-04 - val_loss: 0.0014\n",
      "Epoch 55/100\n",
      "1100/1100 [==============================] - 2s 2ms/sample - loss: 2.9241e-04 - val_loss: 9.1238e-04\n",
      "Epoch 56/100\n",
      "1100/1100 [==============================] - 2s 2ms/sample - loss: 2.8333e-04 - val_loss: 0.0012\n",
      "Epoch 57/100\n",
      "1100/1100 [==============================] - 2s 2ms/sample - loss: 2.7133e-04 - val_loss: 0.0013-0 - ETA: 1s - loss: 2.8928e-0 - ETA: 0s - \n",
      "Epoch 58/100\n",
      "1100/1100 [==============================] - 2s 2ms/sample - loss: 2.5205e-04 - val_loss: 0.0019\n",
      "Epoch 59/100\n",
      "1100/1100 [==============================] - 3s 3ms/sample - loss: 2.5758e-04 - val_loss: 0.0014\n",
      "Epoch 60/100\n",
      "1100/1100 [==============================] - 3s 3ms/sample - loss: 2.5212e-04 - val_loss: 9.6274e-04\n",
      "Epoch 61/100\n",
      "1100/1100 [==============================] - 3s 2ms/sample - loss: 2.6045e-04 - val_loss: 0.0011\n",
      "Epoch 62/100\n",
      "1100/1100 [==============================] - 3s 2ms/sample - loss: 2.6917e-04 - val_loss: 9.7546e-04\n",
      "Epoch 63/100\n",
      "1100/1100 [==============================] - 2s 2ms/sample - loss: 2.7210e-04 - val_loss: 0.0013\n",
      "Epoch 64/100\n",
      "1100/1100 [==============================] - 2s 2ms/sample - loss: 2.5664e-04 - val_loss: 0.0014\n",
      "Epoch 65/100\n",
      "1100/1100 [==============================] - 2s 2ms/sample - loss: 2.6069e-04 - val_loss: 0.0010\n",
      "Epoch 66/100\n",
      "1100/1100 [==============================] - 2s 2ms/sample - loss: 2.6546e-04 - val_loss: 0.0030\n",
      "Epoch 67/100\n",
      "1100/1100 [==============================] - 3s 2ms/sample - loss: 2.8745e-04 - val_loss: 0.0020\n",
      "Epoch 68/100\n",
      "1100/1100 [==============================] - 3s 2ms/sample - loss: 2.6158e-04 - val_loss: 0.0015\n",
      "Epoch 69/100\n",
      "1100/1100 [==============================] - 2s 2ms/sample - loss: 2.4758e-04 - val_loss: 0.0013\n",
      "Epoch 70/100\n",
      "1100/1100 [==============================] - 2s 2ms/sample - loss: 2.7602e-04 - val_loss: 0.0017\n",
      "Epoch 71/100\n",
      "1100/1100 [==============================] - 2s 2ms/sample - loss: 3.1096e-04 - val_loss: 0.0020\n",
      "Epoch 72/100\n",
      "1100/1100 [==============================] - 2s 2ms/sample - loss: 2.9706e-04 - val_loss: 0.0016\n",
      "Epoch 73/100\n",
      "1100/1100 [==============================] - 2s 2ms/sample - loss: 2.8378e-04 - val_loss: 0.0025\n",
      "Epoch 74/100\n",
      "1100/1100 [==============================] - 2s 2ms/sample - loss: 2.8195e-04 - val_loss: 0.0018\n",
      "Epoch 75/100\n",
      "1100/1100 [==============================] - 2s 2ms/sample - loss: 2.6541e-04 - val_loss: 0.0011\n",
      "Epoch 76/100\n",
      "1100/1100 [==============================] - 2s 2ms/sample - loss: 2.5096e-04 - val_loss: 0.0013\n",
      "Epoch 77/100\n",
      "1100/1100 [==============================] - 2s 2ms/sample - loss: 2.7688e-04 - val_loss: 0.0012\n",
      "Epoch 78/100\n",
      "1100/1100 [==============================] - 2s 2ms/sample - loss: 2.5812e-04 - val_loss: 0.0011\n",
      "Epoch 79/100\n",
      "1100/1100 [==============================] - 2s 2ms/sample - loss: 2.6753e-04 - val_loss: 0.0011\n",
      "Epoch 80/100\n",
      "1100/1100 [==============================] - 2s 2ms/sample - loss: 2.4655e-04 - val_loss: 0.0016\n",
      "Epoch 81/100\n",
      "1100/1100 [==============================] - 2s 2ms/sample - loss: 2.5611e-04 - val_loss: 0.0011\n",
      "Epoch 82/100\n",
      "1100/1100 [==============================] - 2s 2ms/sample - loss: 2.5177e-04 - val_loss: 0.0017\n",
      "Epoch 83/100\n",
      "1100/1100 [==============================] - 2s 2ms/sample - loss: 2.6948e-04 - val_loss: 0.0012\n",
      "Epoch 84/100\n",
      "1100/1100 [==============================] - 2s 2ms/sample - loss: 2.6709e-04 - val_loss: 0.0010\n",
      "Epoch 85/100\n",
      "1100/1100 [==============================] - 2s 2ms/sample - loss: 2.7793e-04 - val_loss: 0.0013\n",
      "Epoch 86/100\n",
      "1100/1100 [==============================] - 2s 2ms/sample - loss: 2.6458e-04 - val_loss: 0.0011\n",
      "Epoch 87/100\n",
      "1100/1100 [==============================] - 2s 2ms/sample - loss: 2.5580e-04 - val_loss: 0.0012\n",
      "Epoch 88/100\n",
      "1100/1100 [==============================] - 2s 2ms/sample - loss: 2.4520e-04 - val_loss: 0.0013\n",
      "Epoch 89/100\n",
      "1100/1100 [==============================] - 2s 2ms/sample - loss: 2.5511e-04 - val_loss: 0.0015\n",
      "Epoch 90/100\n",
      "1100/1100 [==============================] - 2s 2ms/sample - loss: 2.4765e-04 - val_loss: 0.0012\n",
      "Epoch 91/100\n",
      "1100/1100 [==============================] - 2s 2ms/sample - loss: 2.6175e-04 - val_loss: 0.0012\n",
      "Epoch 92/100\n",
      "1100/1100 [==============================] - 2s 2ms/sample - loss: 2.5291e-04 - val_loss: 0.0014\n",
      "Epoch 93/100\n",
      "1100/1100 [==============================] - 2s 2ms/sample - loss: 2.7973e-04 - val_loss: 0.0015\n",
      "Epoch 94/100\n",
      "1100/1100 [==============================] - 2s 2ms/sample - loss: 2.6494e-04 - val_loss: 0.0014\n",
      "Epoch 95/100\n",
      "1100/1100 [==============================] - 2s 2ms/sample - loss: 2.5194e-04 - val_loss: 0.0013\n",
      "Epoch 96/100\n",
      "1100/1100 [==============================] - 2s 2ms/sample - loss: 2.5352e-04 - val_loss: 0.0016\n",
      "Epoch 97/100\n",
      "1100/1100 [==============================] - 2s 2ms/sample - loss: 2.8534e-04 - val_loss: 0.0023\n",
      "Epoch 98/100\n",
      "1100/1100 [==============================] - 2s 2ms/sample - loss: 3.0886e-04 - val_loss: 0.0017\n",
      "Epoch 99/100\n",
      "1100/1100 [==============================] - 2s 2ms/sample - loss: 2.4602e-04 - val_loss: 0.0012\n",
      "Epoch 100/100\n",
      "1100/1100 [==============================] - 2s 2ms/sample - loss: 2.6508e-04 - val_loss: 0.0012\n",
      "The Root mean squared error for the training set is 0.0162612273059091\n",
      "The Root mean squared error for the test set is 0.03418541848797103\n"
     ]
    },
    {
     "data": {
      "image/png": "[encoded data removed]",
      "text/plain": [
       "<Figure size 432x288 with 1 Axes>"
      ]
     },
     "metadata": {
      "needs_background": "light"
     },
     "output_type": "display_data"
    }
   ],
   "source": [
    "close_price(data['fb'])"
   ]
  },
  {
   "cell_type": "markdown",
   "metadata": {},
   "source": [
    "# Apple"
   ]
  },
  {
   "cell_type": "code",
   "execution_count": 32,
   "metadata": {},
   "outputs": [
    {
     "data": {
      "text/plain": [
       "Text(0, 0.5, 'Close Price')"
      ]
     },
     "execution_count": 32,
     "metadata": {},
     "output_type": "execute_result"
    },
    {
     "data": {
      "image/png": "[encoded data removed]",
      "text/plain": [
       "<Figure size 432x288 with 1 Axes>"
      ]
     },
     "metadata": {
      "needs_background": "light"
     },
     "output_type": "display_data"
    }
   ],
   "source": [
    "plt.plot(data['apple'])\n",
    "plt.xlabel('Time')\n",
    "plt.ylabel('Close Price')"
   ]
  },
  {
   "cell_type": "code",
   "execution_count": 33,
   "metadata": {},
   "outputs": [
    {
     "name": "stdout",
     "output_type": "stream",
     "text": [
      "Train on 1100 samples, validate on 95 samples\n",
      "Epoch 1/100\n",
      "1100/1100 [==============================] - 2s 2ms/sample - loss: 7.2236e-05 - val_loss: 7.1419e-04\n",
      "Epoch 2/100\n",
      "1100/1100 [==============================] - 2s 2ms/sample - loss: 5.9139e-05 - val_loss: 8.1924e-04\n",
      "Epoch 3/100\n",
      "1100/1100 [==============================] - 2s 2ms/sample - loss: 5.8437e-05 - val_loss: 7.5047e-04\n",
      "Epoch 4/100\n",
      "1100/1100 [==============================] - 2s 2ms/sample - loss: 5.6548e-05 - val_loss: 9.4226e-04\n",
      "Epoch 5/100\n",
      "1100/1100 [==============================] - 2s 2ms/sample - loss: 5.7037e-05 - val_loss: 8.1683e-04\n",
      "Epoch 6/100\n",
      "1100/1100 [==============================] - 2s 2ms/sample - loss: 5.8460e-05 - val_loss: 8.3011e-04\n",
      "Epoch 7/100\n",
      "1100/1100 [==============================] - 2s 2ms/sample - loss: 5.5618e-05 - val_loss: 9.2178e-04\n",
      "Epoch 8/100\n",
      "1100/1100 [==============================] - 2s 2ms/sample - loss: 5.8920e-05 - val_loss: 9.5334e-04\n",
      "Epoch 9/100\n",
      "1100/1100 [==============================] - 2s 2ms/sample - loss: 5.8949e-05 - val_loss: 7.7207e-04\n",
      "Epoch 10/100\n",
      "1100/1100 [==============================] - 2s 2ms/sample - loss: 5.6294e-05 - val_loss: 7.1969e-04\n",
      "Epoch 11/100\n",
      "1100/1100 [==============================] - 2s 2ms/sample - loss: 5.6144e-05 - val_loss: 9.2032e-04\n",
      "Epoch 12/100\n",
      "1100/1100 [==============================] - 2s 2ms/sample - loss: 5.7763e-05 - val_loss: 9.7191e-04\n",
      "Epoch 13/100\n",
      "1100/1100 [==============================] - 2s 2ms/sample - loss: 6.5037e-05 - val_loss: 5.8160e-04\n",
      "Epoch 14/100\n",
      "1100/1100 [==============================] - 2s 2ms/sample - loss: 5.8107e-05 - val_loss: 6.3099e-04\n",
      "Epoch 15/100\n",
      "1100/1100 [==============================] - 2s 2ms/sample - loss: 5.8062e-05 - val_loss: 9.3361e-04\n",
      "Epoch 16/100\n",
      "1100/1100 [==============================] - 2s 2ms/sample - loss: 6.1762e-05 - val_loss: 6.9309e-04\n",
      "Epoch 17/100\n",
      "1100/1100 [==============================] - 2s 2ms/sample - loss: 5.9294e-05 - val_loss: 6.7433e-04\n",
      "Epoch 18/100\n",
      "1100/1100 [==============================] - 2s 2ms/sample - loss: 5.8979e-05 - val_loss: 7.7693e-04\n",
      "Epoch 19/100\n",
      "1100/1100 [==============================] - 2s 2ms/sample - loss: 5.6684e-05 - val_loss: 8.7371e-04\n",
      "Epoch 20/100\n",
      "1100/1100 [==============================] - 2s 2ms/sample - loss: 5.5877e-05 - val_loss: 9.7131e-04\n",
      "Epoch 21/100\n",
      "1100/1100 [==============================] - 2s 2ms/sample - loss: 5.5030e-05 - val_loss: 6.2594e-04\n",
      "Epoch 22/100\n",
      "1100/1100 [==============================] - 2s 2ms/sample - loss: 5.6066e-05 - val_loss: 8.3231e-04\n",
      "Epoch 23/100\n",
      "1100/1100 [==============================] - 2s 2ms/sample - loss: 5.7540e-05 - val_loss: 6.5727e-04\n",
      "Epoch 24/100\n",
      "1100/1100 [==============================] - 2s 2ms/sample - loss: 5.6915e-05 - val_loss: 8.6293e-04\n",
      "Epoch 25/100\n",
      "1100/1100 [==============================] - 2s 2ms/sample - loss: 5.7916e-05 - val_loss: 8.2955e-04\n",
      "Epoch 26/100\n",
      "1100/1100 [==============================] - 2s 2ms/sample - loss: 5.7791e-05 - val_loss: 7.3657e-04\n",
      "Epoch 27/100\n",
      "1100/1100 [==============================] - 2s 2ms/sample - loss: 5.6295e-05 - val_loss: 6.4818e-04\n",
      "Epoch 28/100\n",
      "1100/1100 [==============================] - 2s 2ms/sample - loss: 5.7848e-05 - val_loss: 7.1156e-04\n",
      "Epoch 29/100\n",
      "1100/1100 [==============================] - 2s 2ms/sample - loss: 5.5705e-05 - val_loss: 7.5168e-04\n",
      "Epoch 30/100\n",
      "1100/1100 [==============================] - 2s 2ms/sample - loss: 5.9606e-05 - val_loss: 6.3940e-04\n",
      "Epoch 31/100\n",
      "1100/1100 [==============================] - 2s 2ms/sample - loss: 5.8283e-05 - val_loss: 8.3996e-04\n",
      "Epoch 32/100\n",
      "1100/1100 [==============================] - 2s 2ms/sample - loss: 5.6463e-05 - val_loss: 6.9141e-04\n",
      "Epoch 33/100\n",
      "1100/1100 [==============================] - 2s 2ms/sample - loss: 5.5843e-05 - val_loss: 6.8293e-04\n",
      "Epoch 34/100\n",
      "1100/1100 [==============================] - 2s 2ms/sample - loss: 5.4117e-05 - val_loss: 6.7774e-04\n",
      "Epoch 35/100\n",
      "1100/1100 [==============================] - 2s 2ms/sample - loss: 6.1617e-05 - val_loss: 5.5789e-04ss: 6.1\n",
      "Epoch 36/100\n",
      "1100/1100 [==============================] - 2s 2ms/sample - loss: 5.8037e-05 - val_loss: 6.8369e-04\n",
      "Epoch 37/100\n",
      "1100/1100 [==============================] - 2s 2ms/sample - loss: 5.6431e-05 - val_loss: 6.7009e-04\n",
      "Epoch 38/100\n",
      "1100/1100 [==============================] - 2s 2ms/sample - loss: 5.7438e-05 - val_loss: 9.4990e-04\n",
      "Epoch 39/100\n",
      "1100/1100 [==============================] - 2s 2ms/sample - loss: 6.2552e-05 - val_loss: 9.8410e-04\n",
      "Epoch 40/100\n",
      "1100/1100 [==============================] - 3s 2ms/sample - loss: 6.1448e-05 - val_loss: 7.5462e-04\n",
      "Epoch 41/100\n",
      "1100/1100 [==============================] - 2s 2ms/sample - loss: 6.1513e-05 - val_loss: 7.2345e-04\n",
      "Epoch 42/100\n",
      "1100/1100 [==============================] - 2s 2ms/sample - loss: 5.7396e-05 - val_loss: 7.9661e-04\n",
      "Epoch 43/100\n",
      "1100/1100 [==============================] - 2s 2ms/sample - loss: 5.6984e-05 - val_loss: 7.5086e-04\n",
      "Epoch 44/100\n",
      "1100/1100 [==============================] - 2s 2ms/sample - loss: 5.4201e-05 - val_loss: 7.7212e-04\n",
      "Epoch 45/100\n",
      "1100/1100 [==============================] - 2s 2ms/sample - loss: 5.6641e-05 - val_loss: 6.0275e-04\n",
      "Epoch 46/100\n",
      "1100/1100 [==============================] - 2s 2ms/sample - loss: 5.8681e-05 - val_loss: 7.2354e-04\n",
      "Epoch 47/100\n",
      "1100/1100 [==============================] - 2s 2ms/sample - loss: 5.9981e-05 - val_loss: 8.8522e-04\n",
      "Epoch 48/100\n",
      "1100/1100 [==============================] - 2s 2ms/sample - loss: 5.9019e-05 - val_loss: 5.7380e-04\n",
      "Epoch 49/100\n",
      "1100/1100 [==============================] - 2s 2ms/sample - loss: 6.0854e-05 - val_loss: 9.3320e-04\n",
      "Epoch 50/100\n",
      "1100/1100 [==============================] - 2s 2ms/sample - loss: 5.4973e-05 - val_loss: 5.6489e-04\n",
      "Epoch 51/100\n",
      "1100/1100 [==============================] - 2s 2ms/sample - loss: 6.2959e-05 - val_loss: 5.9463e-04\n",
      "Epoch 52/100\n",
      "1100/1100 [==============================] - 2s 2ms/sample - loss: 6.4701e-05 - val_loss: 6.5979e-04\n",
      "Epoch 53/100\n",
      "1100/1100 [==============================] - 2s 2ms/sample - loss: 6.5676e-05 - val_loss: 7.0920e-04\n",
      "Epoch 54/100\n",
      "1100/1100 [==============================] - 3s 2ms/sample - loss: 5.9822e-05 - val_loss: 8.5576e-04\n",
      "Epoch 55/100\n",
      "1100/1100 [==============================] - 2s 2ms/sample - loss: 6.6772e-05 - val_loss: 7.6578e-04\n",
      "Epoch 56/100\n",
      "1100/1100 [==============================] - 2s 2ms/sample - loss: 5.6287e-05 - val_loss: 6.6168e-04\n",
      "Epoch 57/100\n",
      "1100/1100 [==============================] - 2s 2ms/sample - loss: 5.5541e-05 - val_loss: 6.3910e-04\n",
      "Epoch 58/100\n",
      "1100/1100 [==============================] - 3s 2ms/sample - loss: 5.6774e-05 - val_loss: 8.0133e-04\n",
      "Epoch 59/100\n",
      "1100/1100 [==============================] - 2s 2ms/sample - loss: 5.6256e-05 - val_loss: 7.9157e-04\n",
      "Epoch 60/100\n",
      "1100/1100 [==============================] - 2s 2ms/sample - loss: 5.9448e-05 - val_loss: 6.5886e-04\n",
      "Epoch 61/100\n",
      "1100/1100 [==============================] - 2s 2ms/sample - loss: 5.4491e-05 - val_loss: 6.7752e-04\n",
      "Epoch 62/100\n",
      "1100/1100 [==============================] - 2s 2ms/sample - loss: 5.6952e-05 - val_loss: 6.0331e-04\n",
      "Epoch 63/100\n",
      "1100/1100 [==============================] - 2s 2ms/sample - loss: 6.1359e-05 - val_loss: 9.3666e-04\n",
      "Epoch 64/100\n",
      "1100/1100 [==============================] - 2s 2ms/sample - loss: 6.0187e-05 - val_loss: 6.8367e-04\n",
      "Epoch 65/100\n",
      "1100/1100 [==============================] - 3s 2ms/sample - loss: 5.4931e-05 - val_loss: 8.1589e-04\n",
      "Epoch 66/100\n",
      "1100/1100 [==============================] - 3s 2ms/sample - loss: 6.1354e-05 - val_loss: 8.7464e-04\n",
      "Epoch 67/100\n",
      "1100/1100 [==============================] - 3s 2ms/sample - loss: 5.7622e-05 - val_loss: 6.3031e-04\n",
      "Epoch 68/100\n",
      "1100/1100 [==============================] - 3s 2ms/sample - loss: 5.7189e-05 - val_loss: 6.3256e-04\n",
      "Epoch 69/100\n",
      "1100/1100 [==============================] - 2s 2ms/sample - loss: 5.7976e-05 - val_loss: 6.4061e-04\n",
      "Epoch 70/100\n",
      "1100/1100 [==============================] - 2s 2ms/sample - loss: 5.9313e-05 - val_loss: 5.9715e-04\n",
      "Epoch 71/100\n",
      "1100/1100 [==============================] - 2s 2ms/sample - loss: 5.4488e-05 - val_loss: 7.3491e-04\n",
      "Epoch 72/100\n",
      "1100/1100 [==============================] - 2s 2ms/sample - loss: 6.4940e-05 - val_loss: 5.9796e-04\n",
      "Epoch 73/100\n",
      "1100/1100 [==============================] - 3s 2ms/sample - loss: 5.6497e-05 - val_loss: 7.7657e-04\n",
      "Epoch 74/100\n",
      "1100/1100 [==============================] - 2s 2ms/sample - loss: 5.7924e-05 - val_loss: 6.0733e-04\n",
      "Epoch 75/100\n",
      "1100/1100 [==============================] - 2s 2ms/sample - loss: 6.0325e-05 - val_loss: 9.4055e-04\n",
      "Epoch 76/100\n",
      "1100/1100 [==============================] - 2s 2ms/sample - loss: 6.7474e-05 - val_loss: 9.3029e-04\n",
      "Epoch 77/100\n",
      "1100/1100 [==============================] - 2s 2ms/sample - loss: 5.8889e-05 - val_loss: 7.5288e-04s - loss:\n",
      "Epoch 78/100\n",
      "1100/1100 [==============================] - 2s 2ms/sample - loss: 6.1542e-05 - val_loss: 6.8349e-04\n",
      "Epoch 79/100\n",
      "1100/1100 [==============================] - 2s 2ms/sample - loss: 5.8462e-05 - val_loss: 7.1811e-04\n",
      "Epoch 80/100\n",
      "1100/1100 [==============================] - 2s 2ms/sample - loss: 5.7183e-05 - val_loss: 7.3095e-04\n",
      "Epoch 81/100\n",
      "1100/1100 [==============================] - 2s 2ms/sample - loss: 6.0120e-05 - val_loss: 6.2158e-04\n",
      "Epoch 82/100\n",
      "1100/1100 [==============================] - 2s 2ms/sample - loss: 5.6595e-05 - val_loss: 0.0010\n",
      "Epoch 83/100\n",
      "1100/1100 [==============================] - 2s 2ms/sample - loss: 5.9094e-05 - val_loss: 6.6897e-04\n",
      "Epoch 84/100\n",
      "1100/1100 [==============================] - 2s 2ms/sample - loss: 5.6192e-05 - val_loss: 6.0754e-04\n",
      "Epoch 85/100\n",
      "1100/1100 [==============================] - 2s 2ms/sample - loss: 6.3412e-05 - val_loss: 7.7972e-04\n",
      "Epoch 86/100\n",
      "1100/1100 [==============================] - 2s 2ms/sample - loss: 5.6043e-05 - val_loss: 7.1532e-04\n",
      "Epoch 87/100\n",
      "1100/1100 [==============================] - 2s 2ms/sample - loss: 6.7184e-05 - val_loss: 6.7375e-04\n",
      "Epoch 88/100\n",
      "1100/1100 [==============================] - 2s 2ms/sample - loss: 5.8038e-05 - val_loss: 9.5511e-04\n",
      "Epoch 89/100\n",
      "1100/1100 [==============================] - 2s 2ms/sample - loss: 6.5375e-05 - val_loss: 7.6717e-04\n",
      "Epoch 90/100\n",
      "1100/1100 [==============================] - 2s 2ms/sample - loss: 6.6381e-05 - val_loss: 9.2583e-04\n",
      "Epoch 91/100\n",
      "1100/1100 [==============================] - 2s 2ms/sample - loss: 5.6613e-05 - val_loss: 8.0236e-04\n",
      "Epoch 92/100\n",
      "1100/1100 [==============================] - 2s 2ms/sample - loss: 5.7125e-05 - val_loss: 7.9676e-04\n",
      "Epoch 93/100\n",
      "1100/1100 [==============================] - 2s 2ms/sample - loss: 5.5070e-05 - val_loss: 6.3377e-04\n",
      "Epoch 94/100\n",
      "1100/1100 [==============================] - 2s 2ms/sample - loss: 5.7405e-05 - val_loss: 5.9819e-04\n",
      "Epoch 95/100\n",
      "1100/1100 [==============================] - 2s 2ms/sample - loss: 5.6725e-05 - val_loss: 6.9092e-04\n",
      "Epoch 96/100\n",
      "1100/1100 [==============================] - 2s 2ms/sample - loss: 6.4388e-05 - val_loss: 8.0246e-04\n",
      "Epoch 97/100\n",
      "1100/1100 [==============================] - 2s 2ms/sample - loss: 5.8157e-05 - val_loss: 9.4992e-04\n",
      "Epoch 98/100\n",
      "1100/1100 [==============================] - 2s 2ms/sample - loss: 5.9374e-05 - val_loss: 8.1374e-04\n",
      "Epoch 99/100\n",
      "1100/1100 [==============================] - 2s 2ms/sample - loss: 6.1146e-05 - val_loss: 0.0011\n",
      "Epoch 100/100\n",
      "1100/1100 [==============================] - 2s 2ms/sample - loss: 6.1240e-05 - val_loss: 7.6187e-04\n",
      "The Root mean squared error for the training set is 0.007173265930635679\n",
      "The Root mean squared error for the test set is 0.027601993604493266\n"
     ]
    },
    {
     "data": {
      "image/png": "[encoded data removed]",
      "text/plain": [
       "<Figure size 432x288 with 1 Axes>"
      ]
     },
     "metadata": {
      "needs_background": "light"
     },
     "output_type": "display_data"
    }
   ],
   "source": [
    "close_price(data['apple'])"
   ]
  },
  {
   "cell_type": "markdown",
   "metadata": {},
   "source": [
    "Our model predicted the closing stock price of the Big 4 Tech companies with a <b>Root mean squared error</b> of less than \n",
    "<b>0.04</b>"
   ]
  }
 ],
 "metadata": {
  "kernelspec": {
   "display_name": "Python 3",
   "language": "python",
   "name": "python3"
  },
  "language_info": {
   "codemirror_mode": {
    "name": "ipython",
    "version": 3
   },
   "file_extension": ".py",
   "mimetype": "text/x-python",
   "name": "python",
   "nbconvert_exporter": "python",
   "pygments_lexer": "ipython3",
   "version": "3.8.3"
  }
 },
 "nbformat": 4,
 "nbformat_minor": 4
}
