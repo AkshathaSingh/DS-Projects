{
 "cells": [
  {
   "cell_type": "markdown",
   "metadata": {},
   "source": [
    "## Analysis of Data Analyst Job postings\n",
    "### Overview\n",
    "In this project we will be doing an Exploratory Data Analysis of the Data Analyst Job postings taken from Glassdoor to better\n",
    "understand the job market and thus help with the job search process."
   ]
  },
  {
   "cell_type": "code",
   "execution_count": 2,
   "metadata": {},
   "outputs": [],
   "source": [
    "# import the required libraries for computation and visualization\n",
    "import pandas as pd\n",
    "import numpy as np\n",
    "import seaborn as sns\n",
    "import matplotlib.pyplot as plt\n",
    "sns.set_style('whitegrid')\n",
    "%matplotlib inline"
   ]
  },
  {
   "cell_type": "markdown",
   "metadata": {},
   "source": [
    "### Data"
   ]
  },
  {
   "cell_type": "code",
   "execution_count": 3,
   "metadata": {},
   "outputs": [],
   "source": [
    "# load the dataset\n",
    "data = pd.read_csv('DataAnalyst.csv')"
   ]
  },
  {
   "cell_type": "code",
   "execution_count": 4,
   "metadata": {},
   "outputs": [
    {
     "data": {
      "text/html": [
       "<div>\n",
       "<style scoped>\n",
       "    .dataframe tbody tr th:only-of-type {\n",
       "        vertical-align: middle;\n",
       "    }\n",
       "\n",
       "    .dataframe tbody tr th {\n",
       "        vertical-align: top;\n",
       "    }\n",
       "\n",
       "    .dataframe thead th {\n",
       "        text-align: right;\n",
       "    }\n",
       "</style>\n",
       "<table border=\"1\" class=\"dataframe\">\n",
       "  <thead>\n",
       "    <tr style=\"text-align: right;\">\n",
       "      <th></th>\n",
       "      <th>Unnamed: 0</th>\n",
       "      <th>Job Title</th>\n",
       "      <th>Salary Estimate</th>\n",
       "      <th>Job Description</th>\n",
       "      <th>Rating</th>\n",
       "      <th>Company Name</th>\n",
       "      <th>Location</th>\n",
       "      <th>Headquarters</th>\n",
       "      <th>Size</th>\n",
       "      <th>Founded</th>\n",
       "      <th>Type of ownership</th>\n",
       "      <th>Industry</th>\n",
       "      <th>Sector</th>\n",
       "      <th>Revenue</th>\n",
       "      <th>Competitors</th>\n",
       "      <th>Easy Apply</th>\n",
       "    </tr>\n",
       "  </thead>\n",
       "  <tbody>\n",
       "    <tr>\n",
       "      <th>0</th>\n",
       "      <td>0</td>\n",
       "      <td>Data Analyst, Center on Immigration and Justic...</td>\n",
       "      <td>$37K-$66K (Glassdoor est.)</td>\n",
       "      <td>Are you eager to roll up your sleeves and harn...</td>\n",
       "      <td>3.2</td>\n",
       "      <td>Vera Institute of Justice\\n3.2</td>\n",
       "      <td>New York, NY</td>\n",
       "      <td>New York, NY</td>\n",
       "      <td>201 to 500 employees</td>\n",
       "      <td>1961</td>\n",
       "      <td>Nonprofit Organization</td>\n",
       "      <td>Social Assistance</td>\n",
       "      <td>Non-Profit</td>\n",
       "      <td>$100 to $500 million (USD)</td>\n",
       "      <td>-1</td>\n",
       "      <td>True</td>\n",
       "    </tr>\n",
       "    <tr>\n",
       "      <th>1</th>\n",
       "      <td>1</td>\n",
       "      <td>Quality Data Analyst</td>\n",
       "      <td>$37K-$66K (Glassdoor est.)</td>\n",
       "      <td>Overview\\n\\nProvides analytical and technical ...</td>\n",
       "      <td>3.8</td>\n",
       "      <td>Visiting Nurse Service of New York\\n3.8</td>\n",
       "      <td>New York, NY</td>\n",
       "      <td>New York, NY</td>\n",
       "      <td>10000+ employees</td>\n",
       "      <td>1893</td>\n",
       "      <td>Nonprofit Organization</td>\n",
       "      <td>Health Care Services &amp; Hospitals</td>\n",
       "      <td>Health Care</td>\n",
       "      <td>$2 to $5 billion (USD)</td>\n",
       "      <td>-1</td>\n",
       "      <td>-1</td>\n",
       "    </tr>\n",
       "    <tr>\n",
       "      <th>2</th>\n",
       "      <td>2</td>\n",
       "      <td>Senior Data Analyst, Insights &amp; Analytics Team...</td>\n",
       "      <td>$37K-$66K (Glassdoor est.)</td>\n",
       "      <td>We’re looking for a Senior Data Analyst who ha...</td>\n",
       "      <td>3.4</td>\n",
       "      <td>Squarespace\\n3.4</td>\n",
       "      <td>New York, NY</td>\n",
       "      <td>New York, NY</td>\n",
       "      <td>1001 to 5000 employees</td>\n",
       "      <td>2003</td>\n",
       "      <td>Company - Private</td>\n",
       "      <td>Internet</td>\n",
       "      <td>Information Technology</td>\n",
       "      <td>Unknown / Non-Applicable</td>\n",
       "      <td>GoDaddy</td>\n",
       "      <td>-1</td>\n",
       "    </tr>\n",
       "    <tr>\n",
       "      <th>3</th>\n",
       "      <td>3</td>\n",
       "      <td>Data Analyst</td>\n",
       "      <td>$37K-$66K (Glassdoor est.)</td>\n",
       "      <td>Requisition NumberRR-0001939\\nRemote:Yes\\nWe c...</td>\n",
       "      <td>4.1</td>\n",
       "      <td>Celerity\\n4.1</td>\n",
       "      <td>New York, NY</td>\n",
       "      <td>McLean, VA</td>\n",
       "      <td>201 to 500 employees</td>\n",
       "      <td>2002</td>\n",
       "      <td>Subsidiary or Business Segment</td>\n",
       "      <td>IT Services</td>\n",
       "      <td>Information Technology</td>\n",
       "      <td>$50 to $100 million (USD)</td>\n",
       "      <td>-1</td>\n",
       "      <td>-1</td>\n",
       "    </tr>\n",
       "    <tr>\n",
       "      <th>4</th>\n",
       "      <td>4</td>\n",
       "      <td>Reporting Data Analyst</td>\n",
       "      <td>$37K-$66K (Glassdoor est.)</td>\n",
       "      <td>ABOUT FANDUEL GROUP\\n\\nFanDuel Group is a worl...</td>\n",
       "      <td>3.9</td>\n",
       "      <td>FanDuel\\n3.9</td>\n",
       "      <td>New York, NY</td>\n",
       "      <td>New York, NY</td>\n",
       "      <td>501 to 1000 employees</td>\n",
       "      <td>2009</td>\n",
       "      <td>Company - Private</td>\n",
       "      <td>Sports &amp; Recreation</td>\n",
       "      <td>Arts, Entertainment &amp; Recreation</td>\n",
       "      <td>$100 to $500 million (USD)</td>\n",
       "      <td>DraftKings</td>\n",
       "      <td>True</td>\n",
       "    </tr>\n",
       "  </tbody>\n",
       "</table>\n",
       "</div>"
      ],
      "text/plain": [
       "   Unnamed: 0                                          Job Title  \\\n",
       "0           0  Data Analyst, Center on Immigration and Justic...   \n",
       "1           1                               Quality Data Analyst   \n",
       "2           2  Senior Data Analyst, Insights & Analytics Team...   \n",
       "3           3                                       Data Analyst   \n",
       "4           4                             Reporting Data Analyst   \n",
       "\n",
       "              Salary Estimate  \\\n",
       "0  $37K-$66K (Glassdoor est.)   \n",
       "1  $37K-$66K (Glassdoor est.)   \n",
       "2  $37K-$66K (Glassdoor est.)   \n",
       "3  $37K-$66K (Glassdoor est.)   \n",
       "4  $37K-$66K (Glassdoor est.)   \n",
       "\n",
       "                                     Job Description  Rating  \\\n",
       "0  Are you eager to roll up your sleeves and harn...     3.2   \n",
       "1  Overview\\n\\nProvides analytical and technical ...     3.8   \n",
       "2  We’re looking for a Senior Data Analyst who ha...     3.4   \n",
       "3  Requisition NumberRR-0001939\\nRemote:Yes\\nWe c...     4.1   \n",
       "4  ABOUT FANDUEL GROUP\\n\\nFanDuel Group is a worl...     3.9   \n",
       "\n",
       "                              Company Name      Location  Headquarters  \\\n",
       "0           Vera Institute of Justice\\n3.2  New York, NY  New York, NY   \n",
       "1  Visiting Nurse Service of New York\\n3.8  New York, NY  New York, NY   \n",
       "2                         Squarespace\\n3.4  New York, NY  New York, NY   \n",
       "3                            Celerity\\n4.1  New York, NY    McLean, VA   \n",
       "4                             FanDuel\\n3.9  New York, NY  New York, NY   \n",
       "\n",
       "                     Size  Founded               Type of ownership  \\\n",
       "0    201 to 500 employees     1961          Nonprofit Organization   \n",
       "1        10000+ employees     1893          Nonprofit Organization   \n",
       "2  1001 to 5000 employees     2003               Company - Private   \n",
       "3    201 to 500 employees     2002  Subsidiary or Business Segment   \n",
       "4   501 to 1000 employees     2009               Company - Private   \n",
       "\n",
       "                           Industry                            Sector  \\\n",
       "0                 Social Assistance                        Non-Profit   \n",
       "1  Health Care Services & Hospitals                       Health Care   \n",
       "2                          Internet            Information Technology   \n",
       "3                       IT Services            Information Technology   \n",
       "4               Sports & Recreation  Arts, Entertainment & Recreation   \n",
       "\n",
       "                      Revenue Competitors Easy Apply  \n",
       "0  $100 to $500 million (USD)          -1       True  \n",
       "1      $2 to $5 billion (USD)          -1         -1  \n",
       "2    Unknown / Non-Applicable     GoDaddy         -1  \n",
       "3   $50 to $100 million (USD)          -1         -1  \n",
       "4  $100 to $500 million (USD)  DraftKings       True  "
      ]
     },
     "execution_count": 4,
     "metadata": {},
     "output_type": "execute_result"
    }
   ],
   "source": [
    "data.head()"
   ]
  },
  {
   "cell_type": "code",
   "execution_count": 5,
   "metadata": {},
   "outputs": [
    {
     "data": {
      "text/plain": [
       "(2253, 16)"
      ]
     },
     "execution_count": 5,
     "metadata": {},
     "output_type": "execute_result"
    }
   ],
   "source": [
    "# number of observations and features\n",
    "data.shape"
   ]
  },
  {
   "cell_type": "code",
   "execution_count": 6,
   "metadata": {},
   "outputs": [
    {
     "name": "stdout",
     "output_type": "stream",
     "text": [
      "<class 'pandas.core.frame.DataFrame'>\n",
      "RangeIndex: 2253 entries, 0 to 2252\n",
      "Data columns (total 16 columns):\n",
      " #   Column             Non-Null Count  Dtype  \n",
      "---  ------             --------------  -----  \n",
      " 0   Unnamed: 0         2253 non-null   int64  \n",
      " 1   Job Title          2253 non-null   object \n",
      " 2   Salary Estimate    2253 non-null   object \n",
      " 3   Job Description    2253 non-null   object \n",
      " 4   Rating             2253 non-null   float64\n",
      " 5   Company Name       2252 non-null   object \n",
      " 6   Location           2253 non-null   object \n",
      " 7   Headquarters       2253 non-null   object \n",
      " 8   Size               2253 non-null   object \n",
      " 9   Founded            2253 non-null   int64  \n",
      " 10  Type of ownership  2253 non-null   object \n",
      " 11  Industry           2253 non-null   object \n",
      " 12  Sector             2253 non-null   object \n",
      " 13  Revenue            2253 non-null   object \n",
      " 14  Competitors        2253 non-null   object \n",
      " 15  Easy Apply         2253 non-null   object \n",
      "dtypes: float64(1), int64(2), object(13)\n",
      "memory usage: 281.8+ KB\n"
     ]
    }
   ],
   "source": [
    "data.info()"
   ]
  },
  {
   "cell_type": "code",
   "execution_count": 7,
   "metadata": {},
   "outputs": [],
   "source": [
    "def feature_categories(x, df):\n",
    "    '''\n",
    "    function to show categories of all the columns of the dataset\n",
    "    INPUT: \n",
    "          X - list of column names of the data\n",
    "          df - dataset\n",
    "    OUTPUT:\n",
    "           categories of all the features of the data\n",
    "    '''\n",
    "    a = []\n",
    "    for i in x:\n",
    "        a.append(df[i].value_counts())\n",
    "    return a"
   ]
  },
  {
   "cell_type": "code",
   "execution_count": 8,
   "metadata": {},
   "outputs": [],
   "source": [
    "#cat = [data[i].value_counts() for i in data_.columns]"
   ]
  },
  {
   "cell_type": "code",
   "execution_count": 9,
   "metadata": {
    "scrolled": true
   },
   "outputs": [
    {
     "data": {
      "text/plain": [
       "[2047    1\n",
       " 1290    1\n",
       " 1302    1\n",
       " 1300    1\n",
       " 1298    1\n",
       "        ..\n",
       " 557     1\n",
       " 559     1\n",
       " 561     1\n",
       " 563     1\n",
       " 0       1\n",
       " Name: Unnamed: 0, Length: 2253, dtype: int64,\n",
       " Data Analyst                                                          405\n",
       " Senior Data Analyst                                                    90\n",
       " Junior Data Analyst                                                    30\n",
       " Business Data Analyst                                                  28\n",
       " Sr. Data Analyst                                                       21\n",
       "                                                                      ... \n",
       " 9-1-1 Data Analyst                                                      1\n",
       " Senior Manager, Data Analyst                                            1\n",
       " NIWC Service Desk Analyst Component Enterprise Data Center (CEDC).      1\n",
       " Bilingual (Chinese) Data Analyst                                        1\n",
       " Data Analyst/Architect                                                  1\n",
       " Name: Job Title, Length: 1272, dtype: int64,\n",
       " $41K-$78K (Glassdoor est.)    57\n",
       " $42K-$76K (Glassdoor est.)    57\n",
       " $50K-$86K (Glassdoor est.)    41\n",
       " $35K-$67K (Glassdoor est.)    33\n",
       " $58K-$93K (Glassdoor est.)    31\n",
       "                               ..\n",
       " $36K-$67K (Glassdoor est.)     3\n",
       " $43K-$77K (Glassdoor est.)     3\n",
       " $47K-$81K (Glassdoor est.)     3\n",
       " $57K-$70K (Glassdoor est.)     2\n",
       " -1                             1\n",
       " Name: Salary Estimate, Length: 90, dtype: int64,\n",
       " -1.0    272\n",
       "  3.9    140\n",
       "  3.6    135\n",
       "  3.7    132\n",
       "  5.0    131\n",
       "  3.8    130\n",
       "  4.0    129\n",
       "  3.5    125\n",
       "  4.1    119\n",
       "  3.3    109\n",
       "  3.4    101\n",
       "  3.2     91\n",
       "  3.1     68\n",
       "  3.0     57\n",
       "  4.3     55\n",
       "  4.2     47\n",
       "  4.5     47\n",
       "  4.6     46\n",
       "  4.4     46\n",
       "  2.8     43\n",
       "  2.9     40\n",
       "  2.5     32\n",
       "  4.8     29\n",
       "  2.7     25\n",
       "  4.7     23\n",
       "  4.9     17\n",
       "  2.6     14\n",
       "  2.4     10\n",
       "  1.0     10\n",
       "  2.3      9\n",
       "  2.0      6\n",
       "  2.1      4\n",
       "  2.2      3\n",
       "  1.6      2\n",
       "  1.8      2\n",
       "  1.9      2\n",
       "  1.7      2\n",
       " Name: Rating, dtype: int64,\n",
       " Staffigo Technical Services, LLC\\n5.0      58\n",
       " Diverse Lynx\\n3.9                          22\n",
       " Kforce\\n4.1                                19\n",
       " Lorven Technologies Inc\\n4.0               19\n",
       " Robert Half\\n3.5                           14\n",
       "                                            ..\n",
       " U.S. Auto Parts Network, Inc.\\n3.4          1\n",
       " Data Systems Integration Group Inc\\n2.8     1\n",
       " C&G Consulting Services                     1\n",
       " Beautycounter\\n3.0                          1\n",
       " World Wide Technology\\n4.2                  1\n",
       " Name: Company Name, Length: 1513, dtype: int64,\n",
       " New York, NY          310\n",
       " Chicago, IL           130\n",
       " San Francisco, CA     119\n",
       " Austin, TX             81\n",
       " Los Angeles, CA        80\n",
       "                      ... \n",
       " Carrollton, TX          1\n",
       " Jeffersonville, IN      1\n",
       " Riverton, UT            1\n",
       " Des Plaines, IL         1\n",
       " Paoli, PA               1\n",
       " Name: Location, Length: 253, dtype: int64,\n",
       " New York, NY         206\n",
       " -1                   172\n",
       " San Francisco, CA     71\n",
       " Chicago, IL           66\n",
       " Woodridge, IL         58\n",
       "                     ... \n",
       " Sandy, UT              1\n",
       " Yorktown, VA           1\n",
       " Beaverton, OR          1\n",
       " Danbury, CT            1\n",
       " Whittier, CA           1\n",
       " Name: Headquarters, Length: 483, dtype: int64,\n",
       " 51 to 200 employees        421\n",
       " 10000+ employees           375\n",
       " 1001 to 5000 employees     348\n",
       " 1 to 50 employees          347\n",
       " 201 to 500 employees       249\n",
       " 501 to 1000 employees      211\n",
       " -1                         163\n",
       " 5001 to 10000 employees     97\n",
       " Unknown                     42\n",
       " Name: Size, dtype: int64,\n",
       " -1       660\n",
       "  2008     80\n",
       "  1996     54\n",
       "  2000     54\n",
       "  2002     54\n",
       "         ... \n",
       "  1924      1\n",
       "  1922      1\n",
       "  1918      1\n",
       "  1908      1\n",
       "  1682      1\n",
       " Name: Founded, Length: 161, dtype: int64,\n",
       " Company - Private                 1273\n",
       " Company - Public                   452\n",
       " -1                                 163\n",
       " Nonprofit Organization             124\n",
       " Subsidiary or Business Segment      89\n",
       " Government                          37\n",
       " College / University                34\n",
       " Hospital                            19\n",
       " Unknown                             16\n",
       " Other Organization                  13\n",
       " Contract                            11\n",
       " School / School District             9\n",
       " Private Practice / Firm              9\n",
       " Self-employed                        2\n",
       " Franchise                            2\n",
       " Name: Type of ownership, dtype: int64,\n",
       " -1                                  353\n",
       " IT Services                         325\n",
       " Staffing & Outsourcing              323\n",
       " Health Care Services & Hospitals    151\n",
       " Consulting                          111\n",
       "                                    ... \n",
       " Stock Exchanges                       1\n",
       " Metals Brokers                        1\n",
       " Truck Rental & Leasing                1\n",
       " Express Delivery Services             1\n",
       " Pet & Pet Supplies Stores             1\n",
       " Name: Industry, Length: 89, dtype: int64,\n",
       " Information Technology                570\n",
       " Business Services                     524\n",
       " -1                                    353\n",
       " Finance                               169\n",
       " Health Care                           151\n",
       " Education                              52\n",
       " Insurance                              51\n",
       " Accounting & Legal                     43\n",
       " Media                                  42\n",
       " Manufacturing                          40\n",
       " Retail                                 38\n",
       " Government                             36\n",
       " Biotech & Pharmaceuticals              33\n",
       " Non-Profit                             26\n",
       " Aerospace & Defense                    22\n",
       " Transportation & Logistics             20\n",
       " Construction, Repair & Maintenance     16\n",
       " Consumer Services                      14\n",
       " Oil, Gas, Energy & Utilities           13\n",
       " Real Estate                            12\n",
       " Telecommunications                     11\n",
       " Restaurants, Bars & Food Services       8\n",
       " Arts, Entertainment & Recreation        7\n",
       " Travel & Tourism                        1\n",
       " Mining & Metals                         1\n",
       " Name: Sector, dtype: int64,\n",
       " Unknown / Non-Applicable            615\n",
       " $100 to $500 million (USD)          218\n",
       " $50 to $100 million (USD)           199\n",
       " $10+ billion (USD)                  189\n",
       " -1                                  163\n",
       " $10 to $25 million (USD)            132\n",
       " $2 to $5 billion (USD)              129\n",
       " $1 to $5 million (USD)              111\n",
       " $25 to $50 million (USD)            110\n",
       " Less than $1 million (USD)           93\n",
       " $1 to $2 billion (USD)               87\n",
       " $500 million to $1 billion (USD)     79\n",
       " $5 to $10 million (USD)              72\n",
       " $5 to $10 billion (USD)              56\n",
       " Name: Revenue, dtype: int64,\n",
       " -1                                                      1732\n",
       " Robert Half, Insight Global                               14\n",
       " Adecco, Manpower                                          14\n",
       " TEKsystems, Insight Global, Accenture                     10\n",
       " Artech Information Systems, Mindlance, Tech Mahindra      10\n",
       "                                                         ... \n",
       " Interpublic Group, Omnicom, WPP                            1\n",
       " PetSmart, Walmart, Costco Wholesale                        1\n",
       " Advance Auto Parts, AutoZone, NAPA Auto Parts              1\n",
       " Wolverine Trading, Interactive Brokers, Citadel            1\n",
       " Amazon, Apple                                              1\n",
       " Name: Competitors, Length: 291, dtype: int64,\n",
       " -1      2173\n",
       " True      80\n",
       " Name: Easy Apply, dtype: int64]"
      ]
     },
     "execution_count": 9,
     "metadata": {},
     "output_type": "execute_result"
    }
   ],
   "source": [
    "data_ = data.drop('Job Description', axis=1)\n",
    "feature_categories(data_.columns, data_)"
   ]
  },
  {
   "cell_type": "markdown",
   "metadata": {},
   "source": [
    "### Data Cleaning"
   ]
  },
  {
   "cell_type": "code",
   "execution_count": 10,
   "metadata": {},
   "outputs": [],
   "source": [
    "# dropping the unnamed column as it serves the same purpose as the index column\n",
    "data.drop('Unnamed: 0', axis=1, inplace=True)"
   ]
  },
  {
   "cell_type": "code",
   "execution_count": 11,
   "metadata": {},
   "outputs": [],
   "source": [
    "# The missing values are represented as -1, replacing the -1 values with nan\n",
    "data.replace([-1, -1.0, '-1'], np.nan, inplace=True)"
   ]
  },
  {
   "cell_type": "code",
   "execution_count": 12,
   "metadata": {},
   "outputs": [],
   "source": [
    "# replacing Unknown to nan values\n",
    "data.replace(['Unknown', 'Unknown / Non-Applicable'], np.nan, inplace=True)"
   ]
  },
  {
   "cell_type": "code",
   "execution_count": 13,
   "metadata": {},
   "outputs": [
    {
     "name": "stdout",
     "output_type": "stream",
     "text": [
      "<class 'pandas.core.frame.DataFrame'>\n",
      "RangeIndex: 2253 entries, 0 to 2252\n",
      "Data columns (total 15 columns):\n",
      " #   Column             Non-Null Count  Dtype  \n",
      "---  ------             --------------  -----  \n",
      " 0   Job Title          2253 non-null   object \n",
      " 1   Salary Estimate    2252 non-null   object \n",
      " 2   Job Description    2253 non-null   object \n",
      " 3   Rating             1981 non-null   float64\n",
      " 4   Company Name       2252 non-null   object \n",
      " 5   Location           2253 non-null   object \n",
      " 6   Headquarters       2081 non-null   object \n",
      " 7   Size               2048 non-null   object \n",
      " 8   Founded            1593 non-null   float64\n",
      " 9   Type of ownership  2074 non-null   object \n",
      " 10  Industry           1900 non-null   object \n",
      " 11  Sector             1900 non-null   object \n",
      " 12  Revenue            1475 non-null   object \n",
      " 13  Competitors        521 non-null    object \n",
      " 14  Easy Apply         80 non-null     object \n",
      "dtypes: float64(2), object(13)\n",
      "memory usage: 264.1+ KB\n"
     ]
    }
   ],
   "source": [
    "# This shows the number of non-null values in each feature\n",
    "data.info()"
   ]
  },
  {
   "cell_type": "code",
   "execution_count": 14,
   "metadata": {},
   "outputs": [
    {
     "data": {
      "text/plain": [
       "<matplotlib.axes._subplots.AxesSubplot at 0x24e0a0a4eb0>"
      ]
     },
     "execution_count": 14,
     "metadata": {},
     "output_type": "execute_result"
    },
    {
     "data": {
      "image/png": "[encoded data removed]",
      "text/plain": [
       "<Figure size 432x288 with 1 Axes>"
      ]
     },
     "metadata": {
      "needs_background": "light"
     },
     "output_type": "display_data"
    }
   ],
   "source": [
    "# heatmap to show the presence of missing values\n",
    "sns.heatmap(data.isnull(), cbar=False)"
   ]
  },
  {
   "cell_type": "markdown",
   "metadata": {},
   "source": [
    "### Missing Values Table\n",
    "Shows the count and percentage of missing values in each column"
   ]
  },
  {
   "cell_type": "code",
   "execution_count": 15,
   "metadata": {},
   "outputs": [],
   "source": [
    "missing_values_cnt = data.isnull().sum()\n",
    "percent_nan = round(100 * data.isnull().sum()/ len(data), 2)\n",
    "data_types = data.dtypes"
   ]
  },
  {
   "cell_type": "code",
   "execution_count": 16,
   "metadata": {},
   "outputs": [
    {
     "data": {
      "text/html": [
       "<div>\n",
       "<style scoped>\n",
       "    .dataframe tbody tr th:only-of-type {\n",
       "        vertical-align: middle;\n",
       "    }\n",
       "\n",
       "    .dataframe tbody tr th {\n",
       "        vertical-align: top;\n",
       "    }\n",
       "\n",
       "    .dataframe thead th {\n",
       "        text-align: right;\n",
       "    }\n",
       "</style>\n",
       "<table border=\"1\" class=\"dataframe\">\n",
       "  <thead>\n",
       "    <tr style=\"text-align: right;\">\n",
       "      <th></th>\n",
       "      <th>Count</th>\n",
       "      <th>Percentage</th>\n",
       "      <th>Datatype</th>\n",
       "    </tr>\n",
       "  </thead>\n",
       "  <tbody>\n",
       "    <tr>\n",
       "      <th>Job Title</th>\n",
       "      <td>0</td>\n",
       "      <td>0.00</td>\n",
       "      <td>object</td>\n",
       "    </tr>\n",
       "    <tr>\n",
       "      <th>Salary Estimate</th>\n",
       "      <td>1</td>\n",
       "      <td>0.04</td>\n",
       "      <td>object</td>\n",
       "    </tr>\n",
       "    <tr>\n",
       "      <th>Job Description</th>\n",
       "      <td>0</td>\n",
       "      <td>0.00</td>\n",
       "      <td>object</td>\n",
       "    </tr>\n",
       "    <tr>\n",
       "      <th>Rating</th>\n",
       "      <td>272</td>\n",
       "      <td>12.07</td>\n",
       "      <td>float64</td>\n",
       "    </tr>\n",
       "    <tr>\n",
       "      <th>Company Name</th>\n",
       "      <td>1</td>\n",
       "      <td>0.04</td>\n",
       "      <td>object</td>\n",
       "    </tr>\n",
       "    <tr>\n",
       "      <th>Location</th>\n",
       "      <td>0</td>\n",
       "      <td>0.00</td>\n",
       "      <td>object</td>\n",
       "    </tr>\n",
       "    <tr>\n",
       "      <th>Headquarters</th>\n",
       "      <td>172</td>\n",
       "      <td>7.63</td>\n",
       "      <td>object</td>\n",
       "    </tr>\n",
       "    <tr>\n",
       "      <th>Size</th>\n",
       "      <td>205</td>\n",
       "      <td>9.10</td>\n",
       "      <td>object</td>\n",
       "    </tr>\n",
       "    <tr>\n",
       "      <th>Founded</th>\n",
       "      <td>660</td>\n",
       "      <td>29.29</td>\n",
       "      <td>float64</td>\n",
       "    </tr>\n",
       "    <tr>\n",
       "      <th>Type of ownership</th>\n",
       "      <td>179</td>\n",
       "      <td>7.94</td>\n",
       "      <td>object</td>\n",
       "    </tr>\n",
       "    <tr>\n",
       "      <th>Industry</th>\n",
       "      <td>353</td>\n",
       "      <td>15.67</td>\n",
       "      <td>object</td>\n",
       "    </tr>\n",
       "    <tr>\n",
       "      <th>Sector</th>\n",
       "      <td>353</td>\n",
       "      <td>15.67</td>\n",
       "      <td>object</td>\n",
       "    </tr>\n",
       "    <tr>\n",
       "      <th>Revenue</th>\n",
       "      <td>778</td>\n",
       "      <td>34.53</td>\n",
       "      <td>object</td>\n",
       "    </tr>\n",
       "    <tr>\n",
       "      <th>Competitors</th>\n",
       "      <td>1732</td>\n",
       "      <td>76.88</td>\n",
       "      <td>object</td>\n",
       "    </tr>\n",
       "    <tr>\n",
       "      <th>Easy Apply</th>\n",
       "      <td>2173</td>\n",
       "      <td>96.45</td>\n",
       "      <td>object</td>\n",
       "    </tr>\n",
       "  </tbody>\n",
       "</table>\n",
       "</div>"
      ],
      "text/plain": [
       "                   Count  Percentage Datatype\n",
       "Job Title              0        0.00   object\n",
       "Salary Estimate        1        0.04   object\n",
       "Job Description        0        0.00   object\n",
       "Rating               272       12.07  float64\n",
       "Company Name           1        0.04   object\n",
       "Location               0        0.00   object\n",
       "Headquarters         172        7.63   object\n",
       "Size                 205        9.10   object\n",
       "Founded              660       29.29  float64\n",
       "Type of ownership    179        7.94   object\n",
       "Industry             353       15.67   object\n",
       "Sector               353       15.67   object\n",
       "Revenue              778       34.53   object\n",
       "Competitors         1732       76.88   object\n",
       "Easy Apply          2173       96.45   object"
      ]
     },
     "execution_count": 16,
     "metadata": {},
     "output_type": "execute_result"
    }
   ],
   "source": [
    "missing_values_table = pd.concat([missing_values_cnt, percent_nan, data_types], axis=1)\n",
    "missing_values_table = missing_values_table.rename(columns = {0: 'Count', 1: 'Percentage', 2: 'Datatype'})\n",
    "missing_values_table"
   ]
  },
  {
   "cell_type": "markdown",
   "metadata": {},
   "source": [
    "### Missing values in \"Salary Estimate\""
   ]
  },
  {
   "cell_type": "code",
   "execution_count": 17,
   "metadata": {},
   "outputs": [
    {
     "data": {
      "text/html": [
       "<div>\n",
       "<style scoped>\n",
       "    .dataframe tbody tr th:only-of-type {\n",
       "        vertical-align: middle;\n",
       "    }\n",
       "\n",
       "    .dataframe tbody tr th {\n",
       "        vertical-align: top;\n",
       "    }\n",
       "\n",
       "    .dataframe thead th {\n",
       "        text-align: right;\n",
       "    }\n",
       "</style>\n",
       "<table border=\"1\" class=\"dataframe\">\n",
       "  <thead>\n",
       "    <tr style=\"text-align: right;\">\n",
       "      <th></th>\n",
       "      <th>Job Title</th>\n",
       "      <th>Salary Estimate</th>\n",
       "      <th>Job Description</th>\n",
       "      <th>Rating</th>\n",
       "      <th>Company Name</th>\n",
       "      <th>Location</th>\n",
       "      <th>Headquarters</th>\n",
       "      <th>Size</th>\n",
       "      <th>Founded</th>\n",
       "      <th>Type of ownership</th>\n",
       "      <th>Industry</th>\n",
       "      <th>Sector</th>\n",
       "      <th>Revenue</th>\n",
       "      <th>Competitors</th>\n",
       "      <th>Easy Apply</th>\n",
       "    </tr>\n",
       "  </thead>\n",
       "  <tbody>\n",
       "    <tr>\n",
       "      <th>2149</th>\n",
       "      <td>Configuration/Data Management Analyst III</td>\n",
       "      <td>NaN</td>\n",
       "      <td>Job Description\\nPosition Title: Configuration...</td>\n",
       "      <td>4.4</td>\n",
       "      <td>Protingent\\n4.4</td>\n",
       "      <td>Kent, WA</td>\n",
       "      <td>Bellevue, WA</td>\n",
       "      <td>51 to 200 employees</td>\n",
       "      <td>2001.0</td>\n",
       "      <td>Company - Private</td>\n",
       "      <td>Staffing &amp; Outsourcing</td>\n",
       "      <td>Business Services</td>\n",
       "      <td>$25 to $50 million (USD)</td>\n",
       "      <td>NaN</td>\n",
       "      <td>NaN</td>\n",
       "    </tr>\n",
       "  </tbody>\n",
       "</table>\n",
       "</div>"
      ],
      "text/plain": [
       "                                      Job Title Salary Estimate  \\\n",
       "2149  Configuration/Data Management Analyst III             NaN   \n",
       "\n",
       "                                        Job Description  Rating  \\\n",
       "2149  Job Description\\nPosition Title: Configuration...     4.4   \n",
       "\n",
       "         Company Name  Location  Headquarters                 Size  Founded  \\\n",
       "2149  Protingent\\n4.4  Kent, WA  Bellevue, WA  51 to 200 employees   2001.0   \n",
       "\n",
       "      Type of ownership                Industry             Sector  \\\n",
       "2149  Company - Private  Staffing & Outsourcing  Business Services   \n",
       "\n",
       "                       Revenue Competitors Easy Apply  \n",
       "2149  $25 to $50 million (USD)         NaN        NaN  "
      ]
     },
     "execution_count": 17,
     "metadata": {},
     "output_type": "execute_result"
    }
   ],
   "source": [
    "data.loc[data['Salary Estimate'].isnull() == True]"
   ]
  },
  {
   "cell_type": "markdown",
   "metadata": {},
   "source": [
    "Deleting the row with a missing value in the 'Salary Estimate' column will make us lose a lot of information \n",
    "from the other features, thus we will skip dropping this row."
   ]
  },
  {
   "cell_type": "markdown",
   "metadata": {},
   "source": [
    "### Missing Values in \"Company Name\""
   ]
  },
  {
   "cell_type": "code",
   "execution_count": 18,
   "metadata": {},
   "outputs": [
    {
     "data": {
      "text/html": [
       "<div>\n",
       "<style scoped>\n",
       "    .dataframe tbody tr th:only-of-type {\n",
       "        vertical-align: middle;\n",
       "    }\n",
       "\n",
       "    .dataframe tbody tr th {\n",
       "        vertical-align: top;\n",
       "    }\n",
       "\n",
       "    .dataframe thead th {\n",
       "        text-align: right;\n",
       "    }\n",
       "</style>\n",
       "<table border=\"1\" class=\"dataframe\">\n",
       "  <thead>\n",
       "    <tr style=\"text-align: right;\">\n",
       "      <th></th>\n",
       "      <th>Job Title</th>\n",
       "      <th>Salary Estimate</th>\n",
       "      <th>Job Description</th>\n",
       "      <th>Rating</th>\n",
       "      <th>Company Name</th>\n",
       "      <th>Location</th>\n",
       "      <th>Headquarters</th>\n",
       "      <th>Size</th>\n",
       "      <th>Founded</th>\n",
       "      <th>Type of ownership</th>\n",
       "      <th>Industry</th>\n",
       "      <th>Sector</th>\n",
       "      <th>Revenue</th>\n",
       "      <th>Competitors</th>\n",
       "      <th>Easy Apply</th>\n",
       "    </tr>\n",
       "  </thead>\n",
       "  <tbody>\n",
       "    <tr>\n",
       "      <th>1860</th>\n",
       "      <td>Data Analyst</td>\n",
       "      <td>$53K-$99K (Glassdoor est.)</td>\n",
       "      <td>Kindred at Home, part of the Kindred at Home f...</td>\n",
       "      <td>NaN</td>\n",
       "      <td>NaN</td>\n",
       "      <td>Mooresville, NC</td>\n",
       "      <td>NaN</td>\n",
       "      <td>NaN</td>\n",
       "      <td>NaN</td>\n",
       "      <td>NaN</td>\n",
       "      <td>NaN</td>\n",
       "      <td>NaN</td>\n",
       "      <td>NaN</td>\n",
       "      <td>NaN</td>\n",
       "      <td>NaN</td>\n",
       "    </tr>\n",
       "  </tbody>\n",
       "</table>\n",
       "</div>"
      ],
      "text/plain": [
       "         Job Title             Salary Estimate  \\\n",
       "1860  Data Analyst  $53K-$99K (Glassdoor est.)   \n",
       "\n",
       "                                        Job Description  Rating Company Name  \\\n",
       "1860  Kindred at Home, part of the Kindred at Home f...     NaN          NaN   \n",
       "\n",
       "             Location Headquarters Size  Founded Type of ownership Industry  \\\n",
       "1860  Mooresville, NC          NaN  NaN      NaN               NaN      NaN   \n",
       "\n",
       "     Sector Revenue Competitors Easy Apply  \n",
       "1860    NaN     NaN         NaN        NaN  "
      ]
     },
     "execution_count": 18,
     "metadata": {},
     "output_type": "execute_result"
    }
   ],
   "source": [
    "data.loc[data['Company Name'].isnull() == True]"
   ]
  },
  {
   "cell_type": "code",
   "execution_count": 19,
   "metadata": {},
   "outputs": [],
   "source": [
    "# dropping the above row as almost all the feature values are missing\n",
    "data.drop(data.index[1860], inplace=True)"
   ]
  },
  {
   "cell_type": "markdown",
   "metadata": {},
   "source": [
    "### Missing values in \"Rating\""
   ]
  },
  {
   "cell_type": "code",
   "execution_count": 20,
   "metadata": {},
   "outputs": [
    {
     "data": {
      "text/plain": [
       "count    1981.000000\n",
       "mean        3.731903\n",
       "std         0.670332\n",
       "min         1.000000\n",
       "25%         3.300000\n",
       "50%         3.700000\n",
       "75%         4.100000\n",
       "max         5.000000\n",
       "Name: Rating, dtype: float64"
      ]
     },
     "execution_count": 20,
     "metadata": {},
     "output_type": "execute_result"
    }
   ],
   "source": [
    "data['Rating'].describe()"
   ]
  },
  {
   "cell_type": "code",
   "execution_count": 21,
   "metadata": {},
   "outputs": [],
   "source": [
    "# filling the null values of the rating coulmn with the mean\n",
    "data['Rating'].fillna(data['Rating'].mean(), inplace=True)"
   ]
  },
  {
   "cell_type": "markdown",
   "metadata": {},
   "source": [
    "### Missing values in \"Headquarters\""
   ]
  },
  {
   "cell_type": "code",
   "execution_count": 22,
   "metadata": {},
   "outputs": [],
   "source": [
    "# filling the null values of the headquarters coulmn with the mode\n",
    "data['Headquarters'].fillna(data['Headquarters'].mode()[0], inplace=True)"
   ]
  },
  {
   "cell_type": "code",
   "execution_count": 23,
   "metadata": {},
   "outputs": [
    {
     "data": {
      "text/plain": [
       "count             2252\n",
       "unique             482\n",
       "top       New York, NY\n",
       "freq               377\n",
       "Name: Headquarters, dtype: object"
      ]
     },
     "execution_count": 23,
     "metadata": {},
     "output_type": "execute_result"
    }
   ],
   "source": [
    "data['Headquarters'].describe()"
   ]
  },
  {
   "cell_type": "code",
   "execution_count": null,
   "metadata": {},
   "outputs": [],
   "source": [
    "### Dropping the columns not important to us and with with missing values more than 30%"
   ]
  },
  {
   "cell_type": "code",
   "execution_count": 22,
   "metadata": {},
   "outputs": [],
   "source": [
    "# Dropping the columns with missing values more than 30%\n",
    "#data.drop(['Competitors', 'Job Description','Company Name'], axis=1, inplace=True)"
   ]
  },
  {
   "cell_type": "markdown",
   "metadata": {},
   "source": [
    "## Feature Extraction\n",
    "### Creating a new column \"State\" from the Location feature"
   ]
  },
  {
   "cell_type": "code",
   "execution_count": 24,
   "metadata": {},
   "outputs": [
    {
     "data": {
      "text/plain": [
       "New York, NY          310\n",
       "Chicago, IL           130\n",
       "San Francisco, CA     119\n",
       "Austin, TX             81\n",
       "Los Angeles, CA        80\n",
       "                     ... \n",
       "Carrollton, TX          1\n",
       "Jeffersonville, IN      1\n",
       "Riverton, UT            1\n",
       "Des Plaines, IL         1\n",
       "Paoli, PA               1\n",
       "Name: Location, Length: 253, dtype: int64"
      ]
     },
     "execution_count": 24,
     "metadata": {},
     "output_type": "execute_result"
    }
   ],
   "source": [
    "data['Location'].value_counts()"
   ]
  },
  {
   "cell_type": "code",
   "execution_count": 25,
   "metadata": {},
   "outputs": [
    {
     "name": "stderr",
     "output_type": "stream",
     "text": [
      "<ipython-input-25-abe2339b2583>:2: FutureWarning: Columnar iteration over characters will be deprecated in future releases.\n",
      "  city, data['state'] = data['Location'].str.split(',', 1).str\n"
     ]
    }
   ],
   "source": [
    "# Creating a new column, 'state' from the location feature\n",
    "city, data['state'] = data['Location'].str.split(',', 1).str"
   ]
  },
  {
   "cell_type": "code",
   "execution_count": 26,
   "metadata": {},
   "outputs": [
    {
     "data": {
      "text/plain": [
       " CA              626\n",
       " TX              394\n",
       " NY              345\n",
       " IL              164\n",
       " PA              114\n",
       " AZ               97\n",
       " NC               89\n",
       " CO               88\n",
       " NJ               86\n",
       " WA               54\n",
       " VA               48\n",
       " OH               35\n",
       " UT               33\n",
       " FL               27\n",
       " IN               23\n",
       " DE               11\n",
       " Arapahoe, CO      8\n",
       " GA                4\n",
       " SC                3\n",
       " KS                3\n",
       "Name: state, dtype: int64"
      ]
     },
     "execution_count": 26,
     "metadata": {},
     "output_type": "execute_result"
    }
   ],
   "source": [
    "data['state'].value_counts()"
   ]
  },
  {
   "cell_type": "code",
   "execution_count": 27,
   "metadata": {},
   "outputs": [],
   "source": [
    "# replacing 'Arapahoe, CO' with 'CO'\n",
    "state = []\n",
    "for i in data['state']:\n",
    "    if i == ' Arapahoe, CO':\n",
    "        new_i = i.replace(' Arapahoe, CO', ' CO')\n",
    "    else:\n",
    "        new_i = i\n",
    "    state.append(new_i)\n",
    "# \n",
    "## adding the state column to the dataset\n",
    "data['state'] = state"
   ]
  },
  {
   "cell_type": "code",
   "execution_count": 28,
   "metadata": {},
   "outputs": [
    {
     "data": {
      "text/plain": [
       " CA    626\n",
       " TX    394\n",
       " NY    345\n",
       " IL    164\n",
       " PA    114\n",
       " AZ     97\n",
       " CO     96\n",
       " NC     89\n",
       " NJ     86\n",
       " WA     54\n",
       " VA     48\n",
       " OH     35\n",
       " UT     33\n",
       " FL     27\n",
       " IN     23\n",
       " DE     11\n",
       " GA      4\n",
       " SC      3\n",
       " KS      3\n",
       "Name: state, dtype: int64"
      ]
     },
     "execution_count": 28,
     "metadata": {},
     "output_type": "execute_result"
    }
   ],
   "source": [
    "data['state'].value_counts()"
   ]
  },
  {
   "cell_type": "markdown",
   "metadata": {},
   "source": [
    "### Extracting the job title and the department from \"Job Title\" feature"
   ]
  },
  {
   "cell_type": "code",
   "execution_count": 29,
   "metadata": {},
   "outputs": [
    {
     "name": "stderr",
     "output_type": "stream",
     "text": [
      "<ipython-input-29-36dc0a05d8e2>:1: FutureWarning: Columnar iteration over characters will be deprecated in future releases.\n",
      "  data['job_title'], data['dept'] = data['Job Title'].str.split(',', 1).str\n"
     ]
    }
   ],
   "source": [
    "data['job_title'], data['dept'] = data['Job Title'].str.split(',', 1).str"
   ]
  },
  {
   "cell_type": "code",
   "execution_count": 30,
   "metadata": {},
   "outputs": [
    {
     "data": {
      "text/plain": [
       "2022"
      ]
     },
     "execution_count": 30,
     "metadata": {},
     "output_type": "execute_result"
    }
   ],
   "source": [
    "# missing values in the department column\n",
    "data['dept'].isnull().sum()"
   ]
  },
  {
   "cell_type": "code",
   "execution_count": 31,
   "metadata": {},
   "outputs": [
    {
     "name": "stderr",
     "output_type": "stream",
     "text": [
      "<ipython-input-31-87f1613ec9c6>:2: FutureWarning: Columnar iteration over characters will be deprecated in future releases.\n",
      "  data['company_name'], rat = data['Company Name'].str.split('\\n', 1).str\n"
     ]
    }
   ],
   "source": [
    "# removing the rating from the \"Company Name\" feature\n",
    "data['company_name'], rat = data['Company Name'].str.split('\\n', 1).str"
   ]
  },
  {
   "cell_type": "code",
   "execution_count": 27,
   "metadata": {},
   "outputs": [],
   "source": [
    "#data.drop(['Job Title','Salary Estimate','Company Name'], axis=1, inplace=True)"
   ]
  },
  {
   "cell_type": "markdown",
   "metadata": {},
   "source": [
    "### Salary Estimate\n",
    "Etracting the features \"min salary\", \"max salary\", and \"average salary\" from the \"Salary Estimate\""
   ]
  },
  {
   "cell_type": "code",
   "execution_count": 32,
   "metadata": {
    "scrolled": true
   },
   "outputs": [
    {
     "data": {
      "text/plain": [
       "['$41K-$78K (Glassdoor est.)',\n",
       " '$42K-$76K (Glassdoor est.)',\n",
       " '$50K-$86K (Glassdoor est.)',\n",
       " '$35K-$67K (Glassdoor est.)',\n",
       " '$43K-$76K (Glassdoor est.)',\n",
       " '$60K-$124K (Glassdoor est.)',\n",
       " '$58K-$93K (Glassdoor est.)',\n",
       " '$97K-$129K (Glassdoor est.)',\n",
       " '$51K-$87K (Glassdoor est.)',\n",
       " '$60K-$66K (Glassdoor est.)',\n",
       " '$30K-$53K (Glassdoor est.)',\n",
       " '$60K-$110K (Glassdoor est.)',\n",
       " '$37K-$68K (Glassdoor est.)',\n",
       " '$37K-$66K (Glassdoor est.)',\n",
       " '$59K-$85K (Glassdoor est.)',\n",
       " '$69K-$127K (Glassdoor est.)',\n",
       " '$46K-$87K (Glassdoor est.)',\n",
       " '$35K-$42K (Glassdoor est.)',\n",
       " '$64K-$113K (Glassdoor est.)',\n",
       " '$42K-$66K (Glassdoor est.)',\n",
       " '$98K-$114K (Glassdoor est.)',\n",
       " '$46K-$86K (Glassdoor est.)',\n",
       " '$43K-$69K (Glassdoor est.)',\n",
       " '$27K-$52K (Glassdoor est.)',\n",
       " '$51K-$88K (Glassdoor est.)',\n",
       " '$37K-$70K (Glassdoor est.)',\n",
       " '$55K-$103K (Glassdoor est.)',\n",
       " '$67K-$92K (Glassdoor est.)',\n",
       " '$113K-$132K (Glassdoor est.)',\n",
       " '$24K-$48K (Glassdoor est.)',\n",
       " '$43K-$94K (Glassdoor est.)',\n",
       " '$26K-$47K (Glassdoor est.)',\n",
       " '$38K-$68K (Glassdoor est.)',\n",
       " '$53K-$94K (Glassdoor est.)',\n",
       " '$37K-$44K (Glassdoor est.)',\n",
       " '$57K-$103K (Glassdoor est.)',\n",
       " '$110K-$190K (Glassdoor est.)',\n",
       " '$41K-$86K (Glassdoor est.)',\n",
       " '$73K-$82K (Glassdoor est.)',\n",
       " '$29K-$38K (Glassdoor est.)',\n",
       " '$65K-$81K (Glassdoor est.)',\n",
       " '$51K-$93K (Glassdoor est.)',\n",
       " '$77K-$132K (Glassdoor est.)',\n",
       " '$47K-$76K (Glassdoor est.)',\n",
       " '$46K-$102K (Glassdoor est.)',\n",
       " '$89K-$151K (Glassdoor est.)',\n",
       " '$76K-$122K (Glassdoor est.)',\n",
       " '$44K-$82K (Glassdoor est.)',\n",
       " '$74K-$123K (Glassdoor est.)',\n",
       " '$28K-$52K (Glassdoor est.)',\n",
       " '$49K-$91K (Glassdoor est.)',\n",
       " '$34K-$61K (Glassdoor est.)',\n",
       " '$35K-$45K (Glassdoor est.)',\n",
       " '$99K-$178K (Glassdoor est.)',\n",
       " '$54K-$75K (Glassdoor est.)',\n",
       " '$65K-$120K (Glassdoor est.)',\n",
       " '$82K-$116K (Glassdoor est.)',\n",
       " '$57K-$100K (Glassdoor est.)',\n",
       " '$55K-$101K (Glassdoor est.)',\n",
       " '$57K-$104K (Glassdoor est.)',\n",
       " '$48K-$88K (Glassdoor est.)',\n",
       " '$42K-$74K (Glassdoor est.)',\n",
       " '$47K-$74K (Glassdoor est.)',\n",
       " '$57K-$67K (Glassdoor est.)',\n",
       " '$53K-$104K (Glassdoor est.)',\n",
       " '$53K-$99K (Glassdoor est.)',\n",
       " '$93K-$159K (Glassdoor est.)',\n",
       " '$48K-$96K (Glassdoor est.)',\n",
       " '$63K-$116K (Glassdoor est.)',\n",
       " '$40K-$72K (Glassdoor est.)',\n",
       " '$50K-$93K (Glassdoor est.)',\n",
       " '$49K-$112K (Glassdoor est.)',\n",
       " '$84K-$90K (Glassdoor est.)',\n",
       " '$73K-$89K (Glassdoor est.)',\n",
       " '$68K-$87K (Glassdoor est.)',\n",
       " '$78K-$104K (Glassdoor est.)',\n",
       " '$73K-$127K (Glassdoor est.)',\n",
       " '$44K-$78K (Glassdoor est.)',\n",
       " '$45K-$78K (Glassdoor est.)',\n",
       " '$45K-$88K (Glassdoor est.)',\n",
       " '$40K-$74K (Glassdoor est.)',\n",
       " '$30K-$54K (Glassdoor est.)',\n",
       " '$42K-$63K (Glassdoor est.)',\n",
       " '$32K-$56K (Glassdoor est.)',\n",
       " '$31K-$59K (Glassdoor est.)',\n",
       " '$43K-$77K (Glassdoor est.)',\n",
       " '$36K-$67K (Glassdoor est.)',\n",
       " '$47K-$81K (Glassdoor est.)',\n",
       " '$57K-$70K (Glassdoor est.)']"
      ]
     },
     "execution_count": 32,
     "metadata": {},
     "output_type": "execute_result"
    }
   ],
   "source": [
    "data['Salary Estimate'].value_counts().index.tolist()"
   ]
  },
  {
   "cell_type": "code",
   "execution_count": 33,
   "metadata": {},
   "outputs": [
    {
     "name": "stderr",
     "output_type": "stream",
     "text": [
      "<ipython-input-33-2798da560748>:1: FutureWarning: Columnar iteration over characters will be deprecated in future releases.\n",
      "  data['salary_estimate'], portal = data['Salary Estimate'].str.split('(', 1).str\n"
     ]
    }
   ],
   "source": [
    "data['salary_estimate'], portal = data['Salary Estimate'].str.split('(', 1).str"
   ]
  },
  {
   "cell_type": "code",
   "execution_count": 34,
   "metadata": {},
   "outputs": [
    {
     "name": "stderr",
     "output_type": "stream",
     "text": [
      "<ipython-input-34-ea8b35d44b69>:2: FutureWarning: Columnar iteration over characters will be deprecated in future releases.\n",
      "  data['min_salary'], data['max_salary'] = data['salary_estimate'].str.split('-', 1).str\n"
     ]
    }
   ],
   "source": [
    "# minimun salary and maximum salary\n",
    "data['min_salary'], data['max_salary'] = data['salary_estimate'].str.split('-', 1).str"
   ]
  },
  {
   "cell_type": "code",
   "execution_count": 35,
   "metadata": {},
   "outputs": [
    {
     "name": "stdout",
     "output_type": "stream",
     "text": [
      "2252 2252\n"
     ]
    }
   ],
   "source": [
    "print(len(data['min_salary']), len(data['max_salary']))"
   ]
  },
  {
   "cell_type": "code",
   "execution_count": 36,
   "metadata": {},
   "outputs": [
    {
     "data": {
      "text/plain": [
       "array(['$37K', '$46K', '$51K', '$59K', '$43K', '$60K', '$41K', '$45K',\n",
       "       '$73K', '$84K', '$27K', '$42K', '$77K', '$98K', '$48K', '$26K',\n",
       "       '$31K', '$47K', '$49K', '$30K', '$55K', '$57K', '$35K', '$65K',\n",
       "       '$113K', '$67K', '$97K', '$68K', '$29K', '$74K', '$53K', '$38K',\n",
       "       '$64K', '$50K', '$76K', '$34K', '$24K', '$44K', '$110K', '$89K',\n",
       "       '$69K', '$58K', '$63K', '$40K', '$28K', '$54K', '$99K', '$93K',\n",
       "       '$82K', nan, '$32K', '$36K', '$78K'], dtype=object)"
      ]
     },
     "execution_count": 36,
     "metadata": {},
     "output_type": "execute_result"
    }
   ],
   "source": [
    "data['min_salary'].unique()"
   ]
  },
  {
   "cell_type": "code",
   "execution_count": 37,
   "metadata": {},
   "outputs": [],
   "source": [
    "#cleaning the min_salary column for computation\n",
    "salary = []\n",
    "for i in data['min_salary']:\n",
    "    msal = str(i).replace(\"$\", \"\")\n",
    "    salary.append(msal)\n",
    "    \n",
    "min_salary = []\n",
    "for i in salary:\n",
    "    msal = str(i).replace(\"K\", \"\")\n",
    "    min_salary.append(msal)\n",
    "    \n",
    "#changing the datatype to float\n",
    "data['min_salary'] = min_salary\n",
    "data['min_salary'] = data['min_salary'].astype(float)"
   ]
  },
  {
   "cell_type": "code",
   "execution_count": 38,
   "metadata": {},
   "outputs": [],
   "source": [
    "#cleaning the max_salary column for computation\n",
    "salary = []\n",
    "for i in data['max_salary']:\n",
    "    msal = str(i).replace(\"$\", \"\")\n",
    "    salary.append(msal)\n",
    "    \n",
    "max_salary = []\n",
    "for i in salary:\n",
    "    msal = str(i).replace(\"K\", \"\")\n",
    "    max_salary.append(msal)\n",
    "    \n",
    "#changing the datatype to float\n",
    "data['max_salary'] = max_salary\n",
    "data['max_salary'] = data['max_salary'].astype(float)"
   ]
  },
  {
   "cell_type": "code",
   "execution_count": 39,
   "metadata": {},
   "outputs": [],
   "source": [
    "# Average Salary\n",
    "avg = (data['min_salary']+data['max_salary'])/2\n",
    "data['avg_sal'] = avg"
   ]
  },
  {
   "cell_type": "code",
   "execution_count": 40,
   "metadata": {},
   "outputs": [],
   "source": [
    "# dropping the columns not important to us\n",
    "data.drop(['Job Title','Salary Estimate','Job Description','Company Name','Competitors','dept','company_name','job_title'], axis=1, inplace=True)"
   ]
  },
  {
   "cell_type": "code",
   "execution_count": 41,
   "metadata": {},
   "outputs": [
    {
     "data": {
      "text/html": [
       "<div>\n",
       "<style scoped>\n",
       "    .dataframe tbody tr th:only-of-type {\n",
       "        vertical-align: middle;\n",
       "    }\n",
       "\n",
       "    .dataframe tbody tr th {\n",
       "        vertical-align: top;\n",
       "    }\n",
       "\n",
       "    .dataframe thead th {\n",
       "        text-align: right;\n",
       "    }\n",
       "</style>\n",
       "<table border=\"1\" class=\"dataframe\">\n",
       "  <thead>\n",
       "    <tr style=\"text-align: right;\">\n",
       "      <th></th>\n",
       "      <th>Rating</th>\n",
       "      <th>Location</th>\n",
       "      <th>Headquarters</th>\n",
       "      <th>Size</th>\n",
       "      <th>Founded</th>\n",
       "      <th>Type of ownership</th>\n",
       "      <th>Industry</th>\n",
       "      <th>Sector</th>\n",
       "      <th>Revenue</th>\n",
       "      <th>Easy Apply</th>\n",
       "      <th>state</th>\n",
       "      <th>salary_estimate</th>\n",
       "      <th>min_salary</th>\n",
       "      <th>max_salary</th>\n",
       "      <th>avg_sal</th>\n",
       "    </tr>\n",
       "  </thead>\n",
       "  <tbody>\n",
       "    <tr>\n",
       "      <th>0</th>\n",
       "      <td>3.2</td>\n",
       "      <td>New York, NY</td>\n",
       "      <td>New York, NY</td>\n",
       "      <td>201 to 500 employees</td>\n",
       "      <td>1961.0</td>\n",
       "      <td>Nonprofit Organization</td>\n",
       "      <td>Social Assistance</td>\n",
       "      <td>Non-Profit</td>\n",
       "      <td>$100 to $500 million (USD)</td>\n",
       "      <td>True</td>\n",
       "      <td>NY</td>\n",
       "      <td>$37K-$66K</td>\n",
       "      <td>37.0</td>\n",
       "      <td>66.0</td>\n",
       "      <td>51.5</td>\n",
       "    </tr>\n",
       "    <tr>\n",
       "      <th>1</th>\n",
       "      <td>3.8</td>\n",
       "      <td>New York, NY</td>\n",
       "      <td>New York, NY</td>\n",
       "      <td>10000+ employees</td>\n",
       "      <td>1893.0</td>\n",
       "      <td>Nonprofit Organization</td>\n",
       "      <td>Health Care Services &amp; Hospitals</td>\n",
       "      <td>Health Care</td>\n",
       "      <td>$2 to $5 billion (USD)</td>\n",
       "      <td>NaN</td>\n",
       "      <td>NY</td>\n",
       "      <td>$37K-$66K</td>\n",
       "      <td>37.0</td>\n",
       "      <td>66.0</td>\n",
       "      <td>51.5</td>\n",
       "    </tr>\n",
       "    <tr>\n",
       "      <th>2</th>\n",
       "      <td>3.4</td>\n",
       "      <td>New York, NY</td>\n",
       "      <td>New York, NY</td>\n",
       "      <td>1001 to 5000 employees</td>\n",
       "      <td>2003.0</td>\n",
       "      <td>Company - Private</td>\n",
       "      <td>Internet</td>\n",
       "      <td>Information Technology</td>\n",
       "      <td>NaN</td>\n",
       "      <td>NaN</td>\n",
       "      <td>NY</td>\n",
       "      <td>$37K-$66K</td>\n",
       "      <td>37.0</td>\n",
       "      <td>66.0</td>\n",
       "      <td>51.5</td>\n",
       "    </tr>\n",
       "    <tr>\n",
       "      <th>3</th>\n",
       "      <td>4.1</td>\n",
       "      <td>New York, NY</td>\n",
       "      <td>McLean, VA</td>\n",
       "      <td>201 to 500 employees</td>\n",
       "      <td>2002.0</td>\n",
       "      <td>Subsidiary or Business Segment</td>\n",
       "      <td>IT Services</td>\n",
       "      <td>Information Technology</td>\n",
       "      <td>$50 to $100 million (USD)</td>\n",
       "      <td>NaN</td>\n",
       "      <td>NY</td>\n",
       "      <td>$37K-$66K</td>\n",
       "      <td>37.0</td>\n",
       "      <td>66.0</td>\n",
       "      <td>51.5</td>\n",
       "    </tr>\n",
       "    <tr>\n",
       "      <th>4</th>\n",
       "      <td>3.9</td>\n",
       "      <td>New York, NY</td>\n",
       "      <td>New York, NY</td>\n",
       "      <td>501 to 1000 employees</td>\n",
       "      <td>2009.0</td>\n",
       "      <td>Company - Private</td>\n",
       "      <td>Sports &amp; Recreation</td>\n",
       "      <td>Arts, Entertainment &amp; Recreation</td>\n",
       "      <td>$100 to $500 million (USD)</td>\n",
       "      <td>True</td>\n",
       "      <td>NY</td>\n",
       "      <td>$37K-$66K</td>\n",
       "      <td>37.0</td>\n",
       "      <td>66.0</td>\n",
       "      <td>51.5</td>\n",
       "    </tr>\n",
       "  </tbody>\n",
       "</table>\n",
       "</div>"
      ],
      "text/plain": [
       "   Rating      Location  Headquarters                    Size  Founded  \\\n",
       "0     3.2  New York, NY  New York, NY    201 to 500 employees   1961.0   \n",
       "1     3.8  New York, NY  New York, NY        10000+ employees   1893.0   \n",
       "2     3.4  New York, NY  New York, NY  1001 to 5000 employees   2003.0   \n",
       "3     4.1  New York, NY    McLean, VA    201 to 500 employees   2002.0   \n",
       "4     3.9  New York, NY  New York, NY   501 to 1000 employees   2009.0   \n",
       "\n",
       "                Type of ownership                          Industry  \\\n",
       "0          Nonprofit Organization                 Social Assistance   \n",
       "1          Nonprofit Organization  Health Care Services & Hospitals   \n",
       "2               Company - Private                          Internet   \n",
       "3  Subsidiary or Business Segment                       IT Services   \n",
       "4               Company - Private               Sports & Recreation   \n",
       "\n",
       "                             Sector                     Revenue Easy Apply  \\\n",
       "0                        Non-Profit  $100 to $500 million (USD)       True   \n",
       "1                       Health Care      $2 to $5 billion (USD)        NaN   \n",
       "2            Information Technology                         NaN        NaN   \n",
       "3            Information Technology   $50 to $100 million (USD)        NaN   \n",
       "4  Arts, Entertainment & Recreation  $100 to $500 million (USD)       True   \n",
       "\n",
       "  state salary_estimate  min_salary  max_salary  avg_sal  \n",
       "0    NY      $37K-$66K         37.0        66.0     51.5  \n",
       "1    NY      $37K-$66K         37.0        66.0     51.5  \n",
       "2    NY      $37K-$66K         37.0        66.0     51.5  \n",
       "3    NY      $37K-$66K         37.0        66.0     51.5  \n",
       "4    NY      $37K-$66K         37.0        66.0     51.5  "
      ]
     },
     "execution_count": 41,
     "metadata": {},
     "output_type": "execute_result"
    }
   ],
   "source": [
    "data.head()"
   ]
  },
  {
   "cell_type": "markdown",
   "metadata": {},
   "source": [
    "### Missing values in \"Easy Apply\"\n",
    "we'll fill the nan values as 'False' indicating that the company hiring currently"
   ]
  },
  {
   "cell_type": "code",
   "execution_count": 42,
   "metadata": {},
   "outputs": [],
   "source": [
    "data['Easy Apply']=data['Easy Apply'].fillna('False')"
   ]
  },
  {
   "cell_type": "markdown",
   "metadata": {},
   "source": [
    "### Using K-nearest neighbor algorithm to fill the missing values"
   ]
  },
  {
   "cell_type": "markdown",
   "metadata": {},
   "source": [
    "As kNN works only on numeric variables, we'll convert our categorical variables by creating dummy variables"
   ]
  },
  {
   "cell_type": "code",
   "execution_count": 45,
   "metadata": {},
   "outputs": [],
   "source": [
    "df = data.drop(['Job Description','Location','Headquarters','job_title','company_name'], axis=1)"
   ]
  },
  {
   "cell_type": "code",
   "execution_count": 46,
   "metadata": {},
   "outputs": [
    {
     "data": {
      "text/html": [
       "<div>\n",
       "<style scoped>\n",
       "    .dataframe tbody tr th:only-of-type {\n",
       "        vertical-align: middle;\n",
       "    }\n",
       "\n",
       "    .dataframe tbody tr th {\n",
       "        vertical-align: top;\n",
       "    }\n",
       "\n",
       "    .dataframe thead th {\n",
       "        text-align: right;\n",
       "    }\n",
       "</style>\n",
       "<table border=\"1\" class=\"dataframe\">\n",
       "  <thead>\n",
       "    <tr style=\"text-align: right;\">\n",
       "      <th></th>\n",
       "      <th>Rating</th>\n",
       "      <th>Size</th>\n",
       "      <th>Founded</th>\n",
       "      <th>Type of ownership</th>\n",
       "      <th>Industry</th>\n",
       "      <th>Sector</th>\n",
       "      <th>Revenue</th>\n",
       "      <th>state</th>\n",
       "      <th>min_salary</th>\n",
       "      <th>max_salary</th>\n",
       "      <th>avg_sal</th>\n",
       "    </tr>\n",
       "  </thead>\n",
       "  <tbody>\n",
       "    <tr>\n",
       "      <th>0</th>\n",
       "      <td>3.2</td>\n",
       "      <td>201 to 500 employees</td>\n",
       "      <td>1961.0</td>\n",
       "      <td>Nonprofit Organization</td>\n",
       "      <td>Social Assistance</td>\n",
       "      <td>Non-Profit</td>\n",
       "      <td>$100 to $500 million (USD)</td>\n",
       "      <td>NY</td>\n",
       "      <td>37.0</td>\n",
       "      <td>66.0</td>\n",
       "      <td>51.5</td>\n",
       "    </tr>\n",
       "    <tr>\n",
       "      <th>1</th>\n",
       "      <td>3.8</td>\n",
       "      <td>10000+ employees</td>\n",
       "      <td>1893.0</td>\n",
       "      <td>Nonprofit Organization</td>\n",
       "      <td>Health Care Services &amp; Hospitals</td>\n",
       "      <td>Health Care</td>\n",
       "      <td>$2 to $5 billion (USD)</td>\n",
       "      <td>NY</td>\n",
       "      <td>37.0</td>\n",
       "      <td>66.0</td>\n",
       "      <td>51.5</td>\n",
       "    </tr>\n",
       "    <tr>\n",
       "      <th>2</th>\n",
       "      <td>3.4</td>\n",
       "      <td>1001 to 5000 employees</td>\n",
       "      <td>2003.0</td>\n",
       "      <td>Company - Private</td>\n",
       "      <td>Internet</td>\n",
       "      <td>Information Technology</td>\n",
       "      <td>Unknown / Non-Applicable</td>\n",
       "      <td>NY</td>\n",
       "      <td>37.0</td>\n",
       "      <td>66.0</td>\n",
       "      <td>51.5</td>\n",
       "    </tr>\n",
       "    <tr>\n",
       "      <th>3</th>\n",
       "      <td>4.1</td>\n",
       "      <td>201 to 500 employees</td>\n",
       "      <td>2002.0</td>\n",
       "      <td>Subsidiary or Business Segment</td>\n",
       "      <td>IT Services</td>\n",
       "      <td>Information Technology</td>\n",
       "      <td>$50 to $100 million (USD)</td>\n",
       "      <td>NY</td>\n",
       "      <td>37.0</td>\n",
       "      <td>66.0</td>\n",
       "      <td>51.5</td>\n",
       "    </tr>\n",
       "    <tr>\n",
       "      <th>4</th>\n",
       "      <td>3.9</td>\n",
       "      <td>501 to 1000 employees</td>\n",
       "      <td>2009.0</td>\n",
       "      <td>Company - Private</td>\n",
       "      <td>Sports &amp; Recreation</td>\n",
       "      <td>Arts, Entertainment &amp; Recreation</td>\n",
       "      <td>$100 to $500 million (USD)</td>\n",
       "      <td>NY</td>\n",
       "      <td>37.0</td>\n",
       "      <td>66.0</td>\n",
       "      <td>51.5</td>\n",
       "    </tr>\n",
       "  </tbody>\n",
       "</table>\n",
       "</div>"
      ],
      "text/plain": [
       "   Rating                    Size  Founded               Type of ownership  \\\n",
       "0     3.2    201 to 500 employees   1961.0          Nonprofit Organization   \n",
       "1     3.8        10000+ employees   1893.0          Nonprofit Organization   \n",
       "2     3.4  1001 to 5000 employees   2003.0               Company - Private   \n",
       "3     4.1    201 to 500 employees   2002.0  Subsidiary or Business Segment   \n",
       "4     3.9   501 to 1000 employees   2009.0               Company - Private   \n",
       "\n",
       "                           Industry                            Sector  \\\n",
       "0                 Social Assistance                        Non-Profit   \n",
       "1  Health Care Services & Hospitals                       Health Care   \n",
       "2                          Internet            Information Technology   \n",
       "3                       IT Services            Information Technology   \n",
       "4               Sports & Recreation  Arts, Entertainment & Recreation   \n",
       "\n",
       "                      Revenue state  min_salary  max_salary  avg_sal  \n",
       "0  $100 to $500 million (USD)    NY        37.0        66.0     51.5  \n",
       "1      $2 to $5 billion (USD)    NY        37.0        66.0     51.5  \n",
       "2    Unknown / Non-Applicable    NY        37.0        66.0     51.5  \n",
       "3   $50 to $100 million (USD)    NY        37.0        66.0     51.5  \n",
       "4  $100 to $500 million (USD)    NY        37.0        66.0     51.5  "
      ]
     },
     "execution_count": 46,
     "metadata": {},
     "output_type": "execute_result"
    }
   ],
   "source": [
    "df.head()"
   ]
  },
  {
   "cell_type": "code",
   "execution_count": 47,
   "metadata": {},
   "outputs": [],
   "source": [
    "data1 = pd.get_dummies(df, columns=['Size', 'Revenue', 'Type of ownership', 'Industry', 'Sector','state'], dummy_na=True)\n",
    "\n",
    "#data1.columns.tolist()"
   ]
  },
  {
   "cell_type": "code",
   "execution_count": 48,
   "metadata": {},
   "outputs": [
    {
     "data": {
      "text/html": [
       "<div>\n",
       "<style scoped>\n",
       "    .dataframe tbody tr th:only-of-type {\n",
       "        vertical-align: middle;\n",
       "    }\n",
       "\n",
       "    .dataframe tbody tr th {\n",
       "        vertical-align: top;\n",
       "    }\n",
       "\n",
       "    .dataframe thead th {\n",
       "        text-align: right;\n",
       "    }\n",
       "</style>\n",
       "<table border=\"1\" class=\"dataframe\">\n",
       "  <thead>\n",
       "    <tr style=\"text-align: right;\">\n",
       "      <th></th>\n",
       "      <th>Rating</th>\n",
       "      <th>Founded</th>\n",
       "      <th>min_salary</th>\n",
       "      <th>max_salary</th>\n",
       "      <th>avg_sal</th>\n",
       "      <th>Size_1 to 50 employees</th>\n",
       "      <th>Size_10000+ employees</th>\n",
       "      <th>Size_1001 to 5000 employees</th>\n",
       "      <th>Size_201 to 500 employees</th>\n",
       "      <th>Size_5001 to 10000 employees</th>\n",
       "      <th>...</th>\n",
       "      <th>state_ NJ</th>\n",
       "      <th>state_ NY</th>\n",
       "      <th>state_ OH</th>\n",
       "      <th>state_ PA</th>\n",
       "      <th>state_ SC</th>\n",
       "      <th>state_ TX</th>\n",
       "      <th>state_ UT</th>\n",
       "      <th>state_ VA</th>\n",
       "      <th>state_ WA</th>\n",
       "      <th>state_nan</th>\n",
       "    </tr>\n",
       "  </thead>\n",
       "  <tbody>\n",
       "    <tr>\n",
       "      <th>0</th>\n",
       "      <td>3.2</td>\n",
       "      <td>1961.0</td>\n",
       "      <td>37.0</td>\n",
       "      <td>66.0</td>\n",
       "      <td>51.5</td>\n",
       "      <td>0</td>\n",
       "      <td>0</td>\n",
       "      <td>0</td>\n",
       "      <td>1</td>\n",
       "      <td>0</td>\n",
       "      <td>...</td>\n",
       "      <td>0</td>\n",
       "      <td>1</td>\n",
       "      <td>0</td>\n",
       "      <td>0</td>\n",
       "      <td>0</td>\n",
       "      <td>0</td>\n",
       "      <td>0</td>\n",
       "      <td>0</td>\n",
       "      <td>0</td>\n",
       "      <td>0</td>\n",
       "    </tr>\n",
       "    <tr>\n",
       "      <th>1</th>\n",
       "      <td>3.8</td>\n",
       "      <td>1893.0</td>\n",
       "      <td>37.0</td>\n",
       "      <td>66.0</td>\n",
       "      <td>51.5</td>\n",
       "      <td>0</td>\n",
       "      <td>1</td>\n",
       "      <td>0</td>\n",
       "      <td>0</td>\n",
       "      <td>0</td>\n",
       "      <td>...</td>\n",
       "      <td>0</td>\n",
       "      <td>1</td>\n",
       "      <td>0</td>\n",
       "      <td>0</td>\n",
       "      <td>0</td>\n",
       "      <td>0</td>\n",
       "      <td>0</td>\n",
       "      <td>0</td>\n",
       "      <td>0</td>\n",
       "      <td>0</td>\n",
       "    </tr>\n",
       "    <tr>\n",
       "      <th>2</th>\n",
       "      <td>3.4</td>\n",
       "      <td>2003.0</td>\n",
       "      <td>37.0</td>\n",
       "      <td>66.0</td>\n",
       "      <td>51.5</td>\n",
       "      <td>0</td>\n",
       "      <td>0</td>\n",
       "      <td>1</td>\n",
       "      <td>0</td>\n",
       "      <td>0</td>\n",
       "      <td>...</td>\n",
       "      <td>0</td>\n",
       "      <td>1</td>\n",
       "      <td>0</td>\n",
       "      <td>0</td>\n",
       "      <td>0</td>\n",
       "      <td>0</td>\n",
       "      <td>0</td>\n",
       "      <td>0</td>\n",
       "      <td>0</td>\n",
       "      <td>0</td>\n",
       "    </tr>\n",
       "    <tr>\n",
       "      <th>3</th>\n",
       "      <td>4.1</td>\n",
       "      <td>2002.0</td>\n",
       "      <td>37.0</td>\n",
       "      <td>66.0</td>\n",
       "      <td>51.5</td>\n",
       "      <td>0</td>\n",
       "      <td>0</td>\n",
       "      <td>0</td>\n",
       "      <td>1</td>\n",
       "      <td>0</td>\n",
       "      <td>...</td>\n",
       "      <td>0</td>\n",
       "      <td>1</td>\n",
       "      <td>0</td>\n",
       "      <td>0</td>\n",
       "      <td>0</td>\n",
       "      <td>0</td>\n",
       "      <td>0</td>\n",
       "      <td>0</td>\n",
       "      <td>0</td>\n",
       "      <td>0</td>\n",
       "    </tr>\n",
       "    <tr>\n",
       "      <th>4</th>\n",
       "      <td>3.9</td>\n",
       "      <td>2009.0</td>\n",
       "      <td>37.0</td>\n",
       "      <td>66.0</td>\n",
       "      <td>51.5</td>\n",
       "      <td>0</td>\n",
       "      <td>0</td>\n",
       "      <td>0</td>\n",
       "      <td>0</td>\n",
       "      <td>0</td>\n",
       "      <td>...</td>\n",
       "      <td>0</td>\n",
       "      <td>1</td>\n",
       "      <td>0</td>\n",
       "      <td>0</td>\n",
       "      <td>0</td>\n",
       "      <td>0</td>\n",
       "      <td>0</td>\n",
       "      <td>0</td>\n",
       "      <td>0</td>\n",
       "      <td>0</td>\n",
       "    </tr>\n",
       "  </tbody>\n",
       "</table>\n",
       "<p>5 rows × 175 columns</p>\n",
       "</div>"
      ],
      "text/plain": [
       "   Rating  Founded  min_salary  max_salary  avg_sal  Size_1 to 50 employees  \\\n",
       "0     3.2   1961.0        37.0        66.0     51.5                       0   \n",
       "1     3.8   1893.0        37.0        66.0     51.5                       0   \n",
       "2     3.4   2003.0        37.0        66.0     51.5                       0   \n",
       "3     4.1   2002.0        37.0        66.0     51.5                       0   \n",
       "4     3.9   2009.0        37.0        66.0     51.5                       0   \n",
       "\n",
       "   Size_10000+ employees  Size_1001 to 5000 employees  \\\n",
       "0                      0                            0   \n",
       "1                      1                            0   \n",
       "2                      0                            1   \n",
       "3                      0                            0   \n",
       "4                      0                            0   \n",
       "\n",
       "   Size_201 to 500 employees  Size_5001 to 10000 employees  ...  state_ NJ  \\\n",
       "0                          1                             0  ...          0   \n",
       "1                          0                             0  ...          0   \n",
       "2                          0                             0  ...          0   \n",
       "3                          1                             0  ...          0   \n",
       "4                          0                             0  ...          0   \n",
       "\n",
       "   state_ NY  state_ OH  state_ PA  state_ SC  state_ TX  state_ UT  \\\n",
       "0          1          0          0          0          0          0   \n",
       "1          1          0          0          0          0          0   \n",
       "2          1          0          0          0          0          0   \n",
       "3          1          0          0          0          0          0   \n",
       "4          1          0          0          0          0          0   \n",
       "\n",
       "   state_ VA  state_ WA  state_nan  \n",
       "0          0          0          0  \n",
       "1          0          0          0  \n",
       "2          0          0          0  \n",
       "3          0          0          0  \n",
       "4          0          0          0  \n",
       "\n",
       "[5 rows x 175 columns]"
      ]
     },
     "execution_count": 48,
     "metadata": {},
     "output_type": "execute_result"
    }
   ],
   "source": [
    "data1.head()"
   ]
  },
  {
   "cell_type": "code",
   "execution_count": 49,
   "metadata": {},
   "outputs": [],
   "source": [
    "# function to replace the dummy zeros to actual nan values\n",
    "def dummy_nan(col, col_name):\n",
    "    dcol = col.value_counts().index.tolist()\n",
    "    d_list = []\n",
    "    for i in dcol:\n",
    "        d_list.append(col_name+i)\n",
    "        \n",
    "    data1.loc[data1[col_name+'nan'] == 1, d_list] = np.nan\n",
    "    del data1[col_name+'nan']\n",
    "    \n",
    "dummy_nan(data['Size'], 'Size_')\n",
    "dummy_nan(data['Revenue'], 'Revenue_')\n",
    "dummy_nan(data['Type of ownership'], 'Type of ownership_')\n",
    "dummy_nan(data['Industry'], 'Industry_')\n",
    "dummy_nan(data['Sector'], 'Sector_')\n",
    "dummy_nan(data['state'], 'state_')"
   ]
  },
  {
   "cell_type": "code",
   "execution_count": 52,
   "metadata": {},
   "outputs": [],
   "source": [
    "from sklearn.impute import KNNImputer\n",
    "\n",
    "imputer = KNNImputer(n_neighbors=5, weights='uniform', metric='nan_euclidean')\n",
    "data_knn = imputer.fit_transform(data1)"
   ]
  },
  {
   "cell_type": "code",
   "execution_count": 58,
   "metadata": {},
   "outputs": [
    {
     "data": {
      "text/plain": [
       "array([[   3.2       , 1961.        ,   37.        , ...,    0.        ,\n",
       "           0.        ,    0.        ],\n",
       "       [   3.8       , 1893.        ,   37.        , ...,    0.        ,\n",
       "           0.        ,    0.        ],\n",
       "       [   3.4       , 2003.        ,   37.        , ...,    0.        ,\n",
       "           0.        ,    0.        ],\n",
       "       ...,\n",
       "       [   3.73190308, 1949.4       ,   78.        , ...,    0.        ,\n",
       "           0.        ,    0.        ],\n",
       "       [   3.1       , 1984.        ,   78.        , ...,    0.        ,\n",
       "           0.        ,    0.        ],\n",
       "       [   3.4       , 1864.        ,   78.        , ...,    0.        ,\n",
       "           0.        ,    0.        ]])"
      ]
     },
     "execution_count": 58,
     "metadata": {},
     "output_type": "execute_result"
    }
   ],
   "source": [
    "data_knn"
   ]
  },
  {
   "cell_type": "code",
   "execution_count": 66,
   "metadata": {},
   "outputs": [
    {
     "data": {
      "text/plain": [
       "(2252, 170)"
      ]
     },
     "execution_count": 66,
     "metadata": {},
     "output_type": "execute_result"
    }
   ],
   "source": [
    "data_knn.shape"
   ]
  },
  {
   "cell_type": "code",
   "execution_count": 60,
   "metadata": {},
   "outputs": [],
   "source": [
    "# check for missing values in the dataset after KNN imputation\n",
    "df1 = pd.DataFrame(data_knn)\n",
    "df1.isnull().sum().sum()"
   ]
  },
  {
   "cell_type": "markdown",
   "metadata": {},
   "source": [
    "### Exploratory Data Analysis"
   ]
  },
  {
   "cell_type": "code",
   "execution_count": 65,
   "metadata": {},
   "outputs": [
    {
     "data": {
      "text/plain": [
       "<matplotlib.axes._subplots.AxesSubplot at 0x2cdffc17220>"
      ]
     },
     "execution_count": 65,
     "metadata": {},
     "output_type": "execute_result"
    },
    {
     "data": {
      "image/png": "[encoded data removed]",
      "text/plain": [
       "<Figure size 1080x432 with 1 Axes>"
      ]
     },
     "metadata": {
      "needs_background": "light"
     },
     "output_type": "display_data"
    }
   ],
   "source": [
    "plt.figure(figsize=(15,6))\n",
    "sns.countplot('salary_estimate', data = data)\n",
    "plt.xticks(rotation=70)"
   ]
  },
  {
   "cell_type": "code",
   "execution_count": 76,
   "metadata": {},
   "outputs": [
    {
     "data": {
      "text/plain": [
       "$41K-$78K      57\n",
       "$42K-$76K      57\n",
       "$50K-$86K      41\n",
       "$35K-$67K      33\n",
       "$58K-$93K      31\n",
       "$43K-$76K      31\n",
       "$60K-$124K     31\n",
       "$46K-$86K      30\n",
       "$97K-$129K     30\n",
       "$42K-$66K      30\n",
       "Name: salary_estimate, dtype: int64"
      ]
     },
     "execution_count": 76,
     "metadata": {},
     "output_type": "execute_result"
    }
   ],
   "source": [
    "# top 10 Data Analyst salary estimates\n",
    "sal_est = data['salary_estimate'].value_counts().sort_values(ascending=False).head(10)\n",
    "sal_est"
   ]
  },
  {
   "cell_type": "markdown",
   "metadata": {},
   "source": [
    "### Top 10 salaries offered for Data Analyst Jobs"
   ]
  },
  {
   "cell_type": "code",
   "execution_count": 86,
   "metadata": {},
   "outputs": [
    {
     "data": {
      "text/plain": [
       "<matplotlib.axes._subplots.AxesSubplot at 0x2cd882857f0>"
      ]
     },
     "execution_count": 86,
     "metadata": {},
     "output_type": "execute_result"
    },
    {
     "data": {
      "image/png": "[encoded data removed]",
      "text/plain": [
       "<Figure size 720x432 with 1 Axes>"
      ]
     },
     "metadata": {
      "needs_background": "light"
     },
     "output_type": "display_data"
    }
   ],
   "source": [
    "plt.figure(figsize=(10,6))\n",
    "sns.barplot(sal_est.index.tolist(), sal_est.tolist())"
   ]
  },
  {
   "cell_type": "code",
   "execution_count": 87,
   "metadata": {},
   "outputs": [
    {
     "data": {
      "text/plain": [
       "<matplotlib.axes._subplots.AxesSubplot at 0x2cd882b2bb0>"
      ]
     },
     "execution_count": 87,
     "metadata": {},
     "output_type": "execute_result"
    },
    {
     "data": {
      "image/png": "[encoded data removed]",
      "text/plain": [
       "<Figure size 1080x432 with 1 Axes>"
      ]
     },
     "metadata": {
      "needs_background": "light"
     },
     "output_type": "display_data"
    }
   ],
   "source": [
    "# distribution of average salary\n",
    "plt.figure(figsize=(15,6))\n",
    "data['avg_sal'].hist(bins = 25, xlabelsize = 10)"
   ]
  },
  {
   "cell_type": "code",
   "execution_count": 33,
   "metadata": {},
   "outputs": [
    {
     "data": {
      "text/plain": [
       "33.5"
      ]
     },
     "execution_count": 33,
     "metadata": {},
     "output_type": "execute_result"
    }
   ],
   "source": [
    "data['avg_sal'].min()"
   ]
  },
  {
   "cell_type": "code",
   "execution_count": 34,
   "metadata": {},
   "outputs": [
    {
     "data": {
      "text/plain": [
       "150.0"
      ]
     },
     "execution_count": 34,
     "metadata": {},
     "output_type": "execute_result"
    }
   ],
   "source": [
    "data['avg_sal'].max()"
   ]
  },
  {
   "cell_type": "markdown",
   "metadata": {},
   "source": [
    "### Salary Distribution"
   ]
  },
  {
   "cell_type": "code",
   "execution_count": 163,
   "metadata": {},
   "outputs": [
    {
     "data": {
      "text/plain": [
       "Text(0.5, 0, 'Salary Distribution')"
      ]
     },
     "execution_count": 163,
     "metadata": {},
     "output_type": "execute_result"
    },
    {
     "data": {
      "image/png": "[encoded data removed]",
      "text/plain": [
       "<Figure size 1080x432 with 1 Axes>"
      ]
     },
     "metadata": {
      "needs_background": "light"
     },
     "output_type": "display_data"
    }
   ],
   "source": [
    "plt.figure(figsize=(15,6))\n",
    "sns.distplot(data['min_salary'], color='orange',label='Min Salary')\n",
    "sns.distplot(data['avg_sal'], color='blue',label='Avg Salary')\n",
    "sns.distplot(data['max_salary'], color='red',label='Max Salary')\n",
    "\n",
    "plt.legend()\n",
    "plt.xlabel('Salary Distribution')"
   ]
  },
  {
   "cell_type": "code",
   "execution_count": 93,
   "metadata": {},
   "outputs": [
    {
     "data": {
      "text/plain": [
       "Text(0.5, 0, 'Salary Distribution')"
      ]
     },
     "execution_count": 93,
     "metadata": {},
     "output_type": "execute_result"
    },
    {
     "data": {
      "image/png": "[encoded data removed]",
      "text/plain": [
       "<Figure size 1080x432 with 1 Axes>"
      ]
     },
     "metadata": {
      "needs_background": "light"
     },
     "output_type": "display_data"
    }
   ],
   "source": [
    "plt.figure(figsize=(15,6))\n",
    "data['min_salary'].hist(bins = 25, color='orange',label='min', alpha = 0.6)\n",
    "data['max_salary'].hist(bins = 25, color='red',label='max', alpha = 0.6)\n",
    "data['avg_sal'].hist(bins = 25, color='blue',label='avg', alpha = 0.6)\n",
    "plt.legend()\n",
    "plt.xlabel('Salary Distribution')"
   ]
  },
  {
   "cell_type": "markdown",
   "metadata": {},
   "source": [
    "from the above two graphs we can observe that the average salary of a large number of data analyst jobs lie between 40k to 80k"
   ]
  },
  {
   "cell_type": "code",
   "execution_count": 56,
   "metadata": {},
   "outputs": [
    {
     "data": {
      "text/plain": [
       "<matplotlib.axes._subplots.AxesSubplot at 0x14eff6703d0>"
      ]
     },
     "execution_count": 56,
     "metadata": {},
     "output_type": "execute_result"
    },
    {
     "data": {
      "image/png": "[encoded data removed]",
      "text/plain": [
       "<Figure size 432x288 with 1 Axes>"
      ]
     },
     "metadata": {
      "needs_background": "light"
     },
     "output_type": "display_data"
    }
   ],
   "source": [
    "sns.scatterplot('max_salary', 'Rating', data=data)"
   ]
  },
  {
   "cell_type": "markdown",
   "metadata": {},
   "source": [
    "we do not observe any correlation between salary and rating"
   ]
  },
  {
   "cell_type": "code",
   "execution_count": 99,
   "metadata": {},
   "outputs": [
    {
     "data": {
      "text/plain": [
       "<matplotlib.axes._subplots.AxesSubplot at 0x2cd886859d0>"
      ]
     },
     "execution_count": 99,
     "metadata": {},
     "output_type": "execute_result"
    },
    {
     "data": {
      "image/png": "[encoded data removed]",
      "text/plain": [
       "<Figure size 432x288 with 1 Axes>"
      ]
     },
     "metadata": {
      "needs_background": "light"
     },
     "output_type": "display_data"
    }
   ],
   "source": [
    "sns.distplot(data['Founded'])"
   ]
  },
  {
   "cell_type": "markdown",
   "metadata": {},
   "source": [
    "Majority of the companies hirirng for data analysts were founded in the last two decades"
   ]
  },
  {
   "cell_type": "code",
   "execution_count": 195,
   "metadata": {},
   "outputs": [
    {
     "data": {
      "text/plain": [
       "(array([0, 1, 2, 3, 4, 5, 6]), <a list of 7 Text major ticklabel objects>)"
      ]
     },
     "execution_count": 195,
     "metadata": {},
     "output_type": "execute_result"
    },
    {
     "data": {
      "image/png": "[encoded data removed]",
      "text/plain": [
       "<Figure size 864x432 with 1 Axes>"
      ]
     },
     "metadata": {
      "needs_background": "light"
     },
     "output_type": "display_data"
    }
   ],
   "source": [
    "plt.figure(figsize=(12,6))\n",
    "sns.countplot(data['Size'])\n",
    "plt.xticks(rotation=70)"
   ]
  },
  {
   "cell_type": "code",
   "execution_count": 171,
   "metadata": {},
   "outputs": [
    {
     "data": {
      "text/plain": [
       "<matplotlib.axes._subplots.AxesSubplot at 0x2cd905796d0>"
      ]
     },
     "execution_count": 171,
     "metadata": {},
     "output_type": "execute_result"
    },
    {
     "data": {
      "image/png": "[encoded data removed]",
      "text/plain": [
       "<Figure size 432x288 with 1 Axes>"
      ]
     },
     "metadata": {
      "needs_background": "light"
     },
     "output_type": "display_data"
    }
   ],
   "source": [
    "sns.distplot(data['Rating'])"
   ]
  },
  {
   "cell_type": "code",
   "execution_count": 112,
   "metadata": {},
   "outputs": [
    {
     "data": {
      "text/plain": [
       "2008.0    80\n",
       "2002.0    54\n",
       "1996.0    54\n",
       "2000.0    54\n",
       "1999.0    53\n",
       "Name: Founded, dtype: int64"
      ]
     },
     "execution_count": 112,
     "metadata": {},
     "output_type": "execute_result"
    }
   ],
   "source": [
    "data['Founded'].value_counts().head(5)"
   ]
  },
  {
   "cell_type": "code",
   "execution_count": 122,
   "metadata": {},
   "outputs": [
    {
     "data": {
      "text/plain": [
       "$100 to $500 million (USD)          218\n",
       "$50 to $100 million (USD)           199\n",
       "$10+ billion (USD)                  189\n",
       "$10 to $25 million (USD)            132\n",
       "$2 to $5 billion (USD)              129\n",
       "$1 to $5 million (USD)              111\n",
       "$25 to $50 million (USD)            110\n",
       "Less than $1 million (USD)           93\n",
       "$1 to $2 billion (USD)               87\n",
       "$500 million to $1 billion (USD)     79\n",
       "$5 to $10 million (USD)              72\n",
       "$5 to $10 billion (USD)              56\n",
       "Name: Revenue, dtype: int64"
      ]
     },
     "execution_count": 122,
     "metadata": {},
     "output_type": "execute_result"
    }
   ],
   "source": [
    "data['Revenue'].value_counts()"
   ]
  },
  {
   "cell_type": "code",
   "execution_count": 127,
   "metadata": {},
   "outputs": [
    {
     "data": {
      "text/plain": [
       "(array([ 0,  1,  2,  3,  4,  5,  6,  7,  8,  9, 10, 11]),\n",
       " <a list of 12 Text major ticklabel objects>)"
      ]
     },
     "execution_count": 127,
     "metadata": {},
     "output_type": "execute_result"
    },
    {
     "data": {
      "image/png": "[encoded data removed]",
      "text/plain": [
       "<Figure size 720x360 with 1 Axes>"
      ]
     },
     "metadata": {
      "needs_background": "light"
     },
     "output_type": "display_data"
    }
   ],
   "source": [
    "plt.figure(figsize=(10,5))\n",
    "sns.countplot(data['Revenue'])\n",
    "plt.xticks(rotation=70)"
   ]
  },
  {
   "cell_type": "code",
   "execution_count": 190,
   "metadata": {},
   "outputs": [
    {
     "data": {
      "text/plain": [
       "Text(0.5, 1.0, 'Jobs offered by Industry')"
      ]
     },
     "execution_count": 190,
     "metadata": {},
     "output_type": "execute_result"
    },
    {
     "data": {
      "image/png": "[encoded data removed]",
      "text/plain": [
       "<Figure size 720x360 with 1 Axes>"
      ]
     },
     "metadata": {
      "needs_background": "light"
     },
     "output_type": "display_data"
    }
   ],
   "source": [
    "indus = data['Industry'].value_counts().sort_values(ascending=False).index.tolist()[:10]\n",
    "indus_values = data['Industry'].value_counts().sort_values(ascending=False).tolist()[:10]\n",
    "\n",
    "plt.figure(figsize=(10,5))\n",
    "sns.barplot(indus, indus_values, palette=\"mako\")\n",
    "plt.xticks(rotation=70)\n",
    "plt.ylabel(\"Count\")\n",
    "plt.title('Jobs offered by Industry')"
   ]
  },
  {
   "cell_type": "code",
   "execution_count": 191,
   "metadata": {},
   "outputs": [
    {
     "data": {
      "text/plain": [
       "Text(0.5, 1.0, 'Jobs Offered by Sector')"
      ]
     },
     "execution_count": 191,
     "metadata": {},
     "output_type": "execute_result"
    },
    {
     "data": {
      "image/png": "[encoded data removed]",
      "text/plain": [
       "<Figure size 1080x432 with 1 Axes>"
      ]
     },
     "metadata": {
      "needs_background": "light"
     },
     "output_type": "display_data"
    }
   ],
   "source": [
    "sec = data['Sector'].value_counts().sort_values(ascending=False).index.tolist()\n",
    "sec_values = data['Sector'].value_counts().sort_values(ascending=False).tolist()\n",
    "\n",
    "plt.figure(figsize=(15,6))\n",
    "sns.barplot(sec, sec_values, palette='cubehelix')\n",
    "plt.xticks(rotation=70)\n",
    "plt.ylabel('Count')\n",
    "plt.title('Jobs Offered by Sector')"
   ]
  },
  {
   "cell_type": "code",
   "execution_count": 97,
   "metadata": {},
   "outputs": [
    {
     "data": {
      "text/plain": [
       "<matplotlib.axes._subplots.AxesSubplot at 0x2cd88464c10>"
      ]
     },
     "execution_count": 97,
     "metadata": {},
     "output_type": "execute_result"
    },
    {
     "data": {
      "image/png": "[encoded data removed]",
      "text/plain": [
       "<Figure size 432x288 with 1 Axes>"
      ]
     },
     "metadata": {
      "needs_background": "light"
     },
     "output_type": "display_data"
    }
   ],
   "source": [
    "sns.scatterplot('Founded', 'Rating', data=data)"
   ]
  },
  {
   "cell_type": "markdown",
   "metadata": {},
   "source": [
    "### Average Salary by State"
   ]
  },
  {
   "cell_type": "code",
   "execution_count": 43,
   "metadata": {},
   "outputs": [
    {
     "data": {
      "image/png": "[encoded data removed]",
      "text/plain": [
       "<Figure size 720x432 with 1 Axes>"
      ]
     },
     "metadata": {
      "needs_background": "light"
     },
     "output_type": "display_data"
    }
   ],
   "source": [
    "plt.figure(figsize=(10,6))\n",
    "b_plot = sns.barplot('state', 'avg_sal', data = data, palette='rocket')\n",
    "plt.title(\"Average Salary by State\")\n",
    "for p in b_plot.patches:\n",
    "    b_plot.annotate(format(p.get_height(), '.1f'), \n",
    "                   (p.get_x() + p.get_width() / 2., p.get_height()), \n",
    "                   ha = 'center', va = 'center', \n",
    "                   xytext = (0, 14), \n",
    "                   textcoords = 'offset points')"
   ]
  },
  {
   "cell_type": "code",
   "execution_count": 169,
   "metadata": {},
   "outputs": [
    {
     "data": {
      "text/plain": [
       "Text(0.5, 1.0, 'Number of Job Postings')"
      ]
     },
     "execution_count": 169,
     "metadata": {},
     "output_type": "execute_result"
    },
    {
     "data": {
      "image/png": "[encoded data removed]",
      "text/plain": [
       "<Figure size 720x432 with 1 Axes>"
      ]
     },
     "metadata": {
      "needs_background": "light"
     },
     "output_type": "display_data"
    }
   ],
   "source": [
    "plt.figure(figsize=(10,6))\n",
    "sns.countplot(data['state'], palette=\"viridis\")\n",
    "plt.title('Number of Job Postings')"
   ]
  },
  {
   "cell_type": "code",
   "execution_count": 145,
   "metadata": {},
   "outputs": [
    {
     "data": {
      "text/plain": [
       "(array([ 0,  1,  2,  3,  4,  5,  6,  7,  8,  9, 10, 11, 12]),\n",
       " <a list of 13 Text major ticklabel objects>)"
      ]
     },
     "execution_count": 145,
     "metadata": {},
     "output_type": "execute_result"
    },
    {
     "data": {
      "image/png": "[encoded data removed]",
      "text/plain": [
       "<Figure size 720x360 with 1 Axes>"
      ]
     },
     "metadata": {
      "needs_background": "light"
     },
     "output_type": "display_data"
    }
   ],
   "source": [
    "plt.figure(figsize=(10,5))\n",
    "sns.countplot(x='Type of ownership', data=data)\n",
    "plt.xticks(rotation=70)\n",
    "#plt.tight_layout()"
   ]
  },
  {
   "cell_type": "code",
   "execution_count": null,
   "metadata": {},
   "outputs": [],
   "source": []
  }
 ],
 "metadata": {
  "kernelspec": {
   "display_name": "Python 3",
   "language": "python",
   "name": "python3"
  },
  "language_info": {
   "codemirror_mode": {
    "name": "ipython",
    "version": 3
   },
   "file_extension": ".py",
   "mimetype": "text/x-python",
   "name": "python",
   "nbconvert_exporter": "python",
   "pygments_lexer": "ipython3",
   "version": "3.8.3"
  }
 },
 "nbformat": 4,
 "nbformat_minor": 4
}
